{
 "cells": [
  {
   "cell_type": "code",
   "execution_count": 2,
   "id": "be19f4c2-ab2d-4d19-8668-511e57a5ca2f",
   "metadata": {},
   "outputs": [],
   "source": [
    "# Python ≥3.5 is required\n",
    "import sys\n",
    "assert sys.version_info >= (3, 5)\n",
    "\n",
    "# Scikit-Learn ≥0.20 is required\n",
    "import sklearn\n",
    "assert sklearn.__version__ >= '0.20'\n",
    "\n",
    "from sklearn.impute import SimpleImputer\n",
    "#from sklearn.pipeline import Pipelines\n",
    "from sklearn.preprocessing import StandardScaler\n",
    "from sklearn.compose import ColumnTransformer\n",
    "from sklearn.model_selection import train_test_split\n",
    "from sklearn.metrics import confusion_matrix, classification_report, ConfusionMatrixDisplay\n",
    "\n",
    "# TensorFlow ≥2.0 is required\n",
    "import tensorflow_addons as tfa\n",
    "import tensorflow as tf\n",
    "assert tf.__version__ >= '2.0'\n",
    "\n",
    "from tensorflow import keras\n",
    "from tensorflow.keras import layers\n",
    "from tensorflow.keras.utils import plot_model\n",
    "\n",
    "#print(\"Num GPUs Available: \", len(tf.config.list_physical_devices('GPU')))\n",
    "\n",
    "# Common imports\n",
    "import os\n",
    "import glob\n",
    "import numpy as np\n",
    "import pandas as pd\n",
    "import geopandas as gpd\n",
    "import xarray as xr\n",
    "import dask\n",
    "import datetime\n",
    "import math\n",
    "dask.config.set({'array.slicing.split_large_chunks': False})\n",
    "\n",
    "# To make this notebook's output stable across runs\n",
    "np.random.seed(42)\n",
    "\n",
    "# Config matplotlib\n",
    "%matplotlib inline\n",
    "import matplotlib as mpl\n",
    "import matplotlib.pyplot as plt\n",
    "\n",
    "mpl.rc('axes', labelsize=14)\n",
    "mpl.rc('xtick', labelsize=12)\n",
    "mpl.rc('ytick', labelsize=12)\n",
    "\n",
    "# Custom utils\n",
    "from utils.utils_data import *\n",
    "from utils.utils_ml import *\n",
    "from utils.utils_plot import *\n",
    "from utils.utils_unet import *\n",
    "from utils.utils_resnet import *"
   ]
  },
  {
   "cell_type": "code",
   "execution_count": 3,
   "id": "14293dd8-8766-41e3-adf8-a3983e81321a",
   "metadata": {},
   "outputs": [],
   "source": [
    "# Paths\n",
    "DATADIR = '/storage/workspaces/giub_hydro/hydro/data/'\n",
    "#DATADIR = os.path.join(os.getcwd(), '..', 'data')\n",
    "\n",
    "# Some constants\n",
    "DATE_START = '1979-01-01'\n",
    "DATE_END = '2020-12-31'\n",
    "YY_TRAIN = [1979, 2015]\n",
    "YY_VAL = '2014'\n",
    "YY_TEST = [2016, 2020]\n",
    "sel_levels = [500, 850, 1000]\n",
    "G = 9.80665 "
   ]
  },
  {
   "cell_type": "code",
   "execution_count": 4,
   "id": "8e365d25-af9c-4b61-9abc-2d1ba6a62c4c",
   "metadata": {},
   "outputs": [
    {
     "name": "stdout",
     "output_type": "stream",
     "text": [
      "Extracting data for the period 1979-01-01 - 2020-12-31\n"
     ]
    }
   ],
   "source": [
    "# Read data\n",
    "# Precipitation ERA5\n",
    "pr = get_era5_data(DATADIR + '/ERA5/precipitation/day_grid1/*nc', DATE_START, DATE_END)\n",
    "lon_pr=pr.lon\n",
    "lat_pr=pr.lat\n",
    "pr_Datarray = xr.DataArray(pr.tp) # to make the format as pr95\n",
    "# Define precipitation extremes using the 95th\n",
    "th95 = 0.95\n",
    "pr95 = precip_exceedance_xarray(pr, th95)"
   ]
  },
  {
   "cell_type": "code",
   "execution_count": 5,
   "id": "65f75e93-93ac-455a-9268-d6df6face0a1",
   "metadata": {},
   "outputs": [
    {
     "name": "stdout",
     "output_type": "stream",
     "text": [
      "Extracting data for the period 1979-01-01 - 2020-12-31\n"
     ]
    }
   ],
   "source": [
    "# Read covariates: RH, T2m, geopotential, wind (1x1deg)\n",
    "z = get_era5_data(DATADIR + '/ERA5/geopotential/grid1/*.nc', DATE_START, DATE_END)\n",
    "z = z.sel(level=sel_levels)\n",
    "# Get Z in geopotential height (m)\n",
    "z.z.values = z.z.values/G\n",
    "# select the same coordinates values than precipitation\n",
    "z_new = z.sel(lon=slice(min(lon_pr), max(lon_pr)))"
   ]
  },
  {
   "cell_type": "code",
   "execution_count": 6,
   "id": "917a6086-bbd9-48a3-9665-dbcc9aefbd43",
   "metadata": {},
   "outputs": [
    {
     "name": "stdout",
     "output_type": "stream",
     "text": [
      "Extracting data for the period 1979-01-01 - 2020-12-31\n"
     ]
    }
   ],
   "source": [
    "# temperature\n",
    "t2m = get_era5_data(DATADIR + '/ERA5/temperature/grid1/Grid1_Daymean_era5_T2M_EU_19790101-20211231.nc', DATE_START, DATE_END)\n",
    "t2m['time'] = pd.DatetimeIndex(t2m.time.dt.date)\n",
    "# select the same coordinates values than precipitation\n",
    "t2m_new = t2m.sel(lon=slice(min(lon_pr), max(lon_pr)))\n",
    "t2m_1lev = t2m_new.expand_dims('level', axis=1)"
   ]
  },
  {
   "cell_type": "code",
   "execution_count": 7,
   "id": "987e0645-abae-4911-864c-c30e4d844884",
   "metadata": {},
   "outputs": [
    {
     "name": "stdout",
     "output_type": "stream",
     "text": [
      "Extracting data for the period 1979-01-01 - 2020-12-31\n"
     ]
    }
   ],
   "source": [
    "# relative humidity\n",
    "rh = get_era5_data(DATADIR + '/ERA5/relative_humidity/day_grid1/*.nc', DATE_START, DATE_END)\n",
    "rh['time'] = pd.DatetimeIndex(rh.time.dt.date) # need to have the same time-format\n",
    "rh = rh.sel(level=sel_levels)\n",
    "rh_new = rh.sel(lon=slice(min(lon_pr), max(lon_pr)))"
   ]
  },
  {
   "cell_type": "code",
   "execution_count": 8,
   "id": "500d70b5-f416-43a3-b76a-0fbcc811474b",
   "metadata": {},
   "outputs": [
    {
     "name": "stdout",
     "output_type": "stream",
     "text": [
      "Extracting data for the period 1979-01-01 - 2020-12-31\n",
      "Extracting data for the period 1979-01-01 - 2020-12-31\n"
     ]
    }
   ],
   "source": [
    "# Wind components 850hpa\n",
    "u850 = get_era5_data(DATADIR + '/ERA5/U_wind/day_grid1/*.nc', DATE_START, DATE_END)\n",
    "u850['time'] = pd.DatetimeIndex(u850.time.dt.date)\n",
    "u850_new = u850.sel(lon=slice(min(lon_pr), max(lon_pr)))\n",
    "v850 = get_era5_data(DATADIR + '/ERA5/V_wind/day_grid1/*.nc', DATE_START, DATE_END)\n",
    "v850['time'] = pd.DatetimeIndex(v850.time.dt.date)\n",
    "v850_new = v850.sel(lon=slice(min(lon_pr), max(lon_pr)))"
   ]
  },
  {
   "cell_type": "code",
   "execution_count": 9,
   "id": "395d1d4d-5f54-484e-a022-dbfb89539727",
   "metadata": {},
   "outputs": [
    {
     "name": "stdout",
     "output_type": "stream",
     "text": [
      "dimension of z Frozen({'time': 15341, 'lon': 71, 'lat': 51, 'level': 3})\n",
      "dimension of t2m: Frozen({'time': 15341, 'lon': 71, 'lat': 51})\n",
      "dimension of rh: Frozen({'time': 15341, 'lon': 71, 'lat': 51, 'level': 3})\n",
      "dimension of u: Frozen({'time': 15341, 'lon': 71, 'lat': 51})\n",
      "dimension of pr: Frozen({'time': 15341, 'lon': 71, 'lat': 51})\n"
     ]
    }
   ],
   "source": [
    "# checking dimensions\n",
    "print('dimension of z',z_new.dims)\n",
    "print('dimension of t2m:',t2m_new.dims)\n",
    "print('dimension of rh:',rh_new.dims)\n",
    "print('dimension of u:',u850_new.dims)\n",
    "print('dimension of pr:',pr.dims)"
   ]
  },
  {
   "cell_type": "code",
   "execution_count": 10,
   "id": "f51e5e8d-d3e7-48cd-aab3-8d9f463d172b",
   "metadata": {},
   "outputs": [],
   "source": [
    "# Then we need a dictionary for all the variables and levels we want to extract from the dataset\n",
    "#dic = OrderedDict({'z': 3, 'T2MMEAN':None, 'r':3})\n",
    "bs = 32\n",
    "dic = {'z': sel_levels,\n",
    "       'T2MMEAN': None,\n",
    "       'r': sel_levels}\n",
    "     #  'u': None,\n",
    "     #  'v': None}"
   ]
  },
  {
   "cell_type": "code",
   "execution_count": 11,
   "id": "11aefecc-b4d7-46e3-97be-892823632880",
   "metadata": {},
   "outputs": [],
   "source": [
    "# Data preparation\n",
    "# For the data generator all variables have to be merged into a single dataset.\n",
    "datasets = [z_new, t2m_new, rh_new]\n",
    "ds = xr.merge(datasets)"
   ]
  },
  {
   "cell_type": "code",
   "execution_count": 12,
   "id": "36baa69d-9819-43e8-b849-8fee3db9ebce",
   "metadata": {},
   "outputs": [],
   "source": [
    "# Split into training and test, then I will use DataGenerator class to get the validation\n",
    "ds_train = ds.sel(time=slice('{}-01-01'.format(YY_TRAIN[0]),\n",
    "                             '{}-12-31'.format(YY_TRAIN[1])))\n",
    "ds_test = ds.sel(time=slice('{}-01-01'.format(YY_TEST[0]),\n",
    "                            '{}-12-31'.format(YY_TEST[1])))"
   ]
  },
  {
   "cell_type": "code",
   "execution_count": 13,
   "id": "16e14887-db10-4cfc-bec0-e5ba81c63243",
   "metadata": {},
   "outputs": [
    {
     "name": "stdout",
     "output_type": "stream",
     "text": [
      "Loading data into RAM\n"
     ]
    }
   ],
   "source": [
    "# Create a training and validation data generator. Use the train mean and std for validation as well.\n",
    "lead_time = 5 # just in case of need\n",
    "dg_train = DataGenerator_extended(ds_train.sel(time=slice('1979', '2014')), dic, lead_time, batch_size=bs, load=True)"
   ]
  },
  {
   "cell_type": "code",
   "execution_count": 14,
   "id": "6dcec7b9-40fc-4624-ab14-a328342435f8",
   "metadata": {},
   "outputs": [
    {
     "name": "stdout",
     "output_type": "stream",
     "text": [
      "Loading data into RAM\n"
     ]
    }
   ],
   "source": [
    "# Create a validation. Use the train mean and std for validation as well. And suffle\n",
    "dg_val = DataGenerator_extended(ds_train.sel(time=slice('2015', '2015')), dic,lead_time, batch_size=bs,  mean=dg_train.mean, std=dg_train.std, load=True)"
   ]
  },
  {
   "cell_type": "code",
   "execution_count": 15,
   "id": "e28af3d4-b674-47ea-b43a-040b9681f1d8",
   "metadata": {},
   "outputs": [
    {
     "name": "stdout",
     "output_type": "stream",
     "text": [
      "Loading data into RAM\n"
     ]
    }
   ],
   "source": [
    "# Now also a generator for testing. Impartant: Shuffle must be False!\n",
    "dg_test = DataGenerator_extended(ds_test, dic, lead_time, batch_size=bs, mean=dg_train.mean, std=dg_train.std, shuffle=False)"
   ]
  },
  {
   "cell_type": "code",
   "execution_count": 16,
   "id": "5c81791f-56db-42b4-abc1-3bc31d37b325",
   "metadata": {},
   "outputs": [],
   "source": [
    "# Prepare the data\n",
    "X_train = xr.DataArray(dg_train.data)\n",
    "X_val = xr.DataArray(dg_val.data)\n",
    "X_test = xr.DataArray(dg_test.data)"
   ]
  },
  {
   "cell_type": "code",
   "execution_count": 17,
   "id": "ebf569cf-b3cc-4a61-997c-f210fe00f3ee",
   "metadata": {},
   "outputs": [],
   "source": [
    "X_train_input = np.array(X_train)\n",
    "X_val_input = np.array(X_val)\n",
    "X_test_input = np.array(X_test)"
   ]
  },
  {
   "cell_type": "code",
   "execution_count": 18,
   "id": "9be1fdf0-8075-42e1-bb09-455b71d3d68b",
   "metadata": {},
   "outputs": [],
   "source": [
    "Y_train, Y_val, Y_test = get_Y_sets(pr95, YY_TRAIN, YY_VAL, YY_TEST)"
   ]
  },
  {
   "cell_type": "code",
   "execution_count": 19,
   "id": "8e2c37d1-28ac-4ed2-82c7-ecbaaa2323af",
   "metadata": {},
   "outputs": [
    {
     "data": {
      "text/plain": [
       "(13149, 51, 71, 7)"
      ]
     },
     "execution_count": 19,
     "metadata": {},
     "output_type": "execute_result"
    }
   ],
   "source": [
    "X_train.shape"
   ]
  },
  {
   "cell_type": "code",
   "execution_count": 20,
   "id": "92e115a3-d8bf-4d0e-962a-57e6b65073f8",
   "metadata": {},
   "outputs": [
    {
     "data": {
      "text/plain": [
       "(13149, 51, 71)"
      ]
     },
     "execution_count": 20,
     "metadata": {},
     "output_type": "execute_result"
    }
   ],
   "source": [
    "Y_train.shape"
   ]
  },
  {
   "cell_type": "code",
   "execution_count": 21,
   "id": "2a9e0f9d-40a0-4c51-bb2d-d4a5bea3c9af",
   "metadata": {},
   "outputs": [
    {
     "name": "stderr",
     "output_type": "stream",
     "text": [
      "2022-01-29 14:28:17.037099: I tensorflow/core/platform/cpu_feature_guard.cc:151] This TensorFlow binary is optimized with oneAPI Deep Neural Network Library (oneDNN) to use the following CPU instructions in performance-critical operations:  AVX2 FMA\n",
      "To enable them in other operations, rebuild TensorFlow with the appropriate compiler flags.\n",
      "2022-01-29 14:28:17.782428: I tensorflow/core/common_runtime/gpu/gpu_device.cc:1525] Created device /job:localhost/replica:0/task:0/device:GPU:0 with 10411 MB memory:  -> device: 0, name: NVIDIA GeForce GTX 1080 Ti, pci bus id: 0000:0c:00.0, compute capability: 6.1\n"
     ]
    }
   ],
   "source": [
    "# Basic model . Adding wind components it's too large..run out of memory\n",
    "m0 = keras.models.Sequential([\n",
    "    layers.Input(shape=X_train.shape[1:]),\n",
    "    layers.Conv2D(16, (3,3), padding='same', activation='relu'),\n",
    "    layers.BatchNormalization(),\n",
    "    #layers.MaxPooling2D(pool_size=2),\n",
    "    layers.Dense(1, activation='sigmoid')])"
   ]
  },
  {
   "cell_type": "code",
   "execution_count": 22,
   "id": "3e8dc93f-b9fd-4437-96a0-a052ead9cede",
   "metadata": {},
   "outputs": [
    {
     "name": "stdout",
     "output_type": "stream",
     "text": [
      "Model: \"sequential\"\n",
      "_________________________________________________________________\n",
      " Layer (type)                Output Shape              Param #   \n",
      "=================================================================\n",
      " conv2d (Conv2D)             (None, 51, 71, 16)        1024      \n",
      "                                                                 \n",
      " batch_normalization (BatchN  (None, 51, 71, 16)       64        \n",
      " ormalization)                                                   \n",
      "                                                                 \n",
      " dense (Dense)               (None, 51, 71, 1)         17        \n",
      "                                                                 \n",
      "=================================================================\n",
      "Total params: 1,105\n",
      "Trainable params: 1,073\n",
      "Non-trainable params: 32\n",
      "_________________________________________________________________\n"
     ]
    }
   ],
   "source": [
    "m0.summary()"
   ]
  },
  {
   "cell_type": "code",
   "execution_count": 23,
   "id": "58cce63a-4ed6-462c-bd1f-f1eb78504ead",
   "metadata": {},
   "outputs": [
    {
     "name": "stdout",
     "output_type": "stream",
     "text": [
      "Epoch 1/10\n"
     ]
    },
    {
     "name": "stderr",
     "output_type": "stream",
     "text": [
      "2022-01-29 14:28:20.546589: I tensorflow/stream_executor/cuda/cuda_dnn.cc:366] Loaded cuDNN version 8201\n"
     ]
    },
    {
     "name": "stdout",
     "output_type": "stream",
     "text": [
      "411/411 [==============================] - 5s 6ms/step - loss: 0.3447 - accuracy: 0.9067 - val_loss: 0.2123 - val_accuracy: 0.9456\n",
      "Epoch 2/10\n",
      "411/411 [==============================] - 2s 6ms/step - loss: 0.1959 - accuracy: 0.9504 - val_loss: 0.2103 - val_accuracy: 0.9456\n",
      "Epoch 3/10\n",
      "411/411 [==============================] - 2s 6ms/step - loss: 0.1952 - accuracy: 0.9504 - val_loss: 0.2100 - val_accuracy: 0.9456\n",
      "Epoch 4/10\n",
      "411/411 [==============================] - 2s 6ms/step - loss: 0.1949 - accuracy: 0.9504 - val_loss: 0.2093 - val_accuracy: 0.9456\n",
      "Epoch 5/10\n",
      "411/411 [==============================] - 2s 6ms/step - loss: 0.1949 - accuracy: 0.9504 - val_loss: 0.2094 - val_accuracy: 0.9456\n",
      "Epoch 6/10\n",
      "411/411 [==============================] - 2s 6ms/step - loss: 0.1948 - accuracy: 0.9504 - val_loss: 0.2095 - val_accuracy: 0.9456\n",
      "Epoch 7/10\n",
      "411/411 [==============================] - 2s 6ms/step - loss: 0.1947 - accuracy: 0.9504 - val_loss: 0.2094 - val_accuracy: 0.9456\n",
      "Epoch 8/10\n",
      "411/411 [==============================] - 2s 6ms/step - loss: 0.1947 - accuracy: 0.9504 - val_loss: 0.2089 - val_accuracy: 0.9456\n",
      "Epoch 9/10\n",
      "411/411 [==============================] - 2s 6ms/step - loss: 0.1946 - accuracy: 0.9504 - val_loss: 0.2096 - val_accuracy: 0.9456\n",
      "Epoch 10/10\n",
      "411/411 [==============================] - 2s 6ms/step - loss: 0.1946 - accuracy: 0.9504 - val_loss: 0.2085 - val_accuracy: 0.9456\n"
     ]
    }
   ],
   "source": [
    "m0.compile(optimizer=keras.optimizers.Adam(), loss='binary_crossentropy', metrics=['accuracy'])\n",
    "h0= m0.fit(X_train_input, \n",
    "                Y_train,\n",
    "                         epochs=10,\n",
    "                         validation_data=(X_val_input, Y_val),\n",
    "                         shuffle=True)"
   ]
  },
  {
   "cell_type": "code",
   "execution_count": 24,
   "id": "90c38a5b-78ae-4fc9-9722-c4e4b763f159",
   "metadata": {},
   "outputs": [
    {
     "data": {
      "image/png": "[encoded data removed]",
      "text/plain": [
       "<Figure size 432x288 with 1 Axes>"
      ]
     },
     "metadata": {
      "needs_background": "light"
     },
     "output_type": "display_data"
    }
   ],
   "source": [
    "plot_hist(h0)"
   ]
  },
  {
   "cell_type": "markdown",
   "id": "80b6cb2d-9d5d-4c26-b7da-7b26c3d7858e",
   "metadata": {},
   "source": [
    "# U-Net architecture"
   ]
  },
  {
   "cell_type": "code",
   "execution_count": 25,
   "id": "7dcd284b-a6c8-4b84-8702-8668bfc67478",
   "metadata": {},
   "outputs": [],
   "source": [
    "# (still working on this...)\n",
    "# encoder-decoder"
   ]
  },
  {
   "cell_type": "code",
   "execution_count": 26,
   "id": "218742f7-ac5b-4f41-8f84-3c8792ff5948",
   "metadata": {},
   "outputs": [],
   "source": [
    "from keras.models import Sequential\n",
    "from keras.layers.wrappers import TimeDistributed\n",
    "from keras.models import Sequential\n",
    "from keras.layers import Dense,LSTM,Conv2D, BatchNormalization,Flatten, MaxPooling2D\n",
    "from keras.layers import Conv2DTranspose,Concatenate,UpSampling2D,Cropping2D\n",
    "from keras.layers import Input, Lambda, Reshape, Dropout, Activation\n",
    "\n",
    "from tensorflow.keras.layers import Conv2D, BatchNormalization, Activation, MaxPool2D, Conv2DTranspose, Concatenate, Input\n",
    "from tensorflow.keras.models import Model"
   ]
  },
  {
   "cell_type": "code",
   "execution_count": 27,
   "id": "aa07cef7-16b4-4b7a-911f-fbe0d3b88fd1",
   "metadata": {},
   "outputs": [
    {
     "data": {
      "text/plain": [
       "(13149, 48, 64, 7)"
      ]
     },
     "execution_count": 27,
     "metadata": {},
     "output_type": "execute_result"
    }
   ],
   "source": [
    "X_train[:,0:48,0:64].shape"
   ]
  },
  {
   "cell_type": "code",
   "execution_count": 28,
   "id": "4688a9a2-4c2a-410b-a5de-9c028cd03969",
   "metadata": {},
   "outputs": [],
   "source": [
    "# first try\n",
    "#input_s = X_train.shape[1:]\n",
    "input_s = X_train[:,0:48,0:64].shape[1:]\n",
    "num_filters= 16\n",
    "pad=\"same\"\n",
    "ks = (3,3)\n",
    "activation='relu'"
   ]
  },
  {
   "cell_type": "code",
   "execution_count": 29,
   "id": "1e807a30-fab1-48c1-818b-25d33e5c88d1",
   "metadata": {},
   "outputs": [
    {
     "name": "stdout",
     "output_type": "stream",
     "text": [
      "Max pool 1: (None, 24, 32, 16)\n",
      "Max pool 2: (None, 12, 16, 32)\n",
      "Max pool 3: (None, 6, 8, 64)\n",
      "Max pool 4: (None, 3, 4, 128)\n",
      "conv 4 (None, 6, 8, 128)\n",
      "Down sampling last layers output shape: (None, 3, 4, 256)\n",
      "(None, 6, 8, 256)\n",
      "Up-conv 1: (None, 6, 8, 128)\n",
      "KerasTensor(type_spec=TensorSpec(shape=(None, 12, 16, 128), dtype=tf.float32, name=None), name='up_sampling2d_1/resize/ResizeNearestNeighbor:0', description=\"created by layer 'up_sampling2d_1'\")\n",
      "(None, 12, 16, 64)\n",
      "Up_conv 2: (None, 12, 16, 64)\n",
      "Conv 3 merger (None, 24, 32, 96)\n",
      "Up-conv 3: (None, 24, 32, 32)\n",
      "Up-conv 4: (None, 48, 64, 16)\n"
     ]
    }
   ],
   "source": [
    "um = Unet1(input_s, num_filters, ks, activation)"
   ]
  },
  {
   "cell_type": "code",
   "execution_count": 30,
   "id": "4c23e267-aedb-4b53-9ca8-cca039529632",
   "metadata": {},
   "outputs": [],
   "source": [
    "um.compile(optimizer=keras.optimizers.Adam(), loss='binary_crossentropy', metrics=['accuracy'])"
   ]
  },
  {
   "cell_type": "code",
   "execution_count": 31,
   "id": "65d9f2be-d1ee-44e6-9512-48d8c703454a",
   "metadata": {},
   "outputs": [
    {
     "name": "stdout",
     "output_type": "stream",
     "text": [
      "Epoch 1/10\n",
      "411/411 [==============================] - 10s 19ms/step - loss: 0.1863 - accuracy: 0.9475 - val_loss: 0.1591 - val_accuracy: 0.9445\n",
      "Epoch 2/10\n",
      "411/411 [==============================] - 7s 17ms/step - loss: 0.1342 - accuracy: 0.9530 - val_loss: 0.1362 - val_accuracy: 0.9507\n",
      "Epoch 3/10\n",
      "411/411 [==============================] - 7s 17ms/step - loss: 0.1222 - accuracy: 0.9556 - val_loss: 0.1288 - val_accuracy: 0.9520\n",
      "Epoch 4/10\n",
      "411/411 [==============================] - 7s 17ms/step - loss: 0.1159 - accuracy: 0.9571 - val_loss: 0.1250 - val_accuracy: 0.9529\n",
      "Epoch 5/10\n",
      "411/411 [==============================] - 7s 17ms/step - loss: 0.1117 - accuracy: 0.9582 - val_loss: 0.1203 - val_accuracy: 0.9544\n",
      "Epoch 6/10\n",
      "411/411 [==============================] - 7s 17ms/step - loss: 0.1085 - accuracy: 0.9591 - val_loss: 0.1189 - val_accuracy: 0.9547\n",
      "Epoch 7/10\n",
      "411/411 [==============================] - 7s 17ms/step - loss: 0.1055 - accuracy: 0.9600 - val_loss: 0.1170 - val_accuracy: 0.9552\n",
      "Epoch 8/10\n",
      "411/411 [==============================] - 7s 17ms/step - loss: 0.1036 - accuracy: 0.9605 - val_loss: 0.1159 - val_accuracy: 0.9558\n",
      "Epoch 9/10\n",
      "411/411 [==============================] - 7s 17ms/step - loss: 0.1013 - accuracy: 0.9612 - val_loss: 0.1150 - val_accuracy: 0.9565\n",
      "Epoch 10/10\n",
      "411/411 [==============================] - 7s 17ms/step - loss: 0.0996 - accuracy: 0.9617 - val_loss: 0.1147 - val_accuracy: 0.9562\n"
     ]
    }
   ],
   "source": [
    "h_unet = um.fit(X_train_input[:,0:48,0:64], \n",
    "                Y_train[:,0:48,0:64],\n",
    "                         epochs=10,\n",
    "                         validation_data=(X_val_input[:,0:48,0:64], Y_val[:,0:48,0:64]),\n",
    "                         shuffle=True)"
   ]
  },
  {
   "cell_type": "code",
   "execution_count": 32,
   "id": "d19bc99b-f69e-49cb-9ff0-c421b7f61dda",
   "metadata": {},
   "outputs": [
    {
     "data": {
      "image/png": "[encoded data removed]",
      "text/plain": [
       "<Figure size 432x288 with 1 Axes>"
      ]
     },
     "metadata": {
      "needs_background": "light"
     },
     "output_type": "display_data"
    }
   ],
   "source": [
    "plot_hist(h_unet)"
   ]
  },
  {
   "cell_type": "markdown",
   "id": "428d0937-90a9-4695-806a-419d78281728",
   "metadata": {},
   "source": [
    "## Unet-2 "
   ]
  },
  {
   "cell_type": "code",
   "execution_count": 35,
   "id": "2517ab82-9af1-4bea-87a5-ffae074cf2d4",
   "metadata": {},
   "outputs": [],
   "source": [
    "output_channels=1\n",
    "um2 = Unet2(input_s, output_channels)\n",
    "um2=um2.build_model()"
   ]
  },
  {
   "cell_type": "code",
   "execution_count": 36,
   "id": "f2cc457c-b6e2-49e6-8022-4d036a529ed5",
   "metadata": {},
   "outputs": [
    {
     "name": "stdout",
     "output_type": "stream",
     "text": [
      "Model: \"model_2\"\n",
      "__________________________________________________________________________________________________\n",
      " Layer (type)                   Output Shape         Param #     Connected to                     \n",
      "==================================================================================================\n",
      " input_4 (InputLayer)           [(None, 48, 64, 7)]  0           []                               \n",
      "                                                                                                  \n",
      " conv2d_39 (Conv2D)             (None, 48, 64, 64)   4096        ['input_4[0][0]']                \n",
      "                                                                                                  \n",
      " batch_normalization_18 (BatchN  (None, 48, 64, 64)  256         ['conv2d_39[0][0]']              \n",
      " ormalization)                                                                                    \n",
      "                                                                                                  \n",
      " dropout_9 (Dropout)            (None, 48, 64, 64)   0           ['batch_normalization_18[0][0]'] \n",
      "                                                                                                  \n",
      " conv2d_40 (Conv2D)             (None, 48, 64, 64)   36928       ['dropout_9[0][0]']              \n",
      "                                                                                                  \n",
      " batch_normalization_19 (BatchN  (None, 48, 64, 64)  256         ['conv2d_40[0][0]']              \n",
      " ormalization)                                                                                    \n",
      "                                                                                                  \n",
      " max_pooling2d_8 (MaxPooling2D)  (None, 24, 32, 64)  0           ['batch_normalization_19[0][0]'] \n",
      "                                                                                                  \n",
      " conv2d_41 (Conv2D)             (None, 24, 32, 128)  73856       ['max_pooling2d_8[0][0]']        \n",
      "                                                                                                  \n",
      " batch_normalization_20 (BatchN  (None, 24, 32, 128)  512        ['conv2d_41[0][0]']              \n",
      " ormalization)                                                                                    \n",
      "                                                                                                  \n",
      " dropout_10 (Dropout)           (None, 24, 32, 128)  0           ['batch_normalization_20[0][0]'] \n",
      "                                                                                                  \n",
      " conv2d_42 (Conv2D)             (None, 24, 32, 128)  147584      ['dropout_10[0][0]']             \n",
      "                                                                                                  \n",
      " batch_normalization_21 (BatchN  (None, 24, 32, 128)  512        ['conv2d_42[0][0]']              \n",
      " ormalization)                                                                                    \n",
      "                                                                                                  \n",
      " max_pooling2d_9 (MaxPooling2D)  (None, 12, 16, 128)  0          ['batch_normalization_21[0][0]'] \n",
      "                                                                                                  \n",
      " conv2d_43 (Conv2D)             (None, 12, 16, 256)  295168      ['max_pooling2d_9[0][0]']        \n",
      "                                                                                                  \n",
      " batch_normalization_22 (BatchN  (None, 12, 16, 256)  1024       ['conv2d_43[0][0]']              \n",
      " ormalization)                                                                                    \n",
      "                                                                                                  \n",
      " dropout_11 (Dropout)           (None, 12, 16, 256)  0           ['batch_normalization_22[0][0]'] \n",
      "                                                                                                  \n",
      " conv2d_44 (Conv2D)             (None, 12, 16, 256)  590080      ['dropout_11[0][0]']             \n",
      "                                                                                                  \n",
      " batch_normalization_23 (BatchN  (None, 12, 16, 256)  1024       ['conv2d_44[0][0]']              \n",
      " ormalization)                                                                                    \n",
      "                                                                                                  \n",
      " max_pooling2d_10 (MaxPooling2D  (None, 6, 8, 256)   0           ['batch_normalization_23[0][0]'] \n",
      " )                                                                                                \n",
      "                                                                                                  \n",
      " conv2d_45 (Conv2D)             (None, 6, 8, 512)    1180160     ['max_pooling2d_10[0][0]']       \n",
      "                                                                                                  \n",
      " batch_normalization_24 (BatchN  (None, 6, 8, 512)   2048        ['conv2d_45[0][0]']              \n",
      " ormalization)                                                                                    \n",
      "                                                                                                  \n",
      " dropout_12 (Dropout)           (None, 6, 8, 512)    0           ['batch_normalization_24[0][0]'] \n",
      "                                                                                                  \n",
      " conv2d_46 (Conv2D)             (None, 6, 8, 512)    2359808     ['dropout_12[0][0]']             \n",
      "                                                                                                  \n",
      " batch_normalization_25 (BatchN  (None, 6, 8, 512)   2048        ['conv2d_46[0][0]']              \n",
      " ormalization)                                                                                    \n",
      "                                                                                                  \n",
      " max_pooling2d_11 (MaxPooling2D  (None, 3, 4, 512)   0           ['batch_normalization_25[0][0]'] \n",
      " )                                                                                                \n",
      "                                                                                                  \n",
      " conv2d_47 (Conv2D)             (None, 3, 4, 1024)   4719616     ['max_pooling2d_11[0][0]']       \n",
      "                                                                                                  \n",
      " batch_normalization_26 (BatchN  (None, 3, 4, 1024)  4096        ['conv2d_47[0][0]']              \n",
      " ormalization)                                                                                    \n",
      "                                                                                                  \n",
      " dropout_13 (Dropout)           (None, 3, 4, 1024)   0           ['batch_normalization_26[0][0]'] \n",
      "                                                                                                  \n",
      " conv2d_48 (Conv2D)             (None, 3, 4, 1024)   9438208     ['dropout_13[0][0]']             \n",
      "                                                                                                  \n",
      " batch_normalization_27 (BatchN  (None, 3, 4, 1024)  4096        ['conv2d_48[0][0]']              \n",
      " ormalization)                                                                                    \n",
      "                                                                                                  \n",
      " conv2d_transpose_4 (Conv2DTran  (None, 6, 8, 512)   2097664     ['batch_normalization_27[0][0]'] \n",
      " spose)                                                                                           \n",
      "                                                                                                  \n",
      " concatenate_8 (Concatenate)    (None, 6, 8, 1024)   0           ['conv2d_transpose_4[0][0]',     \n",
      "                                                                  'batch_normalization_25[0][0]'] \n",
      "                                                                                                  \n",
      " conv2d_49 (Conv2D)             (None, 6, 8, 512)    4719104     ['concatenate_8[0][0]']          \n",
      "                                                                                                  \n",
      " batch_normalization_28 (BatchN  (None, 6, 8, 512)   2048        ['conv2d_49[0][0]']              \n",
      " ormalization)                                                                                    \n",
      "                                                                                                  \n",
      " dropout_14 (Dropout)           (None, 6, 8, 512)    0           ['batch_normalization_28[0][0]'] \n",
      "                                                                                                  \n",
      " conv2d_50 (Conv2D)             (None, 6, 8, 512)    2359808     ['dropout_14[0][0]']             \n",
      "                                                                                                  \n",
      " batch_normalization_29 (BatchN  (None, 6, 8, 512)   2048        ['conv2d_50[0][0]']              \n",
      " ormalization)                                                                                    \n",
      "                                                                                                  \n",
      " conv2d_transpose_5 (Conv2DTran  (None, 12, 16, 256)  524544     ['batch_normalization_29[0][0]'] \n",
      " spose)                                                                                           \n",
      "                                                                                                  \n",
      " concatenate_9 (Concatenate)    (None, 12, 16, 512)  0           ['conv2d_transpose_5[0][0]',     \n",
      "                                                                  'batch_normalization_23[0][0]'] \n",
      "                                                                                                  \n",
      " conv2d_51 (Conv2D)             (None, 12, 16, 256)  1179904     ['concatenate_9[0][0]']          \n",
      "                                                                                                  \n",
      " batch_normalization_30 (BatchN  (None, 12, 16, 256)  1024       ['conv2d_51[0][0]']              \n",
      " ormalization)                                                                                    \n",
      "                                                                                                  \n",
      " dropout_15 (Dropout)           (None, 12, 16, 256)  0           ['batch_normalization_30[0][0]'] \n",
      "                                                                                                  \n",
      " conv2d_52 (Conv2D)             (None, 12, 16, 256)  590080      ['dropout_15[0][0]']             \n",
      "                                                                                                  \n",
      " batch_normalization_31 (BatchN  (None, 12, 16, 256)  1024       ['conv2d_52[0][0]']              \n",
      " ormalization)                                                                                    \n",
      "                                                                                                  \n",
      " conv2d_transpose_6 (Conv2DTran  (None, 24, 32, 128)  131200     ['batch_normalization_31[0][0]'] \n",
      " spose)                                                                                           \n",
      "                                                                                                  \n",
      " concatenate_10 (Concatenate)   (None, 24, 32, 256)  0           ['conv2d_transpose_6[0][0]',     \n",
      "                                                                  'batch_normalization_21[0][0]'] \n",
      "                                                                                                  \n",
      " conv2d_53 (Conv2D)             (None, 24, 32, 128)  295040      ['concatenate_10[0][0]']         \n",
      "                                                                                                  \n",
      " batch_normalization_32 (BatchN  (None, 24, 32, 128)  512        ['conv2d_53[0][0]']              \n",
      " ormalization)                                                                                    \n",
      "                                                                                                  \n",
      " dropout_16 (Dropout)           (None, 24, 32, 128)  0           ['batch_normalization_32[0][0]'] \n",
      "                                                                                                  \n",
      " conv2d_54 (Conv2D)             (None, 24, 32, 128)  147584      ['dropout_16[0][0]']             \n",
      "                                                                                                  \n",
      " batch_normalization_33 (BatchN  (None, 24, 32, 128)  512        ['conv2d_54[0][0]']              \n",
      " ormalization)                                                                                    \n",
      "                                                                                                  \n",
      " conv2d_transpose_7 (Conv2DTran  (None, 48, 64, 64)  32832       ['batch_normalization_33[0][0]'] \n",
      " spose)                                                                                           \n",
      "                                                                                                  \n",
      " concatenate_11 (Concatenate)   (None, 48, 64, 128)  0           ['conv2d_transpose_7[0][0]',     \n",
      "                                                                  'batch_normalization_19[0][0]'] \n",
      "                                                                                                  \n",
      " conv2d_55 (Conv2D)             (None, 48, 64, 64)   73792       ['concatenate_11[0][0]']         \n",
      "                                                                                                  \n",
      " batch_normalization_34 (BatchN  (None, 48, 64, 64)  256         ['conv2d_55[0][0]']              \n",
      " ormalization)                                                                                    \n",
      "                                                                                                  \n",
      " dropout_17 (Dropout)           (None, 48, 64, 64)   0           ['batch_normalization_34[0][0]'] \n",
      "                                                                                                  \n",
      " conv2d_56 (Conv2D)             (None, 48, 64, 64)   36928       ['dropout_17[0][0]']             \n",
      "                                                                                                  \n",
      " conv2d_57 (Conv2D)             (None, 48, 64, 1)    65          ['conv2d_56[0][0]']              \n",
      "                                                                                                  \n",
      "==================================================================================================\n",
      "Total params: 31,057,345\n",
      "Trainable params: 31,045,697\n",
      "Non-trainable params: 11,648\n",
      "__________________________________________________________________________________________________\n"
     ]
    }
   ],
   "source": [
    "um2.summary()"
   ]
  },
  {
   "cell_type": "code",
   "execution_count": 37,
   "id": "589f5810-fa21-4852-a915-561d6ba7afa5",
   "metadata": {},
   "outputs": [],
   "source": [
    "um2.compile(optimizer=keras.optimizers.Adam(), loss='binary_crossentropy', metrics=['accuracy'])"
   ]
  },
  {
   "cell_type": "code",
   "execution_count": 38,
   "id": "e724f29e-632b-4e39-911b-1846261a1eb4",
   "metadata": {},
   "outputs": [
    {
     "name": "stdout",
     "output_type": "stream",
     "text": [
      "Epoch 1/10\n",
      "411/411 [==============================] - 35s 77ms/step - loss: 0.1645 - accuracy: 0.9472 - val_loss: 0.1691 - val_accuracy: 0.9283\n",
      "Epoch 2/10\n",
      "411/411 [==============================] - 30s 72ms/step - loss: 0.1210 - accuracy: 0.9553 - val_loss: 0.1502 - val_accuracy: 0.9367\n",
      "Epoch 3/10\n",
      "411/411 [==============================] - 30s 72ms/step - loss: 0.1115 - accuracy: 0.9577 - val_loss: 0.1187 - val_accuracy: 0.9533\n",
      "Epoch 4/10\n",
      "411/411 [==============================] - 30s 72ms/step - loss: 0.1054 - accuracy: 0.9593 - val_loss: 0.1188 - val_accuracy: 0.9533\n",
      "Epoch 5/10\n",
      "411/411 [==============================] - 30s 72ms/step - loss: 0.1008 - accuracy: 0.9607 - val_loss: 0.1095 - val_accuracy: 0.9574\n",
      "Epoch 6/10\n",
      "411/411 [==============================] - 30s 72ms/step - loss: 0.0976 - accuracy: 0.9617 - val_loss: 0.1065 - val_accuracy: 0.9582\n",
      "Epoch 7/10\n",
      "411/411 [==============================] - 30s 72ms/step - loss: 0.0949 - accuracy: 0.9626 - val_loss: 0.1075 - val_accuracy: 0.9577\n",
      "Epoch 8/10\n",
      "411/411 [==============================] - 30s 72ms/step - loss: 0.0923 - accuracy: 0.9635 - val_loss: 0.1046 - val_accuracy: 0.9591\n",
      "Epoch 9/10\n",
      "411/411 [==============================] - 30s 72ms/step - loss: 0.0902 - accuracy: 0.9641 - val_loss: 0.1080 - val_accuracy: 0.9562\n",
      "Epoch 10/10\n",
      "411/411 [==============================] - 30s 72ms/step - loss: 0.0878 - accuracy: 0.9650 - val_loss: 0.1071 - val_accuracy: 0.9568\n"
     ]
    }
   ],
   "source": [
    "h_unet2 = um2.fit(X_train_input[:,0:48,0:64], \n",
    "                Y_train[:,0:48,0:64],\n",
    "                         epochs=10,\n",
    "                         validation_data=(X_val_input[:,0:48,0:64], Y_val[:,0:48,0:64]),\n",
    "                         shuffle=True)"
   ]
  },
  {
   "cell_type": "code",
   "execution_count": 31,
   "id": "51aa85d4-81c6-4f33-a76f-86713d33d90d",
   "metadata": {},
   "outputs": [
    {
     "data": {
      "image/png": "[encoded data removed]",
      "text/plain": [
       "<Figure size 432x288 with 1 Axes>"
      ]
     },
     "metadata": {
      "needs_background": "light"
     },
     "output_type": "display_data"
    }
   ],
   "source": [
    "plot_hist(h_unet2)"
   ]
  },
  {
   "cell_type": "code",
   "execution_count": 56,
   "id": "cabb06f3-67a2-4e56-976f-73588bfa2612",
   "metadata": {},
   "outputs": [],
   "source": [
    "# make predictions\n",
    "pred = um2.predict(X_test_input[:,0:48,0:64])"
   ]
  },
  {
   "cell_type": "code",
   "execution_count": 57,
   "id": "b91cd024-0965-42e5-a0cf-3fd933b327b2",
   "metadata": {},
   "outputs": [],
   "source": [
    "# Convert to xr.array\n",
    "pred = xr.DataArray(pred.reshape(1827,48,64), coords=[ds_test.time, ds_test.lat[0:48], ds_test.lon[0:64]],dims=[\"time\",'lat','lon'])\n",
    "true = xr.DataArray(Y_test[:,0:48,0:64], coords=[ds_test.time, ds_test.lat[0:48], ds_test.lon[0:64]],dims=[\"time\",'lat','lon'])"
   ]
  },
  {
   "cell_type": "code",
   "execution_count": 67,
   "id": "34d2999f-2675-44dd-a190-5cd068b0bd20",
   "metadata": {},
   "outputs": [],
   "source": [
    "rmse = compute_weighted_rmse(true,pred) #OK, I need to check this out.."
   ]
  },
  {
   "cell_type": "markdown",
   "id": "cfe19777-9fa3-4af2-bfef-3c864b2b490f",
   "metadata": {},
   "source": [
    "## ResNet"
   ]
  },
  {
   "cell_type": "code",
   "execution_count": 147,
   "id": "b6079dd5-6258-4ac5-8724-4645c6c01e46",
   "metadata": {},
   "outputs": [],
   "source": [
    "inputs = Input(shape=input_s)\n",
    "out_s = input_s[0]*input_s[1]"
   ]
  },
  {
   "cell_type": "code",
   "execution_count": 148,
   "id": "5667f957-194a-4931-9f69-5044f1519e9a",
   "metadata": {},
   "outputs": [
    {
     "data": {
      "text/plain": [
       "TensorShape([None, 11, 15, 64])"
      ]
     },
     "execution_count": 148,
     "metadata": {},
     "output_type": "execute_result"
    }
   ],
   "source": [
    "x = conv_batchnorm_relu(inputs, filters=64, kernel_size=3, strides=2)\n",
    "x.shape\n",
    "x = MaxPool2D(pool_size = 3, strides =2)(x)\n",
    "x.shape"
   ]
  },
  {
   "cell_type": "code",
   "execution_count": 149,
   "id": "cee94355-cc92-47d0-a2d1-9c1ba6bf0dc6",
   "metadata": {},
   "outputs": [],
   "source": [
    "x = resnet_block(x, filters=64, reps =3, strides=1)\n",
    "#x = resnet_block(x, filters=128, reps =4, strides=2)\n",
    "#x = resnet_block(x, filters=256, reps =6, strides=2)\n",
    "#x = resnet_block(x, filters=512, reps =3, strides=2)\n",
    "x = GlobalAvgPool2D()(x)"
   ]
  },
  {
   "cell_type": "code",
   "execution_count": 150,
   "id": "1a1d97bf-950b-4506-adbe-38469eb9100e",
   "metadata": {},
   "outputs": [
    {
     "data": {
      "text/plain": [
       "TensorShape([None, 256])"
      ]
     },
     "execution_count": 150,
     "metadata": {},
     "output_type": "execute_result"
    }
   ],
   "source": [
    "x.shape"
   ]
  },
  {
   "cell_type": "code",
   "execution_count": 151,
   "id": "9a103059-d641-4e4f-88af-5f263f0eb071",
   "metadata": {},
   "outputs": [],
   "source": [
    "output = Dense(out_s, activation ='sigmoid')(x)"
   ]
  },
  {
   "cell_type": "code",
   "execution_count": 161,
   "id": "bb5c3625-8217-4861-9214-e18fc22e9995",
   "metadata": {},
   "outputs": [
    {
     "name": "stdout",
     "output_type": "stream",
     "text": [
      "Model: \"model_8\"\n",
      "__________________________________________________________________________________________________\n",
      " Layer (type)                   Output Shape         Param #     Connected to                     \n",
      "==================================================================================================\n",
      " input_17 (InputLayer)          [(None, 48, 64, 7)]  0           []                               \n",
      "                                                                                                  \n",
      " conv2d_317 (Conv2D)            (None, 24, 32, 64)   4096        ['input_17[0][0]']               \n",
      "                                                                                                  \n",
      " batch_normalization_311 (Batch  (None, 24, 32, 64)  256         ['conv2d_317[0][0]']             \n",
      " Normalization)                                                                                   \n",
      "                                                                                                  \n",
      " re_lu_284 (ReLU)               (None, 24, 32, 64)   0           ['batch_normalization_311[0][0]']\n",
      "                                                                                                  \n",
      " max_pooling2d_11 (MaxPooling2D  (None, 11, 15, 64)  0           ['re_lu_284[0][0]']              \n",
      " )                                                                                                \n",
      "                                                                                                  \n",
      " conv2d_318 (Conv2D)            (None, 11, 15, 64)   4160        ['max_pooling2d_11[0][0]']       \n",
      "                                                                                                  \n",
      " batch_normalization_312 (Batch  (None, 11, 15, 64)  256         ['conv2d_318[0][0]']             \n",
      " Normalization)                                                                                   \n",
      "                                                                                                  \n",
      " re_lu_285 (ReLU)               (None, 11, 15, 64)   0           ['batch_normalization_312[0][0]']\n",
      "                                                                                                  \n",
      " conv2d_319 (Conv2D)            (None, 11, 15, 64)   36928       ['re_lu_285[0][0]']              \n",
      "                                                                                                  \n",
      " batch_normalization_313 (Batch  (None, 11, 15, 64)  256         ['conv2d_319[0][0]']             \n",
      " Normalization)                                                                                   \n",
      "                                                                                                  \n",
      " re_lu_286 (ReLU)               (None, 11, 15, 64)   0           ['batch_normalization_313[0][0]']\n",
      "                                                                                                  \n",
      " conv2d_321 (Conv2D)            (None, 11, 15, 256)  16640       ['max_pooling2d_11[0][0]']       \n",
      "                                                                                                  \n",
      " conv2d_320 (Conv2D)            (None, 11, 15, 256)  16640       ['re_lu_286[0][0]']              \n",
      "                                                                                                  \n",
      " batch_normalization_315 (Batch  (None, 11, 15, 256)  1024       ['conv2d_321[0][0]']             \n",
      " Normalization)                                                                                   \n",
      "                                                                                                  \n",
      " batch_normalization_314 (Batch  (None, 11, 15, 256)  1024       ['conv2d_320[0][0]']             \n",
      " Normalization)                                                                                   \n",
      "                                                                                                  \n",
      " add_91 (Add)                   (None, 11, 15, 256)  0           ['batch_normalization_315[0][0]',\n",
      "                                                                  'batch_normalization_314[0][0]']\n",
      "                                                                                                  \n",
      " re_lu_287 (ReLU)               (None, 11, 15, 256)  0           ['add_91[0][0]']                 \n",
      "                                                                                                  \n",
      " conv2d_322 (Conv2D)            (None, 11, 15, 64)   16448       ['re_lu_287[0][0]']              \n",
      "                                                                                                  \n",
      " batch_normalization_316 (Batch  (None, 11, 15, 64)  256         ['conv2d_322[0][0]']             \n",
      " Normalization)                                                                                   \n",
      "                                                                                                  \n",
      " re_lu_288 (ReLU)               (None, 11, 15, 64)   0           ['batch_normalization_316[0][0]']\n",
      "                                                                                                  \n",
      " conv2d_323 (Conv2D)            (None, 11, 15, 64)   36928       ['re_lu_288[0][0]']              \n",
      "                                                                                                  \n",
      " batch_normalization_317 (Batch  (None, 11, 15, 64)  256         ['conv2d_323[0][0]']             \n",
      " Normalization)                                                                                   \n",
      "                                                                                                  \n",
      " re_lu_289 (ReLU)               (None, 11, 15, 64)   0           ['batch_normalization_317[0][0]']\n",
      "                                                                                                  \n",
      " conv2d_324 (Conv2D)            (None, 11, 15, 256)  16640       ['re_lu_289[0][0]']              \n",
      "                                                                                                  \n",
      " batch_normalization_318 (Batch  (None, 11, 15, 256)  1024       ['conv2d_324[0][0]']             \n",
      " Normalization)                                                                                   \n",
      "                                                                                                  \n",
      " add_92 (Add)                   (None, 11, 15, 256)  0           ['re_lu_287[0][0]',              \n",
      "                                                                  'batch_normalization_318[0][0]']\n",
      "                                                                                                  \n",
      " re_lu_290 (ReLU)               (None, 11, 15, 256)  0           ['add_92[0][0]']                 \n",
      "                                                                                                  \n",
      " conv2d_325 (Conv2D)            (None, 11, 15, 64)   16448       ['re_lu_290[0][0]']              \n",
      "                                                                                                  \n",
      " batch_normalization_319 (Batch  (None, 11, 15, 64)  256         ['conv2d_325[0][0]']             \n",
      " Normalization)                                                                                   \n",
      "                                                                                                  \n",
      " re_lu_291 (ReLU)               (None, 11, 15, 64)   0           ['batch_normalization_319[0][0]']\n",
      "                                                                                                  \n",
      " conv2d_326 (Conv2D)            (None, 11, 15, 64)   36928       ['re_lu_291[0][0]']              \n",
      "                                                                                                  \n",
      " batch_normalization_320 (Batch  (None, 11, 15, 64)  256         ['conv2d_326[0][0]']             \n",
      " Normalization)                                                                                   \n",
      "                                                                                                  \n",
      " re_lu_292 (ReLU)               (None, 11, 15, 64)   0           ['batch_normalization_320[0][0]']\n",
      "                                                                                                  \n",
      " conv2d_327 (Conv2D)            (None, 11, 15, 256)  16640       ['re_lu_292[0][0]']              \n",
      "                                                                                                  \n",
      " batch_normalization_321 (Batch  (None, 11, 15, 256)  1024       ['conv2d_327[0][0]']             \n",
      " Normalization)                                                                                   \n",
      "                                                                                                  \n",
      " add_93 (Add)                   (None, 11, 15, 256)  0           ['re_lu_290[0][0]',              \n",
      "                                                                  'batch_normalization_321[0][0]']\n",
      "                                                                                                  \n",
      " re_lu_293 (ReLU)               (None, 11, 15, 256)  0           ['add_93[0][0]']                 \n",
      "                                                                                                  \n",
      " global_average_pooling2d_9 (Gl  (None, 256)         0           ['re_lu_293[0][0]']              \n",
      " obalAveragePooling2D)                                                                            \n",
      "                                                                                                  \n",
      " dense_12 (Dense)               (None, 3072)         789504      ['global_average_pooling2d_9[0][0\n",
      "                                                                 ]']                              \n",
      "                                                                                                  \n",
      "==================================================================================================\n",
      "Total params: 1,013,888\n",
      "Trainable params: 1,010,944\n",
      "Non-trainable params: 2,944\n",
      "__________________________________________________________________________________________________\n"
     ]
    }
   ],
   "source": [
    "# Build the model\n",
    "testmodel = Model(inputs=inputs, outputs=output)\n",
    "testmodel.summary()"
   ]
  },
  {
   "cell_type": "code",
   "execution_count": 163,
   "id": "5bfced9f-f0d1-4329-9378-2b60378f9de7",
   "metadata": {},
   "outputs": [],
   "source": [
    "testmodel.compile(optimizer='adam', loss='binary_crossentropy', metrics=['accuracy'])\n"
   ]
  },
  {
   "cell_type": "code",
   "execution_count": 164,
   "id": "f6873c6b-14c9-4f80-81c6-546755359d53",
   "metadata": {},
   "outputs": [],
   "source": [
    "Y_train_res =  Y_train[:,0:48,0:64].reshape(13149, 48*64)\n",
    "Y_val_res = Y_val[:,0:48,0:64].reshape(365, 48*64)"
   ]
  },
  {
   "cell_type": "code",
   "execution_count": 166,
   "id": "867c2601-2a40-4ee6-8650-c1b658a2b8bb",
   "metadata": {},
   "outputs": [
    {
     "name": "stdout",
     "output_type": "stream",
     "text": [
      "Epoch 1/10\n",
      "411/411 [==============================] - 12s 24ms/step - loss: 0.1888 - accuracy: 6.0841e-04 - val_loss: 0.1947 - val_accuracy: 0.0000e+00\n",
      "Epoch 2/10\n",
      "411/411 [==============================] - 8s 20ms/step - loss: 0.1644 - accuracy: 0.0013 - val_loss: 0.1735 - val_accuracy: 0.0000e+00\n",
      "Epoch 3/10\n",
      "411/411 [==============================] - 8s 20ms/step - loss: 0.1525 - accuracy: 0.0018 - val_loss: 0.1637 - val_accuracy: 0.0000e+00\n",
      "Epoch 4/10\n",
      "411/411 [==============================] - 8s 21ms/step - loss: 0.1448 - accuracy: 0.0012 - val_loss: 0.1546 - val_accuracy: 0.0027\n",
      "Epoch 5/10\n",
      "411/411 [==============================] - 8s 20ms/step - loss: 0.1396 - accuracy: 0.0019 - val_loss: 0.1538 - val_accuracy: 0.0027\n",
      "Epoch 6/10\n",
      "411/411 [==============================] - 8s 20ms/step - loss: 0.1352 - accuracy: 0.0017 - val_loss: 0.1445 - val_accuracy: 0.0027\n",
      "Epoch 7/10\n",
      "411/411 [==============================] - 8s 20ms/step - loss: 0.1317 - accuracy: 0.0021 - val_loss: 0.1433 - val_accuracy: 0.0027\n",
      "Epoch 8/10\n",
      "411/411 [==============================] - 8s 20ms/step - loss: 0.1288 - accuracy: 0.0030 - val_loss: 0.1415 - val_accuracy: 0.0000e+00\n",
      "Epoch 9/10\n",
      "411/411 [==============================] - 9s 21ms/step - loss: 0.1264 - accuracy: 0.0020 - val_loss: 0.1404 - val_accuracy: 0.0027\n",
      "Epoch 10/10\n",
      "411/411 [==============================] - 9s 21ms/step - loss: 0.1243 - accuracy: 0.0019 - val_loss: 0.1393 - val_accuracy: 0.0000e+00\n"
     ]
    }
   ],
   "source": [
    "h_res = testmodel.fit(X_train_input[:,0:48,0:64], \n",
    "                Y_train_res,\n",
    "                         epochs=10,\n",
    "                         validation_data=(X_val_input[:,0:48,0:64], Y_val_res),\n",
    "                         shuffle=True)"
   ]
  },
  {
   "cell_type": "code",
   "execution_count": 167,
   "id": "1a38202d-3c1a-4a6b-b48b-78673a211a82",
   "metadata": {},
   "outputs": [
    {
     "data": {
      "image/png": "[encoded data removed]",
      "text/plain": [
       "<Figure size 432x288 with 1 Axes>"
      ]
     },
     "metadata": {
      "needs_background": "light"
     },
     "output_type": "display_data"
    }
   ],
   "source": [
    "plot_hist(h_res)"
   ]
  },
  {
   "cell_type": "code",
   "execution_count": null,
   "id": "9ff0c09e-f591-4dba-9744-3296b703af44",
   "metadata": {},
   "outputs": [],
   "source": []
  },
  {
   "cell_type": "code",
   "execution_count": 54,
   "id": "601fc227-fc58-41c7-84b6-1e7c4ea0d772",
   "metadata": {},
   "outputs": [],
   "source": []
  },
  {
   "cell_type": "code",
   "execution_count": null,
   "id": "333121b7-0510-4235-b47a-7b00b3fbab67",
   "metadata": {},
   "outputs": [],
   "source": []
  }
 ],
 "metadata": {
  "kernelspec": {
   "display_name": "Python 3 (ipykernel)",
   "language": "python",
   "name": "python3"
  },
  "language_info": {
   "codemirror_mode": {
    "name": "ipython",
    "version": 3
   },
   "file_extension": ".py",
   "mimetype": "text/x-python",
   "name": "python",
   "nbconvert_exporter": "python",
   "pygments_lexer": "ipython3",
   "version": "3.9.7"
  }
 },
 "nbformat": 4,
 "nbformat_minor": 5
}
