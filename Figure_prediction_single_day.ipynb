{
 "cells": [
  {
   "cell_type": "code",
   "execution_count": null,
   "id": "a743a248-b108-46cc-a787-b6056faf5c47",
   "metadata": {},
   "outputs": [],
   "source": [
    "import numpy as np\n",
    "import pandas as pd\n",
    "import xarray as xr\n",
    "import yaml\n",
    "\n",
    "# Config matplotlib\n",
    "%matplotlib inline\n",
    "import matplotlib as mpl\n",
    "import matplotlib.pyplot as plt\n",
    "\n",
    "# Custom utils\n",
    "from utils.utils_data import *\n",
    "from utils.utils_plot import *"
   ]
  },
  {
   "cell_type": "code",
   "execution_count": null,
   "id": "9d773a1d-0ae1-4ef5-89dd-55ed7819e316",
   "metadata": {},
   "outputs": [],
   "source": [
    "PRECIP_XTRM = 99 # Percentile (threshold) for the extremes"
   ]
  },
  {
   "cell_type": "code",
   "execution_count": null,
   "id": "45072eaf-7c25-42e9-a295-b141920f8ebc",
   "metadata": {},
   "outputs": [],
   "source": [
    "import yaml\n",
    "conf = yaml.safe_load(open(\"config.yaml\"))"
   ]
  },
  {
   "cell_type": "code",
   "execution_count": null,
   "id": "6fd1c501-6548-46b7-8050-ab60e861ce6b",
   "metadata": {},
   "outputs": [],
   "source": [
    "# Load axes\n",
    "lons_y = np.load('tmp/data/lons_y.npy')\n",
    "lats_y = np.load('tmp/data/lats_y.npy')\n",
    "\n",
    "# Load precip\n",
    "y_prec = np.load(f'tmp/data/y_prec.npy')\n",
    "y_xtrm = np.load(f'tmp/data/y_xtrm_0{PRECIP_XTRM}.npy')\n",
    "\n",
    "# load percentiles\n",
    "qq = np.load(f'tmp/data/qq_0{PRECIP_XTRM}.npy')"
   ]
  },
  {
   "cell_type": "code",
   "execution_count": null,
   "id": "86aa3c76-e8bb-4df8-ac11-5ba0326772af",
   "metadata": {},
   "outputs": [],
   "source": [
    "times = np.arange(np.datetime64('2016-01-01'), np.datetime64('2022-01-01'))\n",
    "times = pd.to_datetime(times)"
   ]
  },
  {
   "cell_type": "code",
   "execution_count": null,
   "id": "28811dbd-6ff9-4ec2-a676-f3c30c2c1519",
   "metadata": {},
   "outputs": [],
   "source": [
    "# Still need to add RF\n",
    "models_report = ['RF4', 'Pan-orig','UNET2','RaNet']"
   ]
  },
  {
   "cell_type": "code",
   "execution_count": null,
   "id": "52da2a39-4694-470f-964d-74e7fb827e50",
   "metadata": {},
   "outputs": [],
   "source": [
    "def create_xarray_from_pred_RF(preds, time, lats_y, lons_y):\n",
    "    \"\"\"Function to create the xarray 3D of predictions from the outputs from the xr.apply_ufunc\n",
    "       Args: preds are the prediction for each grid cell that contains the output values\"\"\"\n",
    "    # create the xarray of predictions\n",
    "    mx= xr.DataArray(np.zeros((time, len(lats_y),len(lons_y))), dims=[\"time\",\"lat\", \"lon\"],\n",
    "                  coords=dict(lat = lats_y, \n",
    "                  lon = lons_y))\n",
    "    # put the outputs for each latitude and longitue, \n",
    "    for ilat in range(len(lats_y)):\n",
    "        for ilon in range(len(lons_y)):\n",
    "            if preds[ilat,ilon] is None:\n",
    "                mx[:,ilat,ilon] = np.nan\n",
    "            else:\n",
    "                mx[:,ilat,ilon] = preds[ilat, ilon]\n",
    "\n",
    "    return(mx)"
   ]
  },
  {
   "cell_type": "code",
   "execution_count": null,
   "id": "f0455e33-57b7-4944-b61b-89817476a836",
   "metadata": {},
   "outputs": [],
   "source": [
    "# Plotting\n",
    "n_models = len(models_report)\n",
    "\n",
    "n_rows = n_models+1\n",
    "fig, axs = plt.subplots(n_rows, 3, figsize=(10, n_rows*3))\n",
    "\n",
    "# Get the index of the max # of extremes\n",
    "i_max_obs = np.argmax(np.sum(y_xtrm, axis=(1,2)))\n",
    "\n",
    "vmax = np.max(y_prec[i_max_obs])\n",
    "\n",
    "plot_map(axs[0, 0], lons_y, lats_y, y_prec[i_max_obs], title=\"Prec. value - truth\", vmin=0, vmax=vmax, show_colorbar=False, cmap=mpl.cm.YlGnBu)\n",
    "plot_map(axs[0, 1], lons_y, lats_y, y_xtrm[i_max_obs], title=\"Prec. extreme - truth\", vmin=0, vmax=1, show_colorbar=False)\n",
    "plot_map(axs[0, 2], lons_y, lats_y, y_xtrm[i_max_obs], title=\"Prec. extreme - truth\", vmin=0, vmax=1, show_colorbar=False)\n",
    "\n",
    "for idx, m_id in enumerate(models_report):\n",
    "    if m_id == 'RF4':\n",
    "        y_pred_test = np.load(f'tmp/data/predictions/y_pred_test_{m_id}_{PRECIP_XTRM}.npy', allow_pickle=True)\n",
    "        xarr = create_xarray_from_pred_RF(y_pred_test, len(times), lats_y, lons_y)\n",
    "        y_pred_test = xarr.to_numpy()\n",
    "    else:\n",
    "        y_pred_test = np.load(f'tmp/data/predictions/y_pred_test_{m_id}_{PRECIP_XTRM}.npy')\n",
    "    y_pred_bool = y_pred_test > qq\n",
    "    \n",
    "    # Multiply to transform to numeric values\n",
    "    y_pred_bool = y_pred_bool * 1\n",
    "    \n",
    "    # Extremes\n",
    "    if m_id == 'RF4':\n",
    "        y_pred_test_xtrm = np.load(f'tmp/data/predictions/y_pred_test_xtrm_{m_id}_{PRECIP_XTRM}.npy', allow_pickle=True)\n",
    "        xarr = create_xarray_from_pred_RF(y_pred_test_xtrm, len(times), lats_y, lons_y)\n",
    "        y_pred_test_xtrm = xarr.to_numpy()\n",
    "    else:\n",
    "        y_pred_test_xtrm = np.load(f'tmp/data/predictions/y_pred_test_xtrm_{m_id}_{PRECIP_XTRM}.npy')\n",
    "    \n",
    "    plot_map(axs[idx+1, 0], lons_y, lats_y, y_pred_test[i_max_obs], title=f\"Prec. value - {m_id}\", vmin=0, vmax=vmax, show_colorbar=False, cmap=mpl.cm.YlGnBu)\n",
    "    plot_map(axs[idx+1, 1], lons_y, lats_y, y_pred_bool[i_max_obs], title=f\"Prec. extreme - {m_id}\", vmin=0, vmax=1, show_colorbar=False)\n",
    "    plot_map(axs[idx+1, 2], lons_y, lats_y, y_pred_test_xtrm[i_max_obs], title=f\"Prec. extreme - {m_id}\", vmin=0, vmax=1, show_colorbar=False)\n",
    "    \n",
    "plt.tight_layout()\n",
    "plt.savefig(f'figures/plot_model_comparison_{PRECIP_XTRM}_report.pdf')"
   ]
  }
 ],
 "metadata": {
  "kernelspec": {
   "display_name": "Python 3 (ipykernel)",
   "language": "python",
   "name": "python3"
  },
  "language_info": {
   "codemirror_mode": {
    "name": "ipython",
    "version": 3
   },
   "file_extension": ".py",
   "mimetype": "text/x-python",
   "name": "python",
   "nbconvert_exporter": "python",
   "pygments_lexer": "ipython3",
   "version": "3.9.7"
  }
 },
 "nbformat": 4,
 "nbformat_minor": 5
}
