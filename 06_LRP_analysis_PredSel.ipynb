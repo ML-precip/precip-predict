{
 "cells": [
  {
   "cell_type": "code",
   "execution_count": null,
   "id": "e1165389-3002-4a07-9023-67263283a2c3",
   "metadata": {},
   "outputs": [],
   "source": [
    "# Note: after computing the LRP, here we examine the most relevant features\n",
    "# Also, we do a sort-of-selection of features (based on maximum values)\n",
    "\n",
    "# Common imports\n",
    "import os\n",
    "import glob\n",
    "import numpy as np\n",
    "import pandas as pd\n",
    "import geopandas as gpd\n",
    "import xarray as xr\n",
    "import dask\n",
    "import datetime\n",
    "import math\n",
    "import xarray as xr\n",
    "import numpy as np\n",
    "import pandas as pd\n",
    "import seaborn as sns\n",
    "#for plotting\n",
    "import geopandas as gpd\n",
    "\n",
    "# To make this notebook's output stable across runs\n",
    "np.random.seed(42)\n",
    "\n",
    "# Config matplotlib\n",
    "%matplotlib inline\n",
    "import matplotlib as mpl\n",
    "import matplotlib.pyplot as plt\n",
    "\n",
    "from utils.utils_plot import *\n",
    "\n",
    "import yaml\n",
    "conf = yaml.safe_load(open(\"config.yaml\"))"
   ]
  },
  {
   "cell_type": "code",
   "execution_count": null,
   "id": "42e51a71-ad4d-45ac-a82c-cb7179ef0bbe",
   "metadata": {},
   "outputs": [],
   "source": [
    "# load data\n",
    "# test samples\n",
    "dg_train_X = np.array(xr.open_dataarray('tmp/data/dg_train_X.nc'))\n",
    "dg_train_Y_xtrm = xr.open_dataarray('tmp/data/dg_train_Y_xtrm0.95th.nc')"
   ]
  },
  {
   "cell_type": "code",
   "execution_count": null,
   "id": "d20c633d-7d43-476c-bb0f-9cb5c12127e2",
   "metadata": {},
   "outputs": [],
   "source": [
    "dg_test_X = np.array(xr.open_dataarray('tmp/data/dg_test_X.nc'))\n",
    "dg_test_Y = np.array(xr.open_dataarray('tmp/data/dg_test_Y.nc'))\n",
    "dg_test_Y_xtrm = xr.open_dataarray('tmp/data/dg_test_Y_xtrm0.95th.nc')"
   ]
  },
  {
   "cell_type": "code",
   "execution_count": null,
   "id": "b35b19f3-566b-423d-a12f-7a711242f558",
   "metadata": {},
   "outputs": [],
   "source": [
    "y_bool= dg_train_Y_xtrm"
   ]
  },
  {
   "cell_type": "code",
   "execution_count": null,
   "id": "3004d368-bc89-4f73-a674-21c7b7d7255d",
   "metadata": {},
   "outputs": [],
   "source": [
    "# Open LRP files\n",
    "lrp_a1b0_train = np.load('tmp/LRP/a1b0_train_DNN_UNET4.npy')"
   ]
  },
  {
   "cell_type": "code",
   "execution_count": null,
   "id": "04aa2022-37a6-4086-8b2f-77e8a4b31e8e",
   "metadata": {},
   "outputs": [],
   "source": [
    "# coordinates\n",
    "lons_x = np.load('tmp/data/lons_y.npy')\n",
    "lats_y = np.load('tmp/data/lats_y.npy')\n",
    "# test-times\n",
    "times = np.arange(np.datetime64('1979-01-01'), np.datetime64('2006-01-01'))\n",
    "times = pd.to_datetime(times)"
   ]
  },
  {
   "cell_type": "code",
   "execution_count": null,
   "id": "9ff4f4f4-c6e7-4c6f-8c69-31700ec1d022",
   "metadata": {},
   "outputs": [],
   "source": [
    "def getmap_rel(a, i_shape, y_bool, allmap =True):\n",
    "    \"\"\"Function to calculate the maximum relevances when extremes occur pr_xtrm==1\n",
    "       Args: a: numpy array with the relevances\n",
    "             i_shape: shape of the array\n",
    "             y_bool: xarray.dataarry or array of the true extreme\n",
    "             allmap: True, to calculate the maximum of relavances over the map, False for a pixel-wise calculation\"\"\"\n",
    "    # process rel\n",
    "    y_bool = np.array(y_bool)\n",
    "    m = np.zeros(shape=(i_shape[0],i_shape[1], i_shape[2]))\n",
    "    mmax = np.zeros(shape=(i_shape[0],i_shape[1], i_shape[2]))\n",
    "    for ilon in range(0,len(lons_x)):\n",
    "        for ilat in range(0,len(lats_y)):\n",
    "            idx_s = y_bool[:,ilat, ilon] ==1\n",
    "            idx_s = idx_s.flatten()\n",
    "            # select the extreme dates and calculate the averages\n",
    "            if (allmap == True):\n",
    "                tmp = a[idx_s, :, :, :]\n",
    "                tmp = tmp.max(axis=(1,2))\n",
    "            else:\n",
    "                tmp = a[idx_s, ilat, ilon, :]\n",
    "                tmp[np.where(tmp < 0)] = 0.\n",
    "\n",
    "            m[ilat, ilon,:] = tmp.mean(axis=0)\n",
    "            mmax[ilat, ilon,:] = tmp.max(axis=0)\n",
    "            \n",
    "    return m, mmax\n",
    "        \n",
    "        "
   ]
  },
  {
   "cell_type": "code",
   "execution_count": null,
   "id": "b1b49261-37df-48cd-ae6b-42be74f6e970",
   "metadata": {},
   "outputs": [],
   "source": [
    "def getmap_localrel(a, i_shape, y_bool, lats_y, lons_y, times, icrop = 5):\n",
    "    \"\"\"Function to calculate the maximum relevances when extremes occur pr_xtrm==1\n",
    "             over the closest pixels\n",
    "             Args: a: numpy array with the relevances\n",
    "             i_shape: shape of the array\n",
    "             lats, lons: coordinates\n",
    "             y_bool: xarray.dataarry or array of the true extreme\n",
    "             icrop: select the number of pixels we want to calculate the relevances for a given point\"\"\"\n",
    "\n",
    "    threshold_quant = np.quantile(a, 0.999)\n",
    "    a_maxed = lrp_a1b0_train\n",
    "    a_maxed[a_maxed>threshold_quant] = threshold_quant\n",
    "    \n",
    "    m_a1b0= xr.DataArray(a, dims=[\"time\",\"lat\", \"lon\", \"variable\"],\n",
    "                  coords=dict(time = times, lat = lats_y, \n",
    "            lon = lons_x, variable= conf['varnames'] ))\n",
    "\n",
    "    \n",
    "    crop_lats = lats_y[icrop:len(lats_y)-icrop]\n",
    "    crop_lons = lons_x[icrop:len(lons_x)-icrop]\n",
    "        \n",
    "    m = np.zeros(shape=(len(crop_lats),len(crop_lons), i_shape[2]))\n",
    "    mmax = np.zeros(shape=(len(crop_lats),len(crop_lons), i_shape[2]))\n",
    "    \n",
    "    for ilon in range(0,len(crop_lons)):\n",
    "        for ilat in range(0,len(crop_lats)):\n",
    "            \n",
    "            idx_s = y_bool.sel(lat=crop_lats[ilat], lon=crop_lons[ilon]) ==1\n",
    "            idx_s = np.array(idx_s)\n",
    "            idx_s = idx_s.flatten()\n",
    "            \n",
    "            m_sel = m_a1b0.sel(lat=slice(crop_lats[ilat]+icrop,crop_lats[ilat]-icrop),lon=slice(crop_lons[ilon]-icrop,crop_lons[ilon]+icrop))\n",
    "            \n",
    "            tmp = m_sel[idx_s, :, :, :]\n",
    "            tmp = tmp.max(axis=(1,2))\n",
    "           \n",
    "            m[ilat, ilon,:] = tmp.mean(axis=0)\n",
    "            mmax[ilat, ilon,:] = tmp.max(axis=0)\n",
    "            \n",
    "    return m, mmax"
   ]
  },
  {
   "cell_type": "code",
   "execution_count": null,
   "id": "568fce61-564e-4d77-a8ff-8f1fdab51775",
   "metadata": {},
   "outputs": [],
   "source": [
    "localrel_avg, localrel_max = getmap_localrel(lrp_a1b0_train, conf['i_shape'], y_bool, lats_y, lons_x, times, icrop=3)"
   ]
  },
  {
   "cell_type": "code",
   "execution_count": null,
   "id": "7cc08e49-a3d5-417c-a4fc-62fe40b28f1e",
   "metadata": {
    "tags": []
   },
   "outputs": [],
   "source": [
    "crop_lats = lats_y[3:len(lats_y)-3]\n",
    "crop_lons = lons_x[3:len(lons_x)-3]"
   ]
  },
  {
   "cell_type": "code",
   "execution_count": null,
   "id": "97e5e8ea-a731-4a00-9d5a-c40fcbf832e2",
   "metadata": {},
   "outputs": [],
   "source": [
    "plt.subplots_adjust(wspace=0, hspace=0, left=0, right=1, bottom=0, top=1)"
   ]
  },
  {
   "cell_type": "code",
   "execution_count": null,
   "id": "81b79255-1700-4f9f-8c73-95b00eba6966",
   "metadata": {
    "tags": []
   },
   "outputs": [],
   "source": [
    "plot_xr_rel(localrel_avg, crop_lats, crop_lons, conf['varnames'], 'relevances_unet4_crop3')"
   ]
  },
  {
   "cell_type": "code",
   "execution_count": null,
   "id": "bd1871c7-12da-4e8f-b17d-31a57f9d880a",
   "metadata": {},
   "outputs": [],
   "source": [
    "rel_varmeans = localrel_avg.mean(axis=(0,1))"
   ]
  },
  {
   "cell_type": "code",
   "execution_count": null,
   "id": "b46042a4-955c-4e7e-8f1b-5eaaba5bb825",
   "metadata": {},
   "outputs": [],
   "source": [
    "df_sortedvars = [conf['varnames'][i] for i in np.argsort(rel_varmeans)[::-1]]"
   ]
  },
  {
   "cell_type": "code",
   "execution_count": null,
   "id": "8d62855b-45ec-4ab6-bf52-ff65a4c70c3d",
   "metadata": {},
   "outputs": [],
   "source": [
    "df_sortval = [rel_varmeans[i] for i in np.argsort(rel_varmeans)[::-1]]\n",
    "data={'Variable' : df_sortedvars, 'Values' : df_sortval}\n",
    "df = pd.DataFrame(data)\n",
    "df.to_csv('tmp/df_sort_list_crop_train.csv', index=False)"
   ]
  },
  {
   "cell_type": "code",
   "execution_count": null,
   "id": "ebeefec8-d419-4d74-a702-9200e6b77621",
   "metadata": {},
   "outputs": [],
   "source": [
    "# rank the predictors\n",
    "#df_sortedvars = pd.DataFrame(df_sortedvars)\n",
    "#df_sortedvars.to_csv('tmp/sorted_list_crop_train.csv', index=False)"
   ]
  }
 ],
 "metadata": {
  "kernelspec": {
   "display_name": "Python 3 (ipykernel)",
   "language": "python",
   "name": "python3"
  },
  "language_info": {
   "codemirror_mode": {
    "name": "ipython",
    "version": 3
   },
   "file_extension": ".py",
   "mimetype": "text/x-python",
   "name": "python",
   "nbconvert_exporter": "python",
   "pygments_lexer": "ipython3",
   "version": "3.9.7"
  }
 },
 "nbformat": 4,
 "nbformat_minor": 5
}
