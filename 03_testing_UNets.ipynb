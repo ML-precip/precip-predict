{
 "cells": [
  {
   "cell_type": "code",
   "execution_count": null,
   "id": "be19f4c2-ab2d-4d19-8668-511e57a5ca2f",
   "metadata": {},
   "outputs": [],
   "source": [
    "# Python ≥3.5 is required\n",
    "import sys\n",
    "assert sys.version_info >= (3, 5)\n",
    "\n",
    "# Scikit-Learn ≥0.20 is required\n",
    "import sklearn\n",
    "assert sklearn.__version__ >= '0.20'\n",
    "\n",
    "from sklearn.impute import SimpleImputer\n",
    "#from sklearn.pipeline import Pipelines\n",
    "from sklearn.preprocessing import StandardScaler\n",
    "from sklearn.compose import ColumnTransformer\n",
    "from sklearn.model_selection import train_test_split\n",
    "from sklearn.metrics import confusion_matrix, classification_report, ConfusionMatrixDisplay\n",
    "\n",
    "# TensorFlow ≥2.0 is required\n",
    "import tensorflow_addons as tfa\n",
    "import tensorflow as tf\n",
    "assert tf.__version__ >= '2.0'\n",
    "\n",
    "from tensorflow import keras\n",
    "from tensorflow.keras import layers\n",
    "from tensorflow.keras.utils import plot_model\n",
    "\n",
    "from keras.models import Sequential\n",
    "from keras.layers.wrappers import TimeDistributed\n",
    "from keras.models import Sequential\n",
    "from keras.layers import Dense,LSTM,Conv2D, BatchNormalization,Flatten, MaxPooling2D\n",
    "from keras.layers import Conv2DTranspose,Concatenate,UpSampling2D,Cropping2D\n",
    "from keras.layers import Input, Lambda, Reshape, Dropout, Activation\n",
    "\n",
    "from tensorflow.keras.layers import Conv2D, BatchNormalization, Activation, MaxPool2D, Conv2DTranspose, Concatenate, Input\n",
    "from tensorflow.keras.models import Model\n",
    "\n",
    "#print(\"Num GPUs Available: \", len(tf.config.list_physical_devices('GPU')))\n",
    "\n",
    "# Common imports\n",
    "import os\n",
    "import glob\n",
    "import numpy as np\n",
    "import pandas as pd\n",
    "import geopandas as gpd\n",
    "import xarray as xr\n",
    "import dask\n",
    "import datetime\n",
    "import math\n",
    "dask.config.set({'array.slicing.split_large_chunks': False})\n",
    "\n",
    "# To make this notebook's output stable across runs\n",
    "np.random.seed(42)\n",
    "\n",
    "# Config matplotlib\n",
    "%matplotlib inline\n",
    "import matplotlib as mpl\n",
    "import matplotlib.pyplot as plt\n",
    "\n",
    "\n",
    "mpl.rc('axes', labelsize=14)\n",
    "mpl.rc('xtick', labelsize=12)\n",
    "mpl.rc('ytick', labelsize=12)\n",
    "# Dotenv\n",
    "from dotenv import dotenv_values\n",
    "# Custom utils\n",
    "from utils.utils_data import *\n",
    "from utils.utils_ml import *\n",
    "from utils.utils_plot import *\n",
    "from utils.utils_unet import *\n",
    "from utils.utils_resnet import *"
   ]
  },
  {
   "cell_type": "code",
   "execution_count": 2,
   "id": "3bc1e763-85f3-4bff-b525-cd15bb48569c",
   "metadata": {},
   "outputs": [],
   "source": [
    "# Define paths\n",
    "config = dotenv_values(\".env\")\n",
    "PATH_ERA5 = config['PATH_ERA5']\n",
    "PATH_EOBS = config['PATH_EOBS']\n"
   ]
  },
  {
   "cell_type": "code",
   "execution_count": 3,
   "id": "6b64370f-444f-4549-9da9-44d40347516f",
   "metadata": {},
   "outputs": [],
   "source": [
    "# Some constants\n",
    "DATE_START = '1979-01-01'\n",
    "DATE_END = '2020-12-31'\n",
    "# train -test (80/20 of total yy), train-> split 80/20 for validation\n",
    "#YY_TRAIN = [1979, 2011] # 2005-2011 for validation\n",
    "#YY_VAL = [2005,2011]\n",
    "#YY_TEST = [2012, 2020]\n",
    "YY_TRAIN = [1979, 2015]\n",
    "YY_TEST = [2016, 2020]\n",
    "YY_VALID = 2005\n",
    "LEVELS = [500, 850, 1000]\n",
    "G = 9.80665 \n",
    "LONS_INPUT = [-25, 30]\n",
    "LATS_INPUT = [30, 75]\n",
    "LONS_PREC = [-25, 30]\n",
    "LATS_PREC = [30, 75]\n",
    "\n",
    "PRECIP_DATA = 'ERA5' # Options: ERA5, E-OBS\n",
    "PRECIP_XTRM = 0.95 # Percentile (threshold) for the extremes"
   ]
  },
  {
   "cell_type": "markdown",
   "id": "f877276e-b76f-4055-bc40-c66c58c99957",
   "metadata": {},
   "source": [
    "# Data loading"
   ]
  },
  {
   "cell_type": "markdown",
   "id": "9f683c99-d274-4318-9e67-d8bb9fb23d7d",
   "metadata": {},
   "source": [
    "### Load precipitation"
   ]
  },
  {
   "cell_type": "code",
   "execution_count": 4,
   "id": "1a970efb-1529-4a59-959f-730911d67693",
   "metadata": {},
   "outputs": [
    {
     "name": "stdout",
     "output_type": "stream",
     "text": [
      "Extracting data for the period 1979-01-01 - 2020-12-31\n"
     ]
    }
   ],
   "source": [
    "# Load precipitation\n",
    "if PRECIP_DATA == 'ERA5':\n",
    "    pr = get_nc_data(PATH_ERA5 + '/precipitation/day_grid1/*nc', DATE_START, DATE_END, LONS_PREC, LATS_PREC)\n",
    "    pr = pr.tp\n",
    "elif PRECIP_DATA in ['E-OBS', 'EOBS']:\n",
    "    pr = get_nc_data(PATH_EOBS + '/*nc', DATE_START, DATE_END, LONS_PREC, LATS_PREC)\n",
    "    pr = pr.rr\n",
    "    pr = pr.coarsen(lon=5, lat=5, boundary=\"trim\").mean()\n",
    "    pr = pr.fillna(0) # Over the seas. Not optimal...\n",
    "else:\n",
    "    raise('Precipitation data not well defined')"
   ]
  },
  {
   "cell_type": "code",
   "execution_count": 5,
   "id": "678026e2-f748-4e06-bdd8-8e68e42fda75",
   "metadata": {},
   "outputs": [],
   "source": [
    "# Define extremes\n",
    "pr95 = precip_exceedance_xarray(pr, PRECIP_XTRM)"
   ]
  },
  {
   "cell_type": "markdown",
   "id": "ee5eec46-45db-4c99-ae25-ffefe86ff469",
   "metadata": {},
   "source": [
    "### Load predictors"
   ]
  },
  {
   "cell_type": "code",
   "execution_count": 6,
   "id": "b862df1a-95b2-447c-b7e7-60959398c695",
   "metadata": {},
   "outputs": [],
   "source": [
    "# define paths for the variables used\n",
    "l_paths = ['/geopotential/grid1/','/temperature/grid1/','/relative_humidity/day_grid1/',\n",
    "              '/U_wind/day_grid1/','/V_wind/day_grid1/','/total_column_water/day_grid1/']\n",
    "v_vars = ['z','t2m','rh','u850','v850','tpcw']"
   ]
  },
  {
   "cell_type": "code",
   "execution_count": 7,
   "id": "a53c81c7-cd96-42ec-b509-860774d4fe2d",
   "metadata": {
    "tags": []
   },
   "outputs": [
    {
     "name": "stdout",
     "output_type": "stream",
     "text": [
      "Extracting data for the period 1979-01-01 - 2020-12-31\n",
      "Extracting data for the period 1979-01-01 - 2020-12-31\n",
      "Extracting data for the period 1979-01-01 - 2020-12-31\n",
      "Extracting data for the period 1979-01-01 - 2020-12-31\n",
      "Extracting data for the period 1979-01-01 - 2020-12-31\n",
      "Extracting data for the period 1979-01-01 - 2020-12-31\n"
     ]
    }
   ],
   "source": [
    "list_vars = load_data(v_vars, l_paths, G, PATH_ERA5, DATE_START, DATE_END, LONS_INPUT, LATS_INPUT, LEVELS)"
   ]
  },
  {
   "cell_type": "code",
   "execution_count": 8,
   "id": "5ebe2185-58a9-4540-b1e9-c4d1a26f3366",
   "metadata": {},
   "outputs": [],
   "source": [
    "datasets = list_vars"
   ]
  },
  {
   "cell_type": "code",
   "execution_count": 12,
   "id": "a2a50caf-3b4c-4bf7-a4fc-39921e07fb60",
   "metadata": {
    "tags": []
   },
   "outputs": [
    {
     "name": "stdout",
     "output_type": "stream",
     "text": [
      "dimension of pr: ('time', 'lat', 'lon')\n",
      "dimension of z Frozen({'lat': 46, 'time': 15341, 'lon': 56, 'level': 3})\n",
      "dimension of t2m: Frozen({'lat': 46, 'time': 15341, 'lon': 56})\n",
      "dimension of rh: Frozen({'time': 15341, 'lon': 56, 'lat': 46, 'level': 3})\n",
      "dimension of u: Frozen({'time': 15341, 'lon': 56, 'lat': 46})\n",
      "dimension of v: Frozen({'time': 15341, 'lon': 56, 'lat': 46})\n",
      "dimension of tw: Frozen({'time': 15341, 'lon': 56, 'lat': 46})\n"
     ]
    }
   ],
   "source": [
    "# checking dimensions\n",
    "print('dimension of pr:',pr.dims)\n",
    "print('dimension of z',datasets[0].dims)\n",
    "print('dimension of t2m:',datasets[1].dims)\n",
    "print('dimension of rh:',datasets[2].dims)\n",
    "print('dimension of u:',datasets[3].dims)\n",
    "print('dimension of v:',datasets[4].dims)\n",
    "print('dimension of tw:',datasets[5].dims)"
   ]
  },
  {
   "cell_type": "code",
   "execution_count": 13,
   "id": "f51e5e8d-d3e7-48cd-aab3-8d9f463d172b",
   "metadata": {},
   "outputs": [],
   "source": [
    "# Then we need a dictionary for all the variables and levels we want to extract from the dataset\n",
    "#dic = OrderedDict({'z': 3, 'T2MMEAN':None, 'r':3})\n",
    "dic = {\n",
    "     'z': LEVELS,\n",
    "      'T2MMEAN': None,\n",
    "      'r': LEVELS,\n",
    "      'u': None,\n",
    "      'v': None,\n",
    "      'tcwv':None}"
   ]
  },
  {
   "cell_type": "code",
   "execution_count": 14,
   "id": "207534dc-d8ce-4741-8747-9150eee2ff1a",
   "metadata": {},
   "outputs": [],
   "source": [
    "# Check if all have the same latitude order\n",
    "for idat in range(0, len(datasets)):\n",
    "    # Invert lat axis if needed\n",
    "    if datasets[idat].lat[0].values < datasets[idat].lat[1].values:\n",
    "        print('change lat order', idat)\n",
    "        datasets[idat] = datasets[idat].reindex(lat=list(reversed(datasets[idat].lat)))"
   ]
  },
  {
   "cell_type": "code",
   "execution_count": 15,
   "id": "d004aa5e-eae6-403e-a0ef-177df0911fe6",
   "metadata": {},
   "outputs": [],
   "source": [
    "ds = xr.merge(datasets)"
   ]
  },
  {
   "cell_type": "code",
   "execution_count": 16,
   "id": "079e5453-c54f-4625-bf9d-0d652c2ad041",
   "metadata": {},
   "outputs": [],
   "source": [
    "BATCH_SIZE=64 # try increase, decrease it"
   ]
  },
  {
   "cell_type": "code",
   "execution_count": 17,
   "id": "36baa69d-9819-43e8-b849-8fee3db9ebce",
   "metadata": {},
   "outputs": [],
   "source": [
    "# Split into training and test, then I will use DataGenerator class to get the validation\n",
    "ds_train = ds.sel(time=slice('{}-01-01'.format(YY_TRAIN[0]),\n",
    "                             '{}-12-31'.format(YY_TRAIN[1])))\n",
    "ds_test = ds.sel(time=slice('{}-01-01'.format(YY_TEST[0]),\n",
    "                            '{}-12-31'.format(YY_TEST[1])))\n",
    "\n",
    "dy_train = pr95.sel(time=slice('{}-01-01'.format(YY_TRAIN[0]),\n",
    "                             '{}-12-31'.format(YY_TRAIN[1])))\n",
    "dy_test = pr95.sel(time=slice('{}-01-01'.format(YY_TEST[0]),\n",
    "                             '{}-12-31'.format(YY_TEST[1])))"
   ]
  },
  {
   "cell_type": "code",
   "execution_count": 18,
   "id": "3a61eb14-1ec0-4215-9769-ca0f5f90d80e",
   "metadata": {
    "tags": []
   },
   "outputs": [
    {
     "name": "stdout",
     "output_type": "stream",
     "text": [
      "Loading data into RAM\n"
     ]
    }
   ],
   "source": [
    "# Create a training and validation data generator. Use the train mean and std for validation as well.\n",
    "dg_train = MyDataGenerator(ds_train.sel(time=slice(f'{YY_TRAIN[0]}', f'{YY_VALID}')),\n",
    "                                dy_train.sel(time=slice(f'{YY_TRAIN[0]}', f'{YY_VALID}')), dic, batch_size= BATCH_SIZE, load=True)"
   ]
  },
  {
   "cell_type": "code",
   "execution_count": 19,
   "id": "18ba1225-50d2-4b2c-94c0-aee2135617c7",
   "metadata": {},
   "outputs": [
    {
     "name": "stdout",
     "output_type": "stream",
     "text": [
      "Loading data into RAM\n"
     ]
    }
   ],
   "source": [
    "# Create a validation. Use the train mean and std for validation as well. And suffle\n",
    "dg_val = MyDataGenerator(ds_train.sel(time=slice(f'{YY_TRAIN[0]}', f'{YY_VALID}')),\n",
    "                                dy_train.sel(time=slice(f'{YY_TRAIN[0]}', f'{YY_VALID}')), dic, batch_size=BATCH_SIZE,  mean=dg_train.mean, std=dg_train.std, load=True)"
   ]
  },
  {
   "cell_type": "code",
   "execution_count": 20,
   "id": "56daff26-004f-4974-9519-b9f9040bacf4",
   "metadata": {},
   "outputs": [
    {
     "name": "stdout",
     "output_type": "stream",
     "text": [
      "Loading data into RAM\n"
     ]
    }
   ],
   "source": [
    "# Now also a generator for testing. Impartant: Shuffle must be False!\n",
    "dg_test = MyDataGenerator(ds_test, dy_test, dic, batch_size=BATCH_SIZE, mean=dg_train.mean, std=dg_train.std, shuffle=False)"
   ]
  },
  {
   "cell_type": "code",
   "execution_count": 21,
   "id": "afa7241f-172c-42df-86d2-7166a93a173d",
   "metadata": {},
   "outputs": [
    {
     "data": {
      "image/png": "[encoded data removed]",
      "text/plain": [
       "<Figure size 1728x432 with 20 Axes>"
      ]
     },
     "metadata": {
      "needs_background": "light"
     },
     "output_type": "display_data"
    }
   ],
   "source": [
    "# checks\n",
    "n_figs = len(dg_train.data[0,0,0,:])\n",
    "ncols = 5\n",
    "nrows = -(-n_figs // ncols)\n",
    "fig, axes = plt.subplots(figsize=(24, 3*nrows), ncols=ncols, nrows=nrows)\n",
    "for i in range(n_figs):\n",
    "    i_row = i // ncols\n",
    "    i_col = i % ncols\n",
    "    im = axes[i_row, i_col].imshow(np.mean(dg_train.data[:,:,:,i], axis=0))\n",
    "    fig.colorbar(im, ax=axes[i_row, i_col])"
   ]
  },
  {
   "cell_type": "code",
   "execution_count": 22,
   "id": "5c81791f-56db-42b4-abc1-3bc31d37b325",
   "metadata": {},
   "outputs": [],
   "source": [
    "# Clear session and set tf seed\n",
    "keras.backend.clear_session()\n",
    "tf.random.set_seed(42)"
   ]
  },
  {
   "cell_type": "markdown",
   "id": "80b6cb2d-9d5d-4c26-b7da-7b26c3d7858e",
   "metadata": {},
   "source": [
    "# U-Net architecture"
   ]
  },
  {
   "cell_type": "code",
   "execution_count": 23,
   "id": "4688a9a2-4c2a-410b-a5de-9c028cd03969",
   "metadata": {},
   "outputs": [
    {
     "name": "stdout",
     "output_type": "stream",
     "text": [
      "X shape: (46, 56, 10)\n",
      "y shape: (46, 56)\n"
     ]
    }
   ],
   "source": [
    "# Define args for the U-net model\n",
    "i_shape = dg_train.data.shape[1:]\n",
    "o_shape = dg_train.labels.shape[1:]\n",
    "\n",
    "print(f'X shape: {i_shape}')\n",
    "print(f'y shape: {o_shape}')\n",
    "output_channels = 1\n",
    "num_filters = 16\n",
    "use_batchnorm = True\n",
    "dropout = True\n",
    "lr = 0.0004\n",
    "optimizer = tf.optimizers.Adam(learning_rate = lr)\n",
    "EPOCHS = 20\n",
    "# Note: for U-net the input and output must be power of 2 ..\n",
    "# I will re-define the input for an easier implementation"
   ]
  },
  {
   "cell_type": "code",
   "execution_count": 24,
   "id": "669bc696-be0d-49ee-9072-92f34618a7a0",
   "metadata": {},
   "outputs": [
    {
     "name": "stderr",
     "output_type": "stream",
     "text": [
      "2022-03-07 14:31:07.352388: I tensorflow/core/platform/cpu_feature_guard.cc:151] This TensorFlow binary is optimized with oneAPI Deep Neural Network Library (oneDNN) to use the following CPU instructions in performance-critical operations:  AVX2 FMA\n",
      "To enable them in other operations, rebuild TensorFlow with the appropriate compiler flags.\n",
      "2022-03-07 14:31:08.146391: I tensorflow/core/common_runtime/gpu/gpu_device.cc:1525] Created device /job:localhost/replica:0/task:0/device:GPU:0 with 10411 MB memory:  -> device: 0, name: NVIDIA GeForce GTX 1080 Ti, pci bus id: 0000:06:00.0, compute capability: 6.1\n"
     ]
    }
   ],
   "source": [
    "METRICS = [\n",
    "    tf.metrics.CategoricalAccuracy(name='accuracy'),\n",
    "    tf.metrics.Precision(class_id = 1, name='precision'),\n",
    "    tf.metrics.Recall(class_id = 1, name='recall')\n",
    "]"
   ]
  },
  {
   "cell_type": "code",
   "execution_count": 25,
   "id": "d5ec6a0b-ec68-467b-8892-124ce08d6ba4",
   "metadata": {},
   "outputs": [],
   "source": [
    "weights = class_weight.compute_class_weight('balanced', classes = np.unique(dg_train.labels), y = np.array(dg_train.labels).flatten())"
   ]
  },
  {
   "cell_type": "code",
   "execution_count": 26,
   "id": "769830b0-2a49-46cc-9e10-d63effb5e00d",
   "metadata": {},
   "outputs": [],
   "source": [
    "model_loss = weighted_binary_cross_entropy(weights = {0: weights[0].astype('float32'), 1: weights[1].astype('float32')})"
   ]
  },
  {
   "cell_type": "code",
   "execution_count": 27,
   "id": "2f9582e3-9d96-4d66-adef-1808692f7d80",
   "metadata": {},
   "outputs": [],
   "source": [
    "u_mod = Unet2(i_shape, o_shape, output_channels, num_filters, use_batchnorm, dropout)"
   ]
  },
  {
   "cell_type": "code",
   "execution_count": 28,
   "id": "7ab888b2-d982-4fc9-87ee-9be80e9b61ac",
   "metadata": {},
   "outputs": [],
   "source": [
    "# Build the model and compile\n",
    "um = u_mod.build_model()\n",
    "um.compile(optimizer =optimizer, loss = model_loss , metrics = METRICS)"
   ]
  },
  {
   "cell_type": "code",
   "execution_count": 29,
   "id": "ea705cc8-9afe-40fe-b2b4-e03fcaa8fbde",
   "metadata": {
    "tags": []
   },
   "outputs": [
    {
     "name": "stdout",
     "output_type": "stream",
     "text": [
      "Model: \"model\"\n",
      "__________________________________________________________________________________________________\n",
      " Layer (type)                   Output Shape         Param #     Connected to                     \n",
      "==================================================================================================\n",
      " input_1 (InputLayer)           [(None, 46, 56, 10)  0           []                               \n",
      "                                ]                                                                 \n",
      "                                                                                                  \n",
      " zero_padding2d (ZeroPadding2D)  (None, 48, 64, 10)  0           ['input_1[0][0]']                \n",
      "                                                                                                  \n",
      " conv2d (Conv2D)                (None, 48, 64, 32)   2912        ['zero_padding2d[0][0]']         \n",
      "                                                                                                  \n",
      " batch_normalization (BatchNorm  (None, 48, 64, 32)  128         ['conv2d[0][0]']                 \n",
      " alization)                                                                                       \n",
      "                                                                                                  \n",
      " dropout (Dropout)              (None, 48, 64, 32)   0           ['batch_normalization[0][0]']    \n",
      "                                                                                                  \n",
      " conv2d_1 (Conv2D)              (None, 48, 64, 32)   9248        ['dropout[0][0]']                \n",
      "                                                                                                  \n",
      " batch_normalization_1 (BatchNo  (None, 48, 64, 32)  128         ['conv2d_1[0][0]']               \n",
      " rmalization)                                                                                     \n",
      "                                                                                                  \n",
      " max_pooling2d (MaxPooling2D)   (None, 24, 32, 32)   0           ['batch_normalization_1[0][0]']  \n",
      "                                                                                                  \n",
      " conv2d_2 (Conv2D)              (None, 24, 32, 64)   18496       ['max_pooling2d[0][0]']          \n",
      "                                                                                                  \n",
      " batch_normalization_2 (BatchNo  (None, 24, 32, 64)  256         ['conv2d_2[0][0]']               \n",
      " rmalization)                                                                                     \n",
      "                                                                                                  \n",
      " dropout_1 (Dropout)            (None, 24, 32, 64)   0           ['batch_normalization_2[0][0]']  \n",
      "                                                                                                  \n",
      " conv2d_3 (Conv2D)              (None, 24, 32, 64)   36928       ['dropout_1[0][0]']              \n",
      "                                                                                                  \n",
      " batch_normalization_3 (BatchNo  (None, 24, 32, 64)  256         ['conv2d_3[0][0]']               \n",
      " rmalization)                                                                                     \n",
      "                                                                                                  \n",
      " max_pooling2d_1 (MaxPooling2D)  (None, 12, 16, 64)  0           ['batch_normalization_3[0][0]']  \n",
      "                                                                                                  \n",
      " conv2d_4 (Conv2D)              (None, 12, 16, 128)  73856       ['max_pooling2d_1[0][0]']        \n",
      "                                                                                                  \n",
      " batch_normalization_4 (BatchNo  (None, 12, 16, 128)  512        ['conv2d_4[0][0]']               \n",
      " rmalization)                                                                                     \n",
      "                                                                                                  \n",
      " dropout_2 (Dropout)            (None, 12, 16, 128)  0           ['batch_normalization_4[0][0]']  \n",
      "                                                                                                  \n",
      " conv2d_5 (Conv2D)              (None, 12, 16, 128)  147584      ['dropout_2[0][0]']              \n",
      "                                                                                                  \n",
      " batch_normalization_5 (BatchNo  (None, 12, 16, 128)  512        ['conv2d_5[0][0]']               \n",
      " rmalization)                                                                                     \n",
      "                                                                                                  \n",
      " max_pooling2d_2 (MaxPooling2D)  (None, 6, 8, 128)   0           ['batch_normalization_5[0][0]']  \n",
      "                                                                                                  \n",
      " conv2d_6 (Conv2D)              (None, 6, 8, 256)    295168      ['max_pooling2d_2[0][0]']        \n",
      "                                                                                                  \n",
      " batch_normalization_6 (BatchNo  (None, 6, 8, 256)   1024        ['conv2d_6[0][0]']               \n",
      " rmalization)                                                                                     \n",
      "                                                                                                  \n",
      " dropout_3 (Dropout)            (None, 6, 8, 256)    0           ['batch_normalization_6[0][0]']  \n",
      "                                                                                                  \n",
      " conv2d_7 (Conv2D)              (None, 6, 8, 256)    590080      ['dropout_3[0][0]']              \n",
      "                                                                                                  \n",
      " batch_normalization_7 (BatchNo  (None, 6, 8, 256)   1024        ['conv2d_7[0][0]']               \n",
      " rmalization)                                                                                     \n",
      "                                                                                                  \n",
      " max_pooling2d_3 (MaxPooling2D)  (None, 3, 4, 256)   0           ['batch_normalization_7[0][0]']  \n",
      "                                                                                                  \n",
      " conv2d_8 (Conv2D)              (None, 3, 4, 512)    1180160     ['max_pooling2d_3[0][0]']        \n",
      "                                                                                                  \n",
      " batch_normalization_8 (BatchNo  (None, 3, 4, 512)   2048        ['conv2d_8[0][0]']               \n",
      " rmalization)                                                                                     \n",
      "                                                                                                  \n",
      " dropout_4 (Dropout)            (None, 3, 4, 512)    0           ['batch_normalization_8[0][0]']  \n",
      "                                                                                                  \n",
      " conv2d_9 (Conv2D)              (None, 3, 4, 512)    2359808     ['dropout_4[0][0]']              \n",
      "                                                                                                  \n",
      " batch_normalization_9 (BatchNo  (None, 3, 4, 512)   2048        ['conv2d_9[0][0]']               \n",
      " rmalization)                                                                                     \n",
      "                                                                                                  \n",
      " conv2d_transpose (Conv2DTransp  (None, 6, 8, 256)   524544      ['batch_normalization_9[0][0]']  \n",
      " ose)                                                                                             \n",
      "                                                                                                  \n",
      " cropping2d (Cropping2D)        (None, 6, 8, 256)    0           ['batch_normalization_7[0][0]']  \n",
      "                                                                                                  \n",
      " concatenate (Concatenate)      (None, 6, 8, 512)    0           ['conv2d_transpose[0][0]',       \n",
      "                                                                  'cropping2d[0][0]']             \n",
      "                                                                                                  \n",
      " conv2d_10 (Conv2D)             (None, 6, 8, 256)    1179904     ['concatenate[0][0]']            \n",
      "                                                                                                  \n",
      " batch_normalization_10 (BatchN  (None, 6, 8, 256)   1024        ['conv2d_10[0][0]']              \n",
      " ormalization)                                                                                    \n",
      "                                                                                                  \n",
      " dropout_5 (Dropout)            (None, 6, 8, 256)    0           ['batch_normalization_10[0][0]'] \n",
      "                                                                                                  \n",
      " conv2d_11 (Conv2D)             (None, 6, 8, 256)    590080      ['dropout_5[0][0]']              \n",
      "                                                                                                  \n",
      " batch_normalization_11 (BatchN  (None, 6, 8, 256)   1024        ['conv2d_11[0][0]']              \n",
      " ormalization)                                                                                    \n",
      "                                                                                                  \n",
      " conv2d_transpose_1 (Conv2DTran  (None, 12, 16, 128)  131200     ['batch_normalization_11[0][0]'] \n",
      " spose)                                                                                           \n",
      "                                                                                                  \n",
      " cropping2d_1 (Cropping2D)      (None, 12, 16, 128)  0           ['batch_normalization_5[0][0]']  \n",
      "                                                                                                  \n",
      " concatenate_1 (Concatenate)    (None, 12, 16, 256)  0           ['conv2d_transpose_1[0][0]',     \n",
      "                                                                  'cropping2d_1[0][0]']           \n",
      "                                                                                                  \n",
      " conv2d_12 (Conv2D)             (None, 12, 16, 128)  295040      ['concatenate_1[0][0]']          \n",
      "                                                                                                  \n",
      " batch_normalization_12 (BatchN  (None, 12, 16, 128)  512        ['conv2d_12[0][0]']              \n",
      " ormalization)                                                                                    \n",
      "                                                                                                  \n",
      " dropout_6 (Dropout)            (None, 12, 16, 128)  0           ['batch_normalization_12[0][0]'] \n",
      "                                                                                                  \n",
      " conv2d_13 (Conv2D)             (None, 12, 16, 128)  147584      ['dropout_6[0][0]']              \n",
      "                                                                                                  \n",
      " batch_normalization_13 (BatchN  (None, 12, 16, 128)  512        ['conv2d_13[0][0]']              \n",
      " ormalization)                                                                                    \n",
      "                                                                                                  \n",
      " conv2d_transpose_2 (Conv2DTran  (None, 24, 32, 64)  32832       ['batch_normalization_13[0][0]'] \n",
      " spose)                                                                                           \n",
      "                                                                                                  \n",
      " cropping2d_2 (Cropping2D)      (None, 24, 32, 64)   0           ['batch_normalization_3[0][0]']  \n",
      "                                                                                                  \n",
      " concatenate_2 (Concatenate)    (None, 24, 32, 128)  0           ['conv2d_transpose_2[0][0]',     \n",
      "                                                                  'cropping2d_2[0][0]']           \n",
      "                                                                                                  \n",
      " conv2d_14 (Conv2D)             (None, 24, 32, 64)   73792       ['concatenate_2[0][0]']          \n",
      "                                                                                                  \n",
      " batch_normalization_14 (BatchN  (None, 24, 32, 64)  256         ['conv2d_14[0][0]']              \n",
      " ormalization)                                                                                    \n",
      "                                                                                                  \n",
      " dropout_7 (Dropout)            (None, 24, 32, 64)   0           ['batch_normalization_14[0][0]'] \n",
      "                                                                                                  \n",
      " conv2d_15 (Conv2D)             (None, 24, 32, 64)   36928       ['dropout_7[0][0]']              \n",
      "                                                                                                  \n",
      " batch_normalization_15 (BatchN  (None, 24, 32, 64)  256         ['conv2d_15[0][0]']              \n",
      " ormalization)                                                                                    \n",
      "                                                                                                  \n",
      " conv2d_transpose_3 (Conv2DTran  (None, 48, 64, 32)  8224        ['batch_normalization_15[0][0]'] \n",
      " spose)                                                                                           \n",
      "                                                                                                  \n",
      " cropping2d_3 (Cropping2D)      (None, 48, 64, 32)   0           ['batch_normalization_1[0][0]']  \n",
      "                                                                                                  \n",
      " concatenate_3 (Concatenate)    (None, 48, 64, 64)   0           ['conv2d_transpose_3[0][0]',     \n",
      "                                                                  'cropping2d_3[0][0]']           \n",
      "                                                                                                  \n",
      " conv2d_16 (Conv2D)             (None, 48, 64, 32)   18464       ['concatenate_3[0][0]']          \n",
      "                                                                                                  \n",
      " batch_normalization_16 (BatchN  (None, 48, 64, 32)  128         ['conv2d_16[0][0]']              \n",
      " ormalization)                                                                                    \n",
      "                                                                                                  \n",
      " dropout_8 (Dropout)            (None, 48, 64, 32)   0           ['batch_normalization_16[0][0]'] \n",
      "                                                                                                  \n",
      " conv2d_17 (Conv2D)             (None, 48, 64, 32)   9248        ['dropout_8[0][0]']              \n",
      "                                                                                                  \n",
      " conv2d_18 (Conv2D)             (None, 48, 64, 1)    33          ['conv2d_17[0][0]']              \n",
      "                                                                                                  \n",
      " cropping2d_4 (Cropping2D)      (None, 46, 56, 1)    0           ['conv2d_18[0][0]']              \n",
      "                                                                                                  \n",
      "==================================================================================================\n",
      "Total params: 7,773,761\n",
      "Trainable params: 7,767,937\n",
      "Non-trainable params: 5,824\n",
      "__________________________________________________________________________________________________\n"
     ]
    }
   ],
   "source": [
    "um.summary()"
   ]
  },
  {
   "cell_type": "code",
   "execution_count": 30,
   "id": "65d9f2be-d1ee-44e6-9512-48d8c703454a",
   "metadata": {
    "tags": []
   },
   "outputs": [
    {
     "name": "stdout",
     "output_type": "stream",
     "text": [
      "Epoch 1/20\n"
     ]
    },
    {
     "name": "stderr",
     "output_type": "stream",
     "text": [
      "2022-03-07 14:31:16.448691: I tensorflow/stream_executor/cuda/cuda_dnn.cc:366] Loaded cuDNN version 8201\n"
     ]
    },
    {
     "name": "stdout",
     "output_type": "stream",
     "text": [
      "155/155 [==============================] - 18s 78ms/step - loss: 0.3521 - accuracy: 0.0832 - precision: 0.1796 - recall: 0.8914 - val_loss: 0.2870 - val_accuracy: 0.1039 - val_precision: 0.3196 - val_recall: 0.8363\n",
      "Epoch 2/20\n",
      "155/155 [==============================] - 11s 71ms/step - loss: 0.2691 - accuracy: 0.0967 - precision: 0.2411 - recall: 0.9247 - val_loss: 0.3135 - val_accuracy: 0.1064 - val_precision: 0.3890 - val_recall: 0.7837\n",
      "Epoch 3/20\n",
      "155/155 [==============================] - 11s 72ms/step - loss: 0.2496 - accuracy: 0.1047 - precision: 0.2575 - recall: 0.9313 - val_loss: 0.2511 - val_accuracy: 0.1128 - val_precision: 0.3460 - val_recall: 0.8701\n",
      "Epoch 4/20\n",
      "155/155 [==============================] - 11s 71ms/step - loss: 0.2367 - accuracy: 0.1091 - precision: 0.2674 - recall: 0.9387 - val_loss: 0.2364 - val_accuracy: 0.1244 - val_precision: 0.3464 - val_recall: 0.8930\n",
      "Epoch 5/20\n",
      "155/155 [==============================] - 11s 71ms/step - loss: 0.2281 - accuracy: 0.1112 - precision: 0.2787 - recall: 0.9415 - val_loss: 0.2278 - val_accuracy: 0.1226 - val_precision: 0.3371 - val_recall: 0.9150\n",
      "Epoch 6/20\n",
      "155/155 [==============================] - 11s 71ms/step - loss: 0.2202 - accuracy: 0.1130 - precision: 0.2858 - recall: 0.9439 - val_loss: 0.2154 - val_accuracy: 0.1283 - val_precision: 0.3441 - val_recall: 0.9269\n",
      "Epoch 7/20\n",
      "155/155 [==============================] - 11s 72ms/step - loss: 0.2139 - accuracy: 0.1164 - precision: 0.2923 - recall: 0.9433 - val_loss: 0.2073 - val_accuracy: 0.1311 - val_precision: 0.3361 - val_recall: 0.9351\n",
      "Epoch 8/20\n",
      "155/155 [==============================] - 11s 71ms/step - loss: 0.2088 - accuracy: 0.1171 - precision: 0.2982 - recall: 0.9457 - val_loss: 0.2010 - val_accuracy: 0.1372 - val_precision: 0.3545 - val_recall: 0.9262\n",
      "Epoch 9/20\n",
      "155/155 [==============================] - 11s 72ms/step - loss: 0.2033 - accuracy: 0.1196 - precision: 0.3021 - recall: 0.9484 - val_loss: 0.1948 - val_accuracy: 0.1358 - val_precision: 0.3212 - val_recall: 0.9538\n",
      "Epoch 10/20\n",
      "155/155 [==============================] - 11s 72ms/step - loss: 0.1985 - accuracy: 0.1217 - precision: 0.3082 - recall: 0.9501 - val_loss: 0.1909 - val_accuracy: 0.1318 - val_precision: 0.3884 - val_recall: 0.9292\n",
      "Epoch 11/20\n",
      "155/155 [==============================] - 11s 72ms/step - loss: 0.1953 - accuracy: 0.1210 - precision: 0.3131 - recall: 0.9509 - val_loss: 0.1844 - val_accuracy: 0.1356 - val_precision: 0.3757 - val_recall: 0.9384\n",
      "Epoch 12/20\n",
      "155/155 [==============================] - 11s 71ms/step - loss: 0.1926 - accuracy: 0.1237 - precision: 0.3192 - recall: 0.9532 - val_loss: 0.1868 - val_accuracy: 0.1405 - val_precision: 0.3792 - val_recall: 0.9313\n",
      "Epoch 13/20\n",
      "155/155 [==============================] - 11s 72ms/step - loss: 0.1876 - accuracy: 0.1250 - precision: 0.3235 - recall: 0.9540 - val_loss: 0.1768 - val_accuracy: 0.1383 - val_precision: 0.3488 - val_recall: 0.9609\n",
      "Epoch 14/20\n",
      "155/155 [==============================] - 11s 72ms/step - loss: 0.1829 - accuracy: 0.1254 - precision: 0.3329 - recall: 0.9581 - val_loss: 0.1750 - val_accuracy: 0.1335 - val_precision: 0.4115 - val_recall: 0.9375\n",
      "Epoch 15/20\n",
      "155/155 [==============================] - 11s 71ms/step - loss: 0.1793 - accuracy: 0.1278 - precision: 0.3341 - recall: 0.9591 - val_loss: 0.1684 - val_accuracy: 0.1454 - val_precision: 0.3783 - val_recall: 0.9596\n",
      "Epoch 16/20\n",
      "155/155 [==============================] - 11s 72ms/step - loss: 0.1772 - accuracy: 0.1282 - precision: 0.3409 - recall: 0.9609 - val_loss: 0.1614 - val_accuracy: 0.1369 - val_precision: 0.4032 - val_recall: 0.9533\n",
      "Epoch 17/20\n",
      "155/155 [==============================] - 11s 72ms/step - loss: 0.1720 - accuracy: 0.1290 - precision: 0.3506 - recall: 0.9616 - val_loss: 0.1595 - val_accuracy: 0.1371 - val_precision: 0.3956 - val_recall: 0.9607\n",
      "Epoch 18/20\n",
      "155/155 [==============================] - 11s 71ms/step - loss: 0.1709 - accuracy: 0.1292 - precision: 0.3525 - recall: 0.9631 - val_loss: 0.1627 - val_accuracy: 0.1398 - val_precision: 0.4452 - val_recall: 0.9428\n",
      "Epoch 19/20\n",
      "155/155 [==============================] - 11s 71ms/step - loss: 0.1665 - accuracy: 0.1329 - precision: 0.3576 - recall: 0.9648 - val_loss: 0.1534 - val_accuracy: 0.1472 - val_precision: 0.4125 - val_recall: 0.9642\n",
      "Epoch 20/20\n",
      "155/155 [==============================] - 11s 72ms/step - loss: 0.1635 - accuracy: 0.1322 - precision: 0.3655 - recall: 0.9642 - val_loss: 0.1502 - val_accuracy: 0.1462 - val_precision: 0.4523 - val_recall: 0.9569\n"
     ]
    }
   ],
   "source": [
    "h_unet = um.fit(dg_train, epochs=EPOCHS, validation_data= dg_val)"
   ]
  },
  {
   "cell_type": "code",
   "execution_count": 31,
   "id": "d19bc99b-f69e-49cb-9ff0-c421b7f61dda",
   "metadata": {},
   "outputs": [
    {
     "data": {
      "image/png": "[encoded data removed]",
      "text/plain": [
       "<Figure size 1296x288 with 3 Axes>"
      ]
     },
     "metadata": {
      "needs_background": "light"
     },
     "output_type": "display_data"
    }
   ],
   "source": [
    "figure, axis = plt.subplots(1, 3)\n",
    "\n",
    "# For Sine Function\n",
    "pd.DataFrame(h_unet.history)[['loss','val_loss']].plot(figsize=(18,4), ax=axis[0], grid=True)\n",
    "pd.DataFrame(h_unet.history)[['precision','val_precision']].plot(figsize=(18,4), ax=axis[1],grid=True)\n",
    "pd.DataFrame(h_unet.history)[['recall','val_recall']].plot(figsize=(18,4), ax=axis[2],grid=True)\n",
    "plt.show()\n",
    "\n"
   ]
  },
  {
   "cell_type": "code",
   "execution_count": 32,
   "id": "cabb06f3-67a2-4e56-976f-73588bfa2612",
   "metadata": {},
   "outputs": [
    {
     "name": "stdout",
     "output_type": "stream",
     "text": [
      "WARNING:tensorflow:Keras is training/fitting/evaluating on array-like data. Keras may not be optimized for this format, so if your input data format is supported by TensorFlow I/O (https://github.com/tensorflow/io) we recommend using that to load a Dataset instead.\n"
     ]
    }
   ],
   "source": [
    "# make predictions\n",
    "pred = um.predict(dg_test.data)"
   ]
  },
  {
   "cell_type": "code",
   "execution_count": 35,
   "id": "854b8ce5-b781-4c99-b35d-d95f0bddf524",
   "metadata": {},
   "outputs": [],
   "source": [
    "pred= pred.reshape(pred.shape[0],pred.shape[1],pred.shape[2])"
   ]
  },
  {
   "cell_type": "code",
   "execution_count": 36,
   "id": "34d2999f-2675-44dd-a190-5cd068b0bd20",
   "metadata": {},
   "outputs": [],
   "source": [
    "rmse = compute_weighted_rmse(dg_test.labels,pred) #OK, I need to check this out.."
   ]
  },
  {
   "cell_type": "code",
   "execution_count": 37,
   "id": "c0b27541-30dd-46fd-ab18-0bb6a6def745",
   "metadata": {},
   "outputs": [
    {
     "data": {
      "text/html": [
       "<div><svg style=\"position: absolute; width: 0; height: 0; overflow: hidden\">\n",
       "<defs>\n",
       "<symbol id=\"icon-database\" viewBox=\"0 0 32 32\">\n",
       "<path d=\"M16 0c-8.837 0-16 2.239-16 5v4c0 2.761 7.163 5 16 5s16-2.239 16-5v-4c0-2.761-7.163-5-16-5z\"></path>\n",
       "<path d=\"M16 17c-8.837 0-16-2.239-16-5v6c0 2.761 7.163 5 16 5s16-2.239 16-5v-6c0 2.761-7.163 5-16 5z\"></path>\n",
       "<path d=\"M16 26c-8.837 0-16-2.239-16-5v6c0 2.761 7.163 5 16 5s16-2.239 16-5v-6c0 2.761-7.163 5-16 5z\"></path>\n",
       "</symbol>\n",
       "<symbol id=\"icon-file-text2\" viewBox=\"0 0 32 32\">\n",
       "<path d=\"M28.681 7.159c-0.694-0.947-1.662-2.053-2.724-3.116s-2.169-2.030-3.116-2.724c-1.612-1.182-2.393-1.319-2.841-1.319h-15.5c-1.378 0-2.5 1.121-2.5 2.5v27c0 1.378 1.122 2.5 2.5 2.5h23c1.378 0 2.5-1.122 2.5-2.5v-19.5c0-0.448-0.137-1.23-1.319-2.841zM24.543 5.457c0.959 0.959 1.712 1.825 2.268 2.543h-4.811v-4.811c0.718 0.556 1.584 1.309 2.543 2.268zM28 29.5c0 0.271-0.229 0.5-0.5 0.5h-23c-0.271 0-0.5-0.229-0.5-0.5v-27c0-0.271 0.229-0.5 0.5-0.5 0 0 15.499-0 15.5 0v7c0 0.552 0.448 1 1 1h7v19.5z\"></path>\n",
       "<path d=\"M23 26h-14c-0.552 0-1-0.448-1-1s0.448-1 1-1h14c0.552 0 1 0.448 1 1s-0.448 1-1 1z\"></path>\n",
       "<path d=\"M23 22h-14c-0.552 0-1-0.448-1-1s0.448-1 1-1h14c0.552 0 1 0.448 1 1s-0.448 1-1 1z\"></path>\n",
       "<path d=\"M23 18h-14c-0.552 0-1-0.448-1-1s0.448-1 1-1h14c0.552 0 1 0.448 1 1s-0.448 1-1 1z\"></path>\n",
       "</symbol>\n",
       "</defs>\n",
       "</svg>\n",
       "<style>/* CSS stylesheet for displaying xarray objects in jupyterlab.\n",
       " *\n",
       " */\n",
       "\n",
       ":root {\n",
       "  --xr-font-color0: var(--jp-content-font-color0, rgba(0, 0, 0, 1));\n",
       "  --xr-font-color2: var(--jp-content-font-color2, rgba(0, 0, 0, 0.54));\n",
       "  --xr-font-color3: var(--jp-content-font-color3, rgba(0, 0, 0, 0.38));\n",
       "  --xr-border-color: var(--jp-border-color2, #e0e0e0);\n",
       "  --xr-disabled-color: var(--jp-layout-color3, #bdbdbd);\n",
       "  --xr-background-color: var(--jp-layout-color0, white);\n",
       "  --xr-background-color-row-even: var(--jp-layout-color1, white);\n",
       "  --xr-background-color-row-odd: var(--jp-layout-color2, #eeeeee);\n",
       "}\n",
       "\n",
       "html[theme=dark],\n",
       "body.vscode-dark {\n",
       "  --xr-font-color0: rgba(255, 255, 255, 1);\n",
       "  --xr-font-color2: rgba(255, 255, 255, 0.54);\n",
       "  --xr-font-color3: rgba(255, 255, 255, 0.38);\n",
       "  --xr-border-color: #1F1F1F;\n",
       "  --xr-disabled-color: #515151;\n",
       "  --xr-background-color: #111111;\n",
       "  --xr-background-color-row-even: #111111;\n",
       "  --xr-background-color-row-odd: #313131;\n",
       "}\n",
       "\n",
       ".xr-wrap {\n",
       "  display: block !important;\n",
       "  min-width: 300px;\n",
       "  max-width: 700px;\n",
       "}\n",
       "\n",
       ".xr-text-repr-fallback {\n",
       "  /* fallback to plain text repr when CSS is not injected (untrusted notebook) */\n",
       "  display: none;\n",
       "}\n",
       "\n",
       ".xr-header {\n",
       "  padding-top: 6px;\n",
       "  padding-bottom: 6px;\n",
       "  margin-bottom: 4px;\n",
       "  border-bottom: solid 1px var(--xr-border-color);\n",
       "}\n",
       "\n",
       ".xr-header > div,\n",
       ".xr-header > ul {\n",
       "  display: inline;\n",
       "  margin-top: 0;\n",
       "  margin-bottom: 0;\n",
       "}\n",
       "\n",
       ".xr-obj-type,\n",
       ".xr-array-name {\n",
       "  margin-left: 2px;\n",
       "  margin-right: 10px;\n",
       "}\n",
       "\n",
       ".xr-obj-type {\n",
       "  color: var(--xr-font-color2);\n",
       "}\n",
       "\n",
       ".xr-sections {\n",
       "  padding-left: 0 !important;\n",
       "  display: grid;\n",
       "  grid-template-columns: 150px auto auto 1fr 20px 20px;\n",
       "}\n",
       "\n",
       ".xr-section-item {\n",
       "  display: contents;\n",
       "}\n",
       "\n",
       ".xr-section-item input {\n",
       "  display: none;\n",
       "}\n",
       "\n",
       ".xr-section-item input + label {\n",
       "  color: var(--xr-disabled-color);\n",
       "}\n",
       "\n",
       ".xr-section-item input:enabled + label {\n",
       "  cursor: pointer;\n",
       "  color: var(--xr-font-color2);\n",
       "}\n",
       "\n",
       ".xr-section-item input:enabled + label:hover {\n",
       "  color: var(--xr-font-color0);\n",
       "}\n",
       "\n",
       ".xr-section-summary {\n",
       "  grid-column: 1;\n",
       "  color: var(--xr-font-color2);\n",
       "  font-weight: 500;\n",
       "}\n",
       "\n",
       ".xr-section-summary > span {\n",
       "  display: inline-block;\n",
       "  padding-left: 0.5em;\n",
       "}\n",
       "\n",
       ".xr-section-summary-in:disabled + label {\n",
       "  color: var(--xr-font-color2);\n",
       "}\n",
       "\n",
       ".xr-section-summary-in + label:before {\n",
       "  display: inline-block;\n",
       "  content: '►';\n",
       "  font-size: 11px;\n",
       "  width: 15px;\n",
       "  text-align: center;\n",
       "}\n",
       "\n",
       ".xr-section-summary-in:disabled + label:before {\n",
       "  color: var(--xr-disabled-color);\n",
       "}\n",
       "\n",
       ".xr-section-summary-in:checked + label:before {\n",
       "  content: '▼';\n",
       "}\n",
       "\n",
       ".xr-section-summary-in:checked + label > span {\n",
       "  display: none;\n",
       "}\n",
       "\n",
       ".xr-section-summary,\n",
       ".xr-section-inline-details {\n",
       "  padding-top: 4px;\n",
       "  padding-bottom: 4px;\n",
       "}\n",
       "\n",
       ".xr-section-inline-details {\n",
       "  grid-column: 2 / -1;\n",
       "}\n",
       "\n",
       ".xr-section-details {\n",
       "  display: none;\n",
       "  grid-column: 1 / -1;\n",
       "  margin-bottom: 5px;\n",
       "}\n",
       "\n",
       ".xr-section-summary-in:checked ~ .xr-section-details {\n",
       "  display: contents;\n",
       "}\n",
       "\n",
       ".xr-array-wrap {\n",
       "  grid-column: 1 / -1;\n",
       "  display: grid;\n",
       "  grid-template-columns: 20px auto;\n",
       "}\n",
       "\n",
       ".xr-array-wrap > label {\n",
       "  grid-column: 1;\n",
       "  vertical-align: top;\n",
       "}\n",
       "\n",
       ".xr-preview {\n",
       "  color: var(--xr-font-color3);\n",
       "}\n",
       "\n",
       ".xr-array-preview,\n",
       ".xr-array-data {\n",
       "  padding: 0 5px !important;\n",
       "  grid-column: 2;\n",
       "}\n",
       "\n",
       ".xr-array-data,\n",
       ".xr-array-in:checked ~ .xr-array-preview {\n",
       "  display: none;\n",
       "}\n",
       "\n",
       ".xr-array-in:checked ~ .xr-array-data,\n",
       ".xr-array-preview {\n",
       "  display: inline-block;\n",
       "}\n",
       "\n",
       ".xr-dim-list {\n",
       "  display: inline-block !important;\n",
       "  list-style: none;\n",
       "  padding: 0 !important;\n",
       "  margin: 0;\n",
       "}\n",
       "\n",
       ".xr-dim-list li {\n",
       "  display: inline-block;\n",
       "  padding: 0;\n",
       "  margin: 0;\n",
       "}\n",
       "\n",
       ".xr-dim-list:before {\n",
       "  content: '(';\n",
       "}\n",
       "\n",
       ".xr-dim-list:after {\n",
       "  content: ')';\n",
       "}\n",
       "\n",
       ".xr-dim-list li:not(:last-child):after {\n",
       "  content: ',';\n",
       "  padding-right: 5px;\n",
       "}\n",
       "\n",
       ".xr-has-index {\n",
       "  font-weight: bold;\n",
       "}\n",
       "\n",
       ".xr-var-list,\n",
       ".xr-var-item {\n",
       "  display: contents;\n",
       "}\n",
       "\n",
       ".xr-var-item > div,\n",
       ".xr-var-item label,\n",
       ".xr-var-item > .xr-var-name span {\n",
       "  background-color: var(--xr-background-color-row-even);\n",
       "  margin-bottom: 0;\n",
       "}\n",
       "\n",
       ".xr-var-item > .xr-var-name:hover span {\n",
       "  padding-right: 5px;\n",
       "}\n",
       "\n",
       ".xr-var-list > li:nth-child(odd) > div,\n",
       ".xr-var-list > li:nth-child(odd) > label,\n",
       ".xr-var-list > li:nth-child(odd) > .xr-var-name span {\n",
       "  background-color: var(--xr-background-color-row-odd);\n",
       "}\n",
       "\n",
       ".xr-var-name {\n",
       "  grid-column: 1;\n",
       "}\n",
       "\n",
       ".xr-var-dims {\n",
       "  grid-column: 2;\n",
       "}\n",
       "\n",
       ".xr-var-dtype {\n",
       "  grid-column: 3;\n",
       "  text-align: right;\n",
       "  color: var(--xr-font-color2);\n",
       "}\n",
       "\n",
       ".xr-var-preview {\n",
       "  grid-column: 4;\n",
       "}\n",
       "\n",
       ".xr-var-name,\n",
       ".xr-var-dims,\n",
       ".xr-var-dtype,\n",
       ".xr-preview,\n",
       ".xr-attrs dt {\n",
       "  white-space: nowrap;\n",
       "  overflow: hidden;\n",
       "  text-overflow: ellipsis;\n",
       "  padding-right: 10px;\n",
       "}\n",
       "\n",
       ".xr-var-name:hover,\n",
       ".xr-var-dims:hover,\n",
       ".xr-var-dtype:hover,\n",
       ".xr-attrs dt:hover {\n",
       "  overflow: visible;\n",
       "  width: auto;\n",
       "  z-index: 1;\n",
       "}\n",
       "\n",
       ".xr-var-attrs,\n",
       ".xr-var-data {\n",
       "  display: none;\n",
       "  background-color: var(--xr-background-color) !important;\n",
       "  padding-bottom: 5px !important;\n",
       "}\n",
       "\n",
       ".xr-var-attrs-in:checked ~ .xr-var-attrs,\n",
       ".xr-var-data-in:checked ~ .xr-var-data {\n",
       "  display: block;\n",
       "}\n",
       "\n",
       ".xr-var-data > table {\n",
       "  float: right;\n",
       "}\n",
       "\n",
       ".xr-var-name span,\n",
       ".xr-var-data,\n",
       ".xr-attrs {\n",
       "  padding-left: 25px !important;\n",
       "}\n",
       "\n",
       ".xr-attrs,\n",
       ".xr-var-attrs,\n",
       ".xr-var-data {\n",
       "  grid-column: 1 / -1;\n",
       "}\n",
       "\n",
       "dl.xr-attrs {\n",
       "  padding: 0;\n",
       "  margin: 0;\n",
       "  display: grid;\n",
       "  grid-template-columns: 125px auto;\n",
       "}\n",
       "\n",
       ".xr-attrs dt,\n",
       ".xr-attrs dd {\n",
       "  padding: 0;\n",
       "  margin: 0;\n",
       "  float: left;\n",
       "  padding-right: 10px;\n",
       "  width: auto;\n",
       "}\n",
       "\n",
       ".xr-attrs dt {\n",
       "  font-weight: normal;\n",
       "  grid-column: 1;\n",
       "}\n",
       "\n",
       ".xr-attrs dt:hover span {\n",
       "  display: inline-block;\n",
       "  background: var(--xr-background-color);\n",
       "  padding-right: 10px;\n",
       "}\n",
       "\n",
       ".xr-attrs dd {\n",
       "  grid-column: 2;\n",
       "  white-space: pre-wrap;\n",
       "  word-break: break-all;\n",
       "}\n",
       "\n",
       ".xr-icon-database,\n",
       ".xr-icon-file-text2 {\n",
       "  display: inline-block;\n",
       "  vertical-align: middle;\n",
       "  width: 1em;\n",
       "  height: 1.5em !important;\n",
       "  stroke-width: 0;\n",
       "  stroke: currentColor;\n",
       "  fill: currentColor;\n",
       "}\n",
       "</style><pre class='xr-text-repr-fallback'>&lt;xarray.DataArray ()&gt;\n",
       "array(0.24691148)\n",
       "Coordinates:\n",
       "    quantile  float64 0.95</pre><div class='xr-wrap' style='display:none'><div class='xr-header'><div class='xr-obj-type'>xarray.DataArray</div><div class='xr-array-name'></div></div><ul class='xr-sections'><li class='xr-section-item'><div class='xr-array-wrap'><input id='section-38906487-fc4f-4145-b60c-a216d9319137' class='xr-array-in' type='checkbox' checked><label for='section-38906487-fc4f-4145-b60c-a216d9319137' title='Show/hide data repr'><svg class='icon xr-icon-database'><use xlink:href='#icon-database'></use></svg></label><div class='xr-array-preview xr-preview'><span>0.2469</span></div><div class='xr-array-data'><pre>array(0.24691148)</pre></div></div></li><li class='xr-section-item'><input id='section-ad35e4de-6b5f-40eb-b499-7b27d1cd8b9d' class='xr-section-summary-in' type='checkbox'  checked><label for='section-ad35e4de-6b5f-40eb-b499-7b27d1cd8b9d' class='xr-section-summary' >Coordinates: <span>(1)</span></label><div class='xr-section-inline-details'></div><div class='xr-section-details'><ul class='xr-var-list'><li class='xr-var-item'><div class='xr-var-name'><span>quantile</span></div><div class='xr-var-dims'>()</div><div class='xr-var-dtype'>float64</div><div class='xr-var-preview xr-preview'>0.95</div><input id='attrs-63bc223b-d710-4545-afef-21e4528a4745' class='xr-var-attrs-in' type='checkbox' disabled><label for='attrs-63bc223b-d710-4545-afef-21e4528a4745' title='Show/Hide attributes'><svg class='icon xr-icon-file-text2'><use xlink:href='#icon-file-text2'></use></svg></label><input id='data-7d869309-b058-4ae6-b42a-1eb9fd5cbcaa' class='xr-var-data-in' type='checkbox'><label for='data-7d869309-b058-4ae6-b42a-1eb9fd5cbcaa' title='Show/Hide data repr'><svg class='icon xr-icon-database'><use xlink:href='#icon-database'></use></svg></label><div class='xr-var-attrs'><dl class='xr-attrs'></dl></div><div class='xr-var-data'><pre>array(0.95)</pre></div></li></ul></div></li><li class='xr-section-item'><input id='section-a9faaef4-d9b2-4286-88e9-779cf3dda3a7' class='xr-section-summary-in' type='checkbox' disabled ><label for='section-a9faaef4-d9b2-4286-88e9-779cf3dda3a7' class='xr-section-summary'  title='Expand/collapse section'>Attributes: <span>(0)</span></label><div class='xr-section-inline-details'></div><div class='xr-section-details'><dl class='xr-attrs'></dl></div></li></ul></div></div>"
      ],
      "text/plain": [
       "<xarray.DataArray ()>\n",
       "array(0.24691148)\n",
       "Coordinates:\n",
       "    quantile  float64 0.95"
      ]
     },
     "execution_count": 37,
     "metadata": {},
     "output_type": "execute_result"
    }
   ],
   "source": [
    "rmse"
   ]
  },
  {
   "cell_type": "markdown",
   "id": "cfe19777-9fa3-4af2-bfef-3c864b2b490f",
   "metadata": {},
   "source": [
    "### ResNet  "
   ]
  },
  {
   "cell_type": "code",
   "execution_count": null,
   "id": "ba3f272b-6e7f-4c45-8305-c6e76d0e261b",
   "metadata": {},
   "outputs": [],
   "source": [
    "# I'll skip this for now, it's not working well..need to check if makes sense.."
   ]
  },
  {
   "cell_type": "code",
   "execution_count": null,
   "id": "9ff0c09e-f591-4dba-9744-3296b703af44",
   "metadata": {},
   "outputs": [],
   "source": [
    "m_res = Adapted_resnet(i_shape) "
   ]
  },
  {
   "cell_type": "code",
   "execution_count": null,
   "id": "601fc227-fc58-41c7-84b6-1e7c4ea0d772",
   "metadata": {},
   "outputs": [],
   "source": [
    "m_res.compile(optimizer = optimizer, loss = model_loss , metrics = METRICS)"
   ]
  },
  {
   "cell_type": "code",
   "execution_count": null,
   "id": "333121b7-0510-4235-b47a-7b00b3fbab67",
   "metadata": {
    "tags": []
   },
   "outputs": [],
   "source": [
    "h_res = m_res.fit(dg_train, epochs=EPOCHS, validation_data= dg_val)"
   ]
  },
  {
   "cell_type": "markdown",
   "id": "9da9cad9-b2ea-46a5-9676-76bc986beefd",
   "metadata": {},
   "source": [
    "### More model architectures"
   ]
  },
  {
   "cell_type": "markdown",
   "id": "59339b13-6314-4776-b637-10e6350ec15a",
   "metadata": {},
   "source": [
    "#### 1. Pan et al. 2019 (https://agupubs.onlinelibrary.wiley.com/doi/full/10.1029/2018WR024090)"
   ]
  },
  {
   "cell_type": "code",
   "execution_count": 33,
   "id": "ad60d164-2d87-4fe6-8f79-534d53996461",
   "metadata": {},
   "outputs": [],
   "source": [
    "pad = 'valid'\n",
    "stride_factor=4\n",
    "# Our shapes\n",
    "output_size = [46,56,1]\n",
    "# original inputs from the paper to reproduce fig.4\n",
    "#i_shape = [25,25,4]\n",
    "#output_size = [25,25,1]"
   ]
  },
  {
   "cell_type": "code",
   "execution_count": 34,
   "id": "3f17d297-1618-4046-95d7-47775e86007b",
   "metadata": {},
   "outputs": [],
   "source": [
    "inputs = layers.Input(shape=i_shape)\n",
    "x = layers.Conv2D(15, 4, strides=(1,1), padding = pad)(inputs)\n",
    "x = layers.BatchNormalization()(x)\n",
    "x = layers.Activation('relu')(x)\n",
    "x = layers.Conv2D(20, 4, strides=(1,1), padding = pad)(x)\n",
    "x = layers.BatchNormalization()(x)\n",
    "x = layers.Activation('relu')(x)\n",
    "x = layers.MaxPooling2D(pool_size=2)(x)\n",
    "x = layers.Conv2D(20, 4, strides=(1,1), padding = pad)(x)\n",
    "x = layers.BatchNormalization()(x)\n",
    "x = layers.Activation('relu')(x)\n",
    "x = layers.MaxPooling2D(pool_size=2)(x)\n",
    "x = layers.Flatten()(x)\n",
    "x = layers.Dropout(0.5)(x)\n",
    "x = layers.Dense(60)(x)\n",
    "x = layers.Dense(1)(x)\n",
    "x = layers.Activation('relu')(x)\n",
    "#------------------------------------\n",
    "# bottleneck for the upscalling part\n",
    "next_shape = output_size.copy()\n",
    "next_shape[0] = int(np.ceil(next_shape[0]/stride_factor))\n",
    "next_shape[1] = int(np.ceil(next_shape[1]/stride_factor))\n",
    "\n",
    "x = layers.Dense(np.prod(next_shape), activation='relu')(x)\n",
    "x = layers.Reshape(target_shape=next_shape)(x)\n",
    "x = layers.Conv2DTranspose(16, 3, strides=2, padding='same', activation='relu')(x)\n",
    "x = layers.Conv2DTranspose(16, 3, strides=2, padding='same', activation='relu')(x)\n",
    "x = layers.Conv2DTranspose(1, 3, strides=1, padding='same', activation='softmax')(x)\n",
    "outputs = crop_output(inputs,x)\n",
    "\n",
    "model = keras.Model(inputs, outputs, name=\"Pan-2019\")"
   ]
  },
  {
   "cell_type": "code",
   "execution_count": 35,
   "id": "dce68f5e-1e76-4d8d-8066-4954ac63efa5",
   "metadata": {
    "tags": []
   },
   "outputs": [
    {
     "name": "stdout",
     "output_type": "stream",
     "text": [
      "Model: \"Pan-2019\"\n",
      "_________________________________________________________________\n",
      " Layer (type)                Output Shape              Param #   \n",
      "=================================================================\n",
      " input_2 (InputLayer)        [(None, 46, 56, 10)]      0         \n",
      "                                                                 \n",
      " conv2d_19 (Conv2D)          (None, 43, 53, 15)        2415      \n",
      "                                                                 \n",
      " batch_normalization_17 (Bat  (None, 43, 53, 15)       60        \n",
      " chNormalization)                                                \n",
      "                                                                 \n",
      " activation (Activation)     (None, 43, 53, 15)        0         \n",
      "                                                                 \n",
      " conv2d_20 (Conv2D)          (None, 40, 50, 20)        4820      \n",
      "                                                                 \n",
      " batch_normalization_18 (Bat  (None, 40, 50, 20)       80        \n",
      " chNormalization)                                                \n",
      "                                                                 \n",
      " activation_1 (Activation)   (None, 40, 50, 20)        0         \n",
      "                                                                 \n",
      " max_pooling2d_4 (MaxPooling  (None, 20, 25, 20)       0         \n",
      " 2D)                                                             \n",
      "                                                                 \n",
      " conv2d_21 (Conv2D)          (None, 17, 22, 20)        6420      \n",
      "                                                                 \n",
      " batch_normalization_19 (Bat  (None, 17, 22, 20)       80        \n",
      " chNormalization)                                                \n",
      "                                                                 \n",
      " activation_2 (Activation)   (None, 17, 22, 20)        0         \n",
      "                                                                 \n",
      " max_pooling2d_5 (MaxPooling  (None, 8, 11, 20)        0         \n",
      " 2D)                                                             \n",
      "                                                                 \n",
      " flatten (Flatten)           (None, 1760)              0         \n",
      "                                                                 \n",
      " dropout_9 (Dropout)         (None, 1760)              0         \n",
      "                                                                 \n",
      " dense (Dense)               (None, 60)                105660    \n",
      "                                                                 \n",
      " dense_1 (Dense)             (None, 1)                 61        \n",
      "                                                                 \n",
      " activation_3 (Activation)   (None, 1)                 0         \n",
      "                                                                 \n",
      " dense_2 (Dense)             (None, 168)               336       \n",
      "                                                                 \n",
      " reshape (Reshape)           (None, 12, 14, 1)         0         \n",
      "                                                                 \n",
      " conv2d_transpose_4 (Conv2DT  (None, 24, 28, 16)       160       \n",
      " ranspose)                                                       \n",
      "                                                                 \n",
      " conv2d_transpose_5 (Conv2DT  (None, 48, 56, 16)       2320      \n",
      " ranspose)                                                       \n",
      "                                                                 \n",
      " conv2d_transpose_6 (Conv2DT  (None, 48, 56, 1)        145       \n",
      " ranspose)                                                       \n",
      "                                                                 \n",
      " cropping2d_5 (Cropping2D)   (None, 46, 56, 1)         0         \n",
      "                                                                 \n",
      "=================================================================\n",
      "Total params: 122,557\n",
      "Trainable params: 122,447\n",
      "Non-trainable params: 110\n",
      "_________________________________________________________________\n"
     ]
    }
   ],
   "source": [
    "model.summary()"
   ]
  },
  {
   "cell_type": "code",
   "execution_count": 36,
   "id": "274a5614-98ed-4fba-a5ee-7d17ad61f3b3",
   "metadata": {},
   "outputs": [],
   "source": [
    "# Model train\n",
    "model.compile(optimizer =optimizer, loss = model_loss , metrics = METRICS)"
   ]
  },
  {
   "cell_type": "code",
   "execution_count": 37,
   "id": "25f87b9a-b900-4147-a4f8-d2a54653e551",
   "metadata": {
    "tags": []
   },
   "outputs": [
    {
     "name": "stdout",
     "output_type": "stream",
     "text": [
      "Epoch 1/20\n",
      "155/155 [==============================] - 6s 30ms/step - loss: 7.6246 - accuracy: 0.3387 - precision: 0.0862 - recall: 0.9784 - val_loss: 7.6246 - val_accuracy: 0.5313 - val_precision: 0.0486 - val_recall: 1.0000\n",
      "Epoch 2/20\n",
      "155/155 [==============================] - 4s 27ms/step - loss: 7.6246 - accuracy: 0.5313 - precision: 0.0486 - recall: 1.0000 - val_loss: 7.6246 - val_accuracy: 0.5313 - val_precision: 0.0486 - val_recall: 1.0000\n",
      "Epoch 3/20\n",
      "155/155 [==============================] - 4s 27ms/step - loss: 7.6246 - accuracy: 0.5313 - precision: 0.0486 - recall: 1.0000 - val_loss: 7.6246 - val_accuracy: 0.5313 - val_precision: 0.0486 - val_recall: 1.0000\n",
      "Epoch 4/20\n",
      "155/155 [==============================] - 4s 26ms/step - loss: 7.6246 - accuracy: 0.5313 - precision: 0.0486 - recall: 1.0000 - val_loss: 7.6246 - val_accuracy: 0.5313 - val_precision: 0.0486 - val_recall: 1.0000\n",
      "Epoch 5/20\n",
      "155/155 [==============================] - 4s 26ms/step - loss: 7.6246 - accuracy: 0.5313 - precision: 0.0486 - recall: 1.0000 - val_loss: 7.6246 - val_accuracy: 0.5313 - val_precision: 0.0486 - val_recall: 1.0000\n",
      "Epoch 6/20\n",
      "155/155 [==============================] - 4s 26ms/step - loss: 7.6246 - accuracy: 0.5313 - precision: 0.0486 - recall: 1.0000 - val_loss: 7.6246 - val_accuracy: 0.5313 - val_precision: 0.0486 - val_recall: 1.0000\n",
      "Epoch 7/20\n",
      "155/155 [==============================] - 4s 26ms/step - loss: 7.6246 - accuracy: 0.5313 - precision: 0.0486 - recall: 1.0000 - val_loss: 7.6246 - val_accuracy: 0.5313 - val_precision: 0.0486 - val_recall: 1.0000\n",
      "Epoch 8/20\n",
      "155/155 [==============================] - 4s 26ms/step - loss: 7.6246 - accuracy: 0.5313 - precision: 0.0486 - recall: 1.0000 - val_loss: 7.6246 - val_accuracy: 0.5313 - val_precision: 0.0486 - val_recall: 1.0000\n",
      "Epoch 9/20\n",
      "155/155 [==============================] - 4s 26ms/step - loss: 7.6246 - accuracy: 0.5313 - precision: 0.0486 - recall: 1.0000 - val_loss: 7.6246 - val_accuracy: 0.5313 - val_precision: 0.0486 - val_recall: 1.0000\n",
      "Epoch 10/20\n",
      "155/155 [==============================] - 4s 27ms/step - loss: 7.6246 - accuracy: 0.5313 - precision: 0.0486 - recall: 1.0000 - val_loss: 7.6246 - val_accuracy: 0.5313 - val_precision: 0.0486 - val_recall: 1.0000\n",
      "Epoch 11/20\n",
      "155/155 [==============================] - 4s 27ms/step - loss: 7.6246 - accuracy: 0.5313 - precision: 0.0486 - recall: 1.0000 - val_loss: 7.6246 - val_accuracy: 0.5313 - val_precision: 0.0486 - val_recall: 1.0000\n",
      "Epoch 12/20\n",
      "155/155 [==============================] - 4s 26ms/step - loss: 7.6246 - accuracy: 0.5313 - precision: 0.0486 - recall: 1.0000 - val_loss: 7.6246 - val_accuracy: 0.5313 - val_precision: 0.0486 - val_recall: 1.0000\n",
      "Epoch 13/20\n",
      "155/155 [==============================] - 4s 26ms/step - loss: 7.6246 - accuracy: 0.5313 - precision: 0.0486 - recall: 1.0000 - val_loss: 7.6246 - val_accuracy: 0.5313 - val_precision: 0.0486 - val_recall: 1.0000\n",
      "Epoch 14/20\n",
      "155/155 [==============================] - 4s 26ms/step - loss: 7.6246 - accuracy: 0.5313 - precision: 0.0486 - recall: 1.0000 - val_loss: 7.6246 - val_accuracy: 0.5313 - val_precision: 0.0486 - val_recall: 1.0000\n",
      "Epoch 15/20\n",
      "155/155 [==============================] - 4s 26ms/step - loss: 7.6246 - accuracy: 0.5313 - precision: 0.0486 - recall: 1.0000 - val_loss: 7.6246 - val_accuracy: 0.5313 - val_precision: 0.0486 - val_recall: 1.0000\n",
      "Epoch 16/20\n",
      "155/155 [==============================] - 4s 26ms/step - loss: 7.6246 - accuracy: 0.5313 - precision: 0.0486 - recall: 1.0000 - val_loss: 7.6246 - val_accuracy: 0.5313 - val_precision: 0.0486 - val_recall: 1.0000\n",
      "Epoch 17/20\n",
      "155/155 [==============================] - 4s 27ms/step - loss: 7.6246 - accuracy: 0.5313 - precision: 0.0486 - recall: 1.0000 - val_loss: 7.6246 - val_accuracy: 0.5313 - val_precision: 0.0486 - val_recall: 1.0000\n",
      "Epoch 18/20\n",
      "155/155 [==============================] - 4s 26ms/step - loss: 7.6246 - accuracy: 0.5313 - precision: 0.0486 - recall: 1.0000 - val_loss: 7.6246 - val_accuracy: 0.5313 - val_precision: 0.0486 - val_recall: 1.0000\n",
      "Epoch 19/20\n",
      "155/155 [==============================] - 4s 26ms/step - loss: 7.6246 - accuracy: 0.5313 - precision: 0.0486 - recall: 1.0000 - val_loss: 7.6246 - val_accuracy: 0.5313 - val_precision: 0.0486 - val_recall: 1.0000\n",
      "Epoch 20/20\n",
      "155/155 [==============================] - 4s 26ms/step - loss: 7.6246 - accuracy: 0.5313 - precision: 0.0486 - recall: 1.0000 - val_loss: 7.6246 - val_accuracy: 0.5313 - val_precision: 0.0486 - val_recall: 1.0000\n"
     ]
    }
   ],
   "source": [
    "his_pmodel = model.fit(dg_train, epochs=EPOCHS, validation_data= dg_val)"
   ]
  },
  {
   "cell_type": "code",
   "execution_count": 38,
   "id": "e8fb8bbd-dba9-4d7a-98bf-be5592ba72ec",
   "metadata": {},
   "outputs": [
    {
     "data": {
      "image/png": "[encoded data removed]",
      "text/plain": [
       "<Figure size 1296x288 with 3 Axes>"
      ]
     },
     "metadata": {
      "needs_background": "light"
     },
     "output_type": "display_data"
    }
   ],
   "source": [
    "figure, axis = plt.subplots(1, 3)\n",
    "\n",
    "# For Sine Function\n",
    "pd.DataFrame(his_pmodel.history)[['loss','val_loss']].plot(figsize=(18,4), ax=axis[0], grid=True)\n",
    "pd.DataFrame(his_pmodel.history)[['precision','val_precision']].plot(figsize=(18,4), ax=axis[1],grid=True)\n",
    "pd.DataFrame(his_pmodel.history)[['recall','val_recall']].plot(figsize=(18,4), ax=axis[2],grid=True)\n",
    "plt.show()"
   ]
  },
  {
   "cell_type": "markdown",
   "id": "a8c465af-0a11-4fc2-bf5a-df7d7b2f7475",
   "metadata": {},
   "source": [
    "#### 2. Shi2020 (https://agupubs.onlinelibrary.wiley.com/doi/full/10.1029/2020GL090309)"
   ]
  },
  {
   "cell_type": "code",
   "execution_count": 71,
   "id": "86c03c77-367c-47b3-9487-c8837e68ec7e",
   "metadata": {},
   "outputs": [],
   "source": [
    "from tensorflow.keras.layers import Conv3D, MaxPooling3D, GlobalAveragePooling3D, SeparableConvolution2D"
   ]
  },
  {
   "cell_type": "markdown",
   "id": "b4ec524f-51d9-4ac1-9489-ce5bee081056",
   "metadata": {},
   "source": [
    "#### 2.1. RaNet"
   ]
  },
  {
   "cell_type": "code",
   "execution_count": 115,
   "id": "e1f5927e-3001-4016-a4cf-52ec7f77d028",
   "metadata": {},
   "outputs": [],
   "source": [
    "# In this case using conv3D the input has to be 4D tensor, so it is splitted in lev, lat,lon, var\n",
    "i_shape = [7, 46, 56,3]\n",
    "#i_shape = [6, 12, 12, 5] #--> shape used in Shi2020"
   ]
  },
  {
   "cell_type": "code",
   "execution_count": 119,
   "id": "7be6e85e-d428-4b03-a396-2a2199d396d7",
   "metadata": {},
   "outputs": [],
   "source": [
    "inputs = layers.Input(shape=i_shape)\n",
    "x = layers.Conv3D(128, kernel_size=(3, 3, 3),padding=\"same\")(inputs)\n",
    "x = layers.BatchNormalization()(x)\n",
    "x = layers.Activation('relu')(x)\n",
    "x = layers.MaxPooling3D()(x)\n",
    "x = layers.Conv3D(256, kernel_size=(3, 3, 3),padding=\"same\")(x)\n",
    "x = layers.BatchNormalization()(x)\n",
    "x = layers.Activation('relu')(x)\n",
    "x = layers.MaxPooling3D()(x)\n",
    "x = layers.Conv3D(512, kernel_size=(3, 3, 3),padding=\"same\")(x)\n",
    "\n",
    "x = layers.GlobalAveragePooling3D()(x)\n",
    "x = layers.Dense(512, activation='relu')(x)\n",
    "x = layers.Dropout(0.2)(x)\n",
    "x = layers.Dense(2048, activation='relu')(x)\n",
    "x = layers.Dropout(0.2)(x)\n",
    "#---------note: we can skip the 3-last fully connected layers to add the upscalling part (?)\n",
    "x = layers.Dense(2048, activation='relu')(x)\n",
    "x = layers.Dropout(0.2)(x)\n",
    "x = layers.Dense(256, activation='relu')(x)\n",
    "x = layers.Dropout(0.2)(x)\n",
    "x = layers.Dense(32, activation='relu')(x)\n",
    "x = layers.Dropout(0.2)(x)\n",
    "x = layers.Dense(1, activation='softmax')(x)\n",
    "outputs = layers.Dropout(0.2)(x)\n",
    "model = keras.Model(inputs, outputs, name=\"RaNet\")"
   ]
  },
  {
   "cell_type": "code",
   "execution_count": 122,
   "id": "c7a7826c-a266-4fc6-af39-55d7ebf9e396",
   "metadata": {
    "tags": []
   },
   "outputs": [
    {
     "name": "stdout",
     "output_type": "stream",
     "text": [
      "Model: \"RaNet\"\n",
      "_________________________________________________________________\n",
      " Layer (type)                Output Shape              Param #   \n",
      "=================================================================\n",
      " input_27 (InputLayer)       [(None, 7, 46, 56, 3)]    0         \n",
      "                                                                 \n",
      " conv3d_41 (Conv3D)          (None, 7, 46, 56, 128)    10496     \n",
      "                                                                 \n",
      " batch_normalization_75 (Bat  (None, 7, 46, 56, 128)   512       \n",
      " chNormalization)                                                \n",
      "                                                                 \n",
      " activation_60 (Activation)  (None, 7, 46, 56, 128)    0         \n",
      "                                                                 \n",
      " max_pooling3d_32 (MaxPoolin  (None, 3, 23, 28, 128)   0         \n",
      " g3D)                                                            \n",
      "                                                                 \n",
      " conv3d_42 (Conv3D)          (None, 3, 23, 28, 256)    884992    \n",
      "                                                                 \n",
      " batch_normalization_76 (Bat  (None, 3, 23, 28, 256)   1024      \n",
      " chNormalization)                                                \n",
      "                                                                 \n",
      " activation_61 (Activation)  (None, 3, 23, 28, 256)    0         \n",
      "                                                                 \n",
      " max_pooling3d_33 (MaxPoolin  (None, 1, 11, 14, 256)   0         \n",
      " g3D)                                                            \n",
      "                                                                 \n",
      " conv3d_43 (Conv3D)          (None, 1, 11, 14, 512)    3539456   \n",
      "                                                                 \n",
      " global_average_pooling3d (G  (None, 512)              0         \n",
      " lobalAveragePooling3D)                                          \n",
      "                                                                 \n",
      " dense_9 (Dense)             (None, 512)               262656    \n",
      "                                                                 \n",
      " dropout_11 (Dropout)        (None, 512)               0         \n",
      "                                                                 \n",
      " dense_10 (Dense)            (None, 2048)              1050624   \n",
      "                                                                 \n",
      " dropout_12 (Dropout)        (None, 2048)              0         \n",
      "                                                                 \n",
      " dense_11 (Dense)            (None, 2048)              4196352   \n",
      "                                                                 \n",
      " dropout_13 (Dropout)        (None, 2048)              0         \n",
      "                                                                 \n",
      " dense_12 (Dense)            (None, 256)               524544    \n",
      "                                                                 \n",
      " dropout_14 (Dropout)        (None, 256)               0         \n",
      "                                                                 \n",
      " dense_13 (Dense)            (None, 32)                8224      \n",
      "                                                                 \n",
      " dropout_15 (Dropout)        (None, 32)                0         \n",
      "                                                                 \n",
      " dense_14 (Dense)            (None, 1)                 33        \n",
      "                                                                 \n",
      " dropout_16 (Dropout)        (None, 1)                 0         \n",
      "                                                                 \n",
      "=================================================================\n",
      "Total params: 10,478,913\n",
      "Trainable params: 10,478,145\n",
      "Non-trainable params: 768\n",
      "_________________________________________________________________\n"
     ]
    }
   ],
   "source": [
    "model.summary()  "
   ]
  },
  {
   "cell_type": "markdown",
   "id": "ef49ccc9-c05d-4969-b33f-85bd5e770b0b",
   "metadata": {},
   "source": [
    "#### 2.2. RxNet"
   ]
  },
  {
   "cell_type": "code",
   "execution_count": 39,
   "id": "4cce42e9-29ce-4e41-80da-a93d6a093b53",
   "metadata": {},
   "outputs": [],
   "source": [
    "from keras.models import Model\n",
    "from keras import layers\n",
    "from keras.layers import Dense\n",
    "from keras.layers import Input\n",
    "from keras.layers import BatchNormalization\n",
    "from keras.layers import Activation\n",
    "from keras.layers import Conv2D\n",
    "from keras.layers import SeparableConv2D\n",
    "from keras.layers import MaxPooling2D\n",
    "from keras.layers import GlobalAveragePooling2D\n",
    "from keras.layers import GlobalMaxPooling2D\n",
    "from keras import backend as K"
   ]
  },
  {
   "cell_type": "code",
   "execution_count": 49,
   "id": "c0a66776-b7d7-4d8c-a8a6-0eac97a2cecf",
   "metadata": {},
   "outputs": [],
   "source": [
    "def Xception(i_shape, upscalling = True, include_top=False, pooling=None, classes=1):\n",
    "    \"\"\" Adapted from : https://github.com/fchollet/deep-learning-models/blob/master/xception.py\n",
    "        and Shi2020 \n",
    "    # Arguments\n",
    "        i_shape: shape tuple to be specified\n",
    "        upscalling: if we want to do upscalling instead Avg pooling\n",
    "        include_top: whether to include the fully-connected\n",
    "            layer at the top of the network.\n",
    "        pooling: Optional pooling mode for feature extraction\n",
    "            when `include_top` is `False`.\n",
    "            - `None` means that the output of the model will be\n",
    "                the 4D tensor output of the\n",
    "                last convolutional layer.\n",
    "            - `avg` means that global average pooling\n",
    "                will be applied to the output of the\n",
    "                last convolutional layer, and thus\n",
    "                the output of the model will be a 2D tensor.\n",
    "            - `max` means that global max pooling will\n",
    "                be applied.\n",
    "        classes: optional number of classes to classify images\n",
    "            into, only to be specified if `include_top` is True, and\n",
    "            if no `weights` argument is specified.\n",
    "    # Returns\n",
    "        A Keras model instance.\n",
    "      \"\"\"\n",
    "\n",
    " \n",
    "    img_input = Input(shape=i_shape)\n",
    "    \n",
    "    x = Conv2D(128, (3,3), strides = (2,2), padding='same',use_bias=False, name='block1_conv1')(img_input)\n",
    "    x = BatchNormalization(name='block1_conv1_bn')(x)\n",
    "    x = Activation('relu', name='block1_conv1_act')(x)\n",
    "    x = Conv2D(256, (3,3), padding='same' )(x)\n",
    "    x = BatchNormalization(name='block1_conv2_bn')(x)\n",
    "    x = Activation('relu', name='block1_conv2_act')(x)\n",
    "    \n",
    "    residual = Conv2D(512, (1, 1), padding='same', use_bias=False)(x)\n",
    "    residual = BatchNormalization()(residual)\n",
    "    \n",
    "    x = SeparableConv2D(512, (3, 3), padding='same', use_bias=False, name='block2_sepconv1')(x)\n",
    "    x = BatchNormalization(name='block2_sepconv1_bn')(x)\n",
    "    x = Activation('relu', name='block2_sepconv2_act')(x)\n",
    "    x = SeparableConv2D(512, (3, 3), padding='same', use_bias=False, name='block2_sepconv2')(x)\n",
    "    x = BatchNormalization(name='block2_sepconv2_bn')(x)\n",
    "    x = MaxPooling2D((1,1), padding='same', name='block2_pool')(x)\n",
    "    x = layers.add([x, residual])\n",
    "\n",
    "    residual = Conv2D(728, (1, 1),  padding='same')(x)\n",
    "    residual = BatchNormalization()(residual)\n",
    "\n",
    "    x = Activation('relu', name='block3_sepconv1_act')(x)\n",
    "    x = SeparableConv2D(728, (3, 3), padding='same', use_bias=False, name='block3_sepconv1')(x) \n",
    "    x = BatchNormalization(name='block3_sepconv1_bn')(x)\n",
    "    x = Activation('relu', name='block3_sepconv2_act')(x)\n",
    "    x = SeparableConv2D(728, (3, 3), padding='same', use_bias=False, name='block3_sepconv2')(x)\n",
    "    x = BatchNormalization(name='block3_sepconv2_bn')(x)\n",
    "    \n",
    "    x = MaxPooling2D((1, 1),  padding='same', name='block3_pool')(x)\n",
    "    x = layers.add([x, residual])\n",
    "\n",
    "    for i in range(1):\n",
    "   # for i in range(6):\n",
    "        residual = x\n",
    "        prefix = 'block' + str(i + 5)\n",
    "\n",
    "        x = Activation('relu', name=prefix + '_sepconv1_act')(x)\n",
    "        x = SeparableConv2D(728, (3, 3), padding='same', use_bias=False, name=prefix + '_sepconv1')(x)\n",
    "        x = BatchNormalization(name=prefix + '_sepconv1_bn')(x)\n",
    "        x = Activation('relu', name=prefix + '_sepconv2_act')(x)\n",
    "        x = SeparableConv2D(728, (3, 3), padding='same', use_bias=False, name=prefix + '_sepconv2')(x)\n",
    "        x = BatchNormalization(name=prefix + '_sepconv2_bn')(x)\n",
    "        x = Activation('relu', name=prefix + '_sepconv3_act')(x)\n",
    "        x = SeparableConv2D(728, (3, 3), padding='same', use_bias=False, name=prefix + '_sepconv3')(x)\n",
    "        x = BatchNormalization(name=prefix + '_sepconv3_bn')(x)\n",
    "\n",
    "        x = layers.add([x, residual])\n",
    "\n",
    "    # last part\n",
    "    \n",
    "    residual = Conv2D(1024, (1, 1), strides=(2, 2), padding='same', use_bias=False)(x)\n",
    "    residual = BatchNormalization()(residual)\n",
    "\n",
    "    x = Activation('relu', name='block13_sepconv1_act')(x)\n",
    "    x = SeparableConv2D(728, (3, 3), padding='same', use_bias=False, name='block13_sepconv1')(x)\n",
    "    x = BatchNormalization(name='block13_sepconv1_bn')(x)\n",
    "    x = Activation('relu', name='block13_sepconv2_act')(x)\n",
    "    x = SeparableConv2D(1024, (3, 3), padding='same', use_bias=False, name='block13_sepconv2')(x)\n",
    "    x = BatchNormalization(name='block13_sepconv2_bn')(x)\n",
    "    \n",
    "    x = MaxPooling2D((2, 2),  padding='same', name='block13_pool')(x)\n",
    "    x = layers.add([x, residual])\n",
    "    \n",
    "\n",
    "    x = SeparableConv2D(1536, (3, 3), padding='same', use_bias=False, name='block14_sepconv1')(x)\n",
    "    x = BatchNormalization(name='block14_sepconv1_bn')(x)\n",
    "    x = Activation('relu', name='block14_sepconv1_act')(x)\n",
    "\n",
    "    x = SeparableConv2D(2048, (3, 3), padding='same', use_bias=False, name='block14_sepconv2')(x)\n",
    "    x = BatchNormalization(name='block14_sepconv2_bn')(x)\n",
    "    x = Activation('relu', name='block14_sepconv2_act')(x)\n",
    "    \n",
    "    if upscalling:\n",
    "        x = Conv2DTranspose(1536, (3, 3), strides = (2,2), padding='same', activation='relu')(x)\n",
    "        x = Conv2DTranspose(1024, (3, 3), strides = (2,2), padding='same', activation='relu')(x)\n",
    "        x = Dense(1, activation='softmax', name='predictions')(x)\n",
    "        # final crop\n",
    "        x = crop_output(img_input, x)\n",
    "        \n",
    "    else:\n",
    "        if include_top:\n",
    "            x = GlobalAveragePooling2D(name='avg_pool')(x)\n",
    "            x = Dense(classes, activation='softmax', name='predictions')(x)\n",
    "        else:\n",
    "            if pooling == 'avg':\n",
    "                x = GlobalAveragePooling2D()(x)\n",
    "            elif pooling == 'max':\n",
    "                x = GlobalMaxPooling2D()(x)\n",
    "        \n",
    "\n",
    "   \n",
    "\n",
    "    # Create model.\n",
    "    model = Model(img_input, x, name='xception')\n",
    "    return model\n",
    "    "
   ]
  },
  {
   "cell_type": "code",
   "execution_count": 50,
   "id": "54b2c673-50b9-427c-b5d7-c69a7ba05bb3",
   "metadata": {},
   "outputs": [],
   "source": [
    "i_shape  = [46, 56,10]"
   ]
  },
  {
   "cell_type": "code",
   "execution_count": 51,
   "id": "b8cc3312-1f10-4a36-803f-7bc4eb5c85fe",
   "metadata": {
    "tags": []
   },
   "outputs": [],
   "source": [
    "mx = Xception(i_shape, include_top=True, pooling=None, classes=1)"
   ]
  },
  {
   "cell_type": "code",
   "execution_count": 52,
   "id": "ef11fb9a-5e15-47f6-bada-f3f6082d78bb",
   "metadata": {
    "tags": []
   },
   "outputs": [
    {
     "name": "stdout",
     "output_type": "stream",
     "text": [
      "Model: \"xception\"\n",
      "__________________________________________________________________________________________________\n",
      " Layer (type)                   Output Shape         Param #     Connected to                     \n",
      "==================================================================================================\n",
      " input_5 (InputLayer)           [(None, 46, 56, 10)  0           []                               \n",
      "                                ]                                                                 \n",
      "                                                                                                  \n",
      " block1_conv1 (Conv2D)          (None, 23, 28, 128)  11520       ['input_5[0][0]']                \n",
      "                                                                                                  \n",
      " block1_conv1_bn (BatchNormaliz  (None, 23, 28, 128)  512        ['block1_conv1[0][0]']           \n",
      " ation)                                                                                           \n",
      "                                                                                                  \n",
      " block1_conv1_act (Activation)  (None, 23, 28, 128)  0           ['block1_conv1_bn[0][0]']        \n",
      "                                                                                                  \n",
      " conv2d_30 (Conv2D)             (None, 23, 28, 256)  295168      ['block1_conv1_act[0][0]']       \n",
      "                                                                                                  \n",
      " block1_conv2_bn (BatchNormaliz  (None, 23, 28, 256)  1024       ['conv2d_30[0][0]']              \n",
      " ation)                                                                                           \n",
      "                                                                                                  \n",
      " block1_conv2_act (Activation)  (None, 23, 28, 256)  0           ['block1_conv2_bn[0][0]']        \n",
      "                                                                                                  \n",
      " block2_sepconv1 (SeparableConv  (None, 23, 28, 512)  133376     ['block1_conv2_act[0][0]']       \n",
      " 2D)                                                                                              \n",
      "                                                                                                  \n",
      " block2_sepconv1_bn (BatchNorma  (None, 23, 28, 512)  2048       ['block2_sepconv1[0][0]']        \n",
      " lization)                                                                                        \n",
      "                                                                                                  \n",
      " block2_sepconv2_act (Activatio  (None, 23, 28, 512)  0          ['block2_sepconv1_bn[0][0]']     \n",
      " n)                                                                                               \n",
      "                                                                                                  \n",
      " block2_sepconv2 (SeparableConv  (None, 23, 28, 512)  266752     ['block2_sepconv2_act[0][0]']    \n",
      " 2D)                                                                                              \n",
      "                                                                                                  \n",
      " block2_sepconv2_bn (BatchNorma  (None, 23, 28, 512)  2048       ['block2_sepconv2[0][0]']        \n",
      " lization)                                                                                        \n",
      "                                                                                                  \n",
      " conv2d_31 (Conv2D)             (None, 23, 28, 512)  131072      ['block1_conv2_act[0][0]']       \n",
      "                                                                                                  \n",
      " block2_pool (MaxPooling2D)     (None, 23, 28, 512)  0           ['block2_sepconv2_bn[0][0]']     \n",
      "                                                                                                  \n",
      " batch_normalization_26 (BatchN  (None, 23, 28, 512)  2048       ['conv2d_31[0][0]']              \n",
      " ormalization)                                                                                    \n",
      "                                                                                                  \n",
      " add_14 (Add)                   (None, 23, 28, 512)  0           ['block2_pool[0][0]',            \n",
      "                                                                  'batch_normalization_26[0][0]'] \n",
      "                                                                                                  \n",
      " block3_sepconv1_act (Activatio  (None, 23, 28, 512)  0          ['add_14[0][0]']                 \n",
      " n)                                                                                               \n",
      "                                                                                                  \n",
      " block3_sepconv1 (SeparableConv  (None, 23, 28, 728)  377344     ['block3_sepconv1_act[0][0]']    \n",
      " 2D)                                                                                              \n",
      "                                                                                                  \n",
      " block3_sepconv1_bn (BatchNorma  (None, 23, 28, 728)  2912       ['block3_sepconv1[0][0]']        \n",
      " lization)                                                                                        \n",
      "                                                                                                  \n",
      " block3_sepconv2_act (Activatio  (None, 23, 28, 728)  0          ['block3_sepconv1_bn[0][0]']     \n",
      " n)                                                                                               \n",
      "                                                                                                  \n",
      " block3_sepconv2 (SeparableConv  (None, 23, 28, 728)  536536     ['block3_sepconv2_act[0][0]']    \n",
      " 2D)                                                                                              \n",
      "                                                                                                  \n",
      " block3_sepconv2_bn (BatchNorma  (None, 23, 28, 728)  2912       ['block3_sepconv2[0][0]']        \n",
      " lization)                                                                                        \n",
      "                                                                                                  \n",
      " conv2d_32 (Conv2D)             (None, 23, 28, 728)  373464      ['add_14[0][0]']                 \n",
      "                                                                                                  \n",
      " block3_pool (MaxPooling2D)     (None, 23, 28, 728)  0           ['block3_sepconv2_bn[0][0]']     \n",
      "                                                                                                  \n",
      " batch_normalization_27 (BatchN  (None, 23, 28, 728)  2912       ['conv2d_32[0][0]']              \n",
      " ormalization)                                                                                    \n",
      "                                                                                                  \n",
      " add_15 (Add)                   (None, 23, 28, 728)  0           ['block3_pool[0][0]',            \n",
      "                                                                  'batch_normalization_27[0][0]'] \n",
      "                                                                                                  \n",
      " block5_sepconv1_act (Activatio  (None, 23, 28, 728)  0          ['add_15[0][0]']                 \n",
      " n)                                                                                               \n",
      "                                                                                                  \n",
      " block5_sepconv1 (SeparableConv  (None, 23, 28, 728)  536536     ['block5_sepconv1_act[0][0]']    \n",
      " 2D)                                                                                              \n",
      "                                                                                                  \n",
      " block5_sepconv1_bn (BatchNorma  (None, 23, 28, 728)  2912       ['block5_sepconv1[0][0]']        \n",
      " lization)                                                                                        \n",
      "                                                                                                  \n",
      " block5_sepconv2_act (Activatio  (None, 23, 28, 728)  0          ['block5_sepconv1_bn[0][0]']     \n",
      " n)                                                                                               \n",
      "                                                                                                  \n",
      " block5_sepconv2 (SeparableConv  (None, 23, 28, 728)  536536     ['block5_sepconv2_act[0][0]']    \n",
      " 2D)                                                                                              \n",
      "                                                                                                  \n",
      " block5_sepconv2_bn (BatchNorma  (None, 23, 28, 728)  2912       ['block5_sepconv2[0][0]']        \n",
      " lization)                                                                                        \n",
      "                                                                                                  \n",
      " block5_sepconv3_act (Activatio  (None, 23, 28, 728)  0          ['block5_sepconv2_bn[0][0]']     \n",
      " n)                                                                                               \n",
      "                                                                                                  \n",
      " block5_sepconv3 (SeparableConv  (None, 23, 28, 728)  536536     ['block5_sepconv3_act[0][0]']    \n",
      " 2D)                                                                                              \n",
      "                                                                                                  \n",
      " block5_sepconv3_bn (BatchNorma  (None, 23, 28, 728)  2912       ['block5_sepconv3[0][0]']        \n",
      " lization)                                                                                        \n",
      "                                                                                                  \n",
      " add_16 (Add)                   (None, 23, 28, 728)  0           ['block5_sepconv3_bn[0][0]',     \n",
      "                                                                  'add_15[0][0]']                 \n",
      "                                                                                                  \n",
      " block13_sepconv1_act (Activati  (None, 23, 28, 728)  0          ['add_16[0][0]']                 \n",
      " on)                                                                                              \n",
      "                                                                                                  \n",
      " block13_sepconv1 (SeparableCon  (None, 23, 28, 728)  536536     ['block13_sepconv1_act[0][0]']   \n",
      " v2D)                                                                                             \n",
      "                                                                                                  \n",
      " block13_sepconv1_bn (BatchNorm  (None, 23, 28, 728)  2912       ['block13_sepconv1[0][0]']       \n",
      " alization)                                                                                       \n",
      "                                                                                                  \n",
      " block13_sepconv2_act (Activati  (None, 23, 28, 728)  0          ['block13_sepconv1_bn[0][0]']    \n",
      " on)                                                                                              \n",
      "                                                                                                  \n",
      " block13_sepconv2 (SeparableCon  (None, 23, 28, 1024  752024     ['block13_sepconv2_act[0][0]']   \n",
      " v2D)                           )                                                                 \n",
      "                                                                                                  \n",
      " block13_sepconv2_bn (BatchNorm  (None, 23, 28, 1024  4096       ['block13_sepconv2[0][0]']       \n",
      " alization)                     )                                                                 \n",
      "                                                                                                  \n",
      " conv2d_33 (Conv2D)             (None, 12, 14, 1024  745472      ['add_16[0][0]']                 \n",
      "                                )                                                                 \n",
      "                                                                                                  \n",
      " block13_pool (MaxPooling2D)    (None, 12, 14, 1024  0           ['block13_sepconv2_bn[0][0]']    \n",
      "                                )                                                                 \n",
      "                                                                                                  \n",
      " batch_normalization_28 (BatchN  (None, 12, 14, 1024  4096       ['conv2d_33[0][0]']              \n",
      " ormalization)                  )                                                                 \n",
      "                                                                                                  \n",
      " add_17 (Add)                   (None, 12, 14, 1024  0           ['block13_pool[0][0]',           \n",
      "                                )                                 'batch_normalization_28[0][0]'] \n",
      "                                                                                                  \n",
      " block14_sepconv1 (SeparableCon  (None, 12, 14, 1536  1582080    ['add_17[0][0]']                 \n",
      " v2D)                           )                                                                 \n",
      "                                                                                                  \n",
      " block14_sepconv1_bn (BatchNorm  (None, 12, 14, 1536  6144       ['block14_sepconv1[0][0]']       \n",
      " alization)                     )                                                                 \n",
      "                                                                                                  \n",
      " block14_sepconv1_act (Activati  (None, 12, 14, 1536  0          ['block14_sepconv1_bn[0][0]']    \n",
      " on)                            )                                                                 \n",
      "                                                                                                  \n",
      " block14_sepconv2 (SeparableCon  (None, 12, 14, 2048  3159552    ['block14_sepconv1_act[0][0]']   \n",
      " v2D)                           )                                                                 \n",
      "                                                                                                  \n",
      " block14_sepconv2_bn (BatchNorm  (None, 12, 14, 2048  8192       ['block14_sepconv2[0][0]']       \n",
      " alization)                     )                                                                 \n",
      "                                                                                                  \n",
      " block14_sepconv2_act (Activati  (None, 12, 14, 2048  0          ['block14_sepconv2_bn[0][0]']    \n",
      " on)                            )                                                                 \n",
      "                                                                                                  \n",
      " conv2d_transpose_11 (Conv2DTra  (None, 24, 28, 1536  28313088   ['block14_sepconv2_act[0][0]']   \n",
      " nspose)                        )                                                                 \n",
      "                                                                                                  \n",
      " conv2d_transpose_12 (Conv2DTra  (None, 48, 56, 1024  14156800   ['conv2d_transpose_11[0][0]']    \n",
      " nspose)                        )                                                                 \n",
      "                                                                                                  \n",
      " predictions (Dense)            (None, 48, 56, 1)    1025        ['conv2d_transpose_12[0][0]']    \n",
      "                                                                                                  \n",
      " cropping2d_8 (Cropping2D)      (None, 46, 56, 1)    0           ['predictions[0][0]']            \n",
      "                                                                                                  \n",
      "==================================================================================================\n",
      "Total params: 53,032,009\n",
      "Trainable params: 53,006,713\n",
      "Non-trainable params: 25,296\n",
      "__________________________________________________________________________________________________\n"
     ]
    }
   ],
   "source": [
    "mx.summary()"
   ]
  },
  {
   "cell_type": "code",
   "execution_count": 53,
   "id": "48b3f861-9685-4556-8f45-7ffff5547d79",
   "metadata": {
    "tags": []
   },
   "outputs": [
    {
     "name": "stdout",
     "output_type": "stream",
     "text": [
      "Epoch 1/20\n"
     ]
    },
    {
     "name": "stderr",
     "output_type": "stream",
     "text": [
      "2022-03-07 14:41:21.336085: W tensorflow/core/common_runtime/bfc_allocator.cc:275] Allocator (GPU_0_bfc) ran out of memory trying to allocate 1.49GiB with freed_by_count=0. The caller indicates that this is not a failure, but may mean that there could be performance gains if more memory were available.\n"
     ]
    },
    {
     "name": "stdout",
     "output_type": "stream",
     "text": [
      "155/155 [==============================] - 258s 2s/step - loss: 7.6246 - accuracy: 0.5313 - precision: 0.0486 - recall: 1.0000 - val_loss: 7.6246 - val_accuracy: 0.5313 - val_precision: 0.0486 - val_recall: 1.0000\n",
      "Epoch 2/20\n",
      "155/155 [==============================] - 252s 2s/step - loss: 7.6246 - accuracy: 0.5313 - precision: 0.0486 - recall: 1.0000 - val_loss: 7.6246 - val_accuracy: 0.5313 - val_precision: 0.0486 - val_recall: 1.0000\n",
      "Epoch 3/20\n",
      "155/155 [==============================] - 252s 2s/step - loss: 7.6246 - accuracy: 0.5313 - precision: 0.0486 - recall: 1.0000 - val_loss: 7.6246 - val_accuracy: 0.5313 - val_precision: 0.0486 - val_recall: 1.0000\n",
      "Epoch 4/20\n",
      "155/155 [==============================] - 252s 2s/step - loss: 7.6246 - accuracy: 0.5313 - precision: 0.0486 - recall: 1.0000 - val_loss: 7.6246 - val_accuracy: 0.5313 - val_precision: 0.0486 - val_recall: 1.0000\n",
      "Epoch 5/20\n",
      "155/155 [==============================] - 253s 2s/step - loss: 7.6246 - accuracy: 0.5313 - precision: 0.0486 - recall: 1.0000 - val_loss: 7.6246 - val_accuracy: 0.5313 - val_precision: 0.0486 - val_recall: 1.0000\n",
      "Epoch 6/20\n",
      "155/155 [==============================] - 252s 2s/step - loss: 7.6246 - accuracy: 0.5313 - precision: 0.0486 - recall: 1.0000 - val_loss: 7.6246 - val_accuracy: 0.5313 - val_precision: 0.0486 - val_recall: 1.0000\n",
      "Epoch 7/20\n",
      "155/155 [==============================] - 252s 2s/step - loss: 7.6246 - accuracy: 0.5313 - precision: 0.0486 - recall: 1.0000 - val_loss: 7.6246 - val_accuracy: 0.5313 - val_precision: 0.0486 - val_recall: 1.0000\n",
      "Epoch 8/20\n",
      "155/155 [==============================] - 253s 2s/step - loss: 7.6246 - accuracy: 0.5313 - precision: 0.0486 - recall: 1.0000 - val_loss: 7.6246 - val_accuracy: 0.5313 - val_precision: 0.0486 - val_recall: 1.0000\n",
      "Epoch 9/20\n",
      "155/155 [==============================] - 252s 2s/step - loss: 7.6246 - accuracy: 0.5313 - precision: 0.0486 - recall: 1.0000 - val_loss: 7.6246 - val_accuracy: 0.5313 - val_precision: 0.0486 - val_recall: 1.0000\n",
      "Epoch 10/20\n",
      "155/155 [==============================] - 253s 2s/step - loss: 7.6246 - accuracy: 0.5313 - precision: 0.0486 - recall: 1.0000 - val_loss: 7.6246 - val_accuracy: 0.5313 - val_precision: 0.0486 - val_recall: 1.0000\n",
      "Epoch 11/20\n",
      "155/155 [==============================] - 253s 2s/step - loss: 7.6246 - accuracy: 0.5313 - precision: 0.0486 - recall: 1.0000 - val_loss: 7.6246 - val_accuracy: 0.5313 - val_precision: 0.0486 - val_recall: 1.0000\n",
      "Epoch 12/20\n",
      "155/155 [==============================] - 253s 2s/step - loss: 7.6246 - accuracy: 0.5313 - precision: 0.0486 - recall: 1.0000 - val_loss: 7.6246 - val_accuracy: 0.5313 - val_precision: 0.0486 - val_recall: 1.0000\n",
      "Epoch 13/20\n",
      "155/155 [==============================] - 253s 2s/step - loss: 7.6246 - accuracy: 0.5313 - precision: 0.0486 - recall: 1.0000 - val_loss: 7.6246 - val_accuracy: 0.5313 - val_precision: 0.0486 - val_recall: 1.0000\n",
      "Epoch 14/20\n",
      "155/155 [==============================] - 253s 2s/step - loss: 7.6246 - accuracy: 0.5313 - precision: 0.0486 - recall: 1.0000 - val_loss: 7.6246 - val_accuracy: 0.5313 - val_precision: 0.0486 - val_recall: 1.0000\n",
      "Epoch 15/20\n",
      "155/155 [==============================] - 253s 2s/step - loss: 7.6246 - accuracy: 0.5313 - precision: 0.0486 - recall: 1.0000 - val_loss: 7.6246 - val_accuracy: 0.5313 - val_precision: 0.0486 - val_recall: 1.0000\n",
      "Epoch 16/20\n",
      "155/155 [==============================] - 253s 2s/step - loss: 7.6246 - accuracy: 0.5313 - precision: 0.0486 - recall: 1.0000 - val_loss: 7.6246 - val_accuracy: 0.5313 - val_precision: 0.0486 - val_recall: 1.0000\n",
      "Epoch 17/20\n",
      "155/155 [==============================] - 253s 2s/step - loss: 7.6246 - accuracy: 0.5313 - precision: 0.0486 - recall: 1.0000 - val_loss: 7.6246 - val_accuracy: 0.5313 - val_precision: 0.0486 - val_recall: 1.0000\n",
      "Epoch 18/20\n",
      "155/155 [==============================] - 253s 2s/step - loss: 7.6246 - accuracy: 0.5313 - precision: 0.0486 - recall: 1.0000 - val_loss: 7.6246 - val_accuracy: 0.5313 - val_precision: 0.0486 - val_recall: 1.0000\n",
      "Epoch 19/20\n",
      "155/155 [==============================] - 253s 2s/step - loss: 7.6246 - accuracy: 0.5313 - precision: 0.0486 - recall: 1.0000 - val_loss: 7.6246 - val_accuracy: 0.5313 - val_precision: 0.0486 - val_recall: 1.0000\n",
      "Epoch 20/20\n",
      "155/155 [==============================] - 253s 2s/step - loss: 7.6246 - accuracy: 0.5313 - precision: 0.0486 - recall: 1.0000 - val_loss: 7.6246 - val_accuracy: 0.5313 - val_precision: 0.0486 - val_recall: 1.0000\n"
     ]
    }
   ],
   "source": [
    "mx.compile(optimizer =optimizer, loss = model_loss , metrics = METRICS)\n",
    "his_mx = mx.fit(dg_train, epochs=EPOCHS, validation_data= dg_val)"
   ]
  },
  {
   "cell_type": "code",
   "execution_count": 54,
   "id": "e1be8489-0a73-4282-b91a-554145f8b5c9",
   "metadata": {},
   "outputs": [
    {
     "data": {
      "image/png": "[encoded data removed]",
      "text/plain": [
       "<Figure size 1296x288 with 3 Axes>"
      ]
     },
     "metadata": {
      "needs_background": "light"
     },
     "output_type": "display_data"
    }
   ],
   "source": [
    "figure, axis = plt.subplots(1, 3)\n",
    "\n",
    "# For Sine Function\n",
    "pd.DataFrame(his_mx.history)[['loss','val_loss']].plot(figsize=(18,4), ax=axis[0], grid=True)\n",
    "pd.DataFrame(his_mx.history)[['precision','val_precision']].plot(figsize=(18,4), ax=axis[1],grid=True)\n",
    "pd.DataFrame(his_mx.history)[['recall','val_recall']].plot(figsize=(18,4), ax=axis[2],grid=True)\n",
    "plt.show()"
   ]
  },
  {
   "cell_type": "markdown",
   "id": "a7547ca6-e586-4ba2-b7ad-86e80a431ce2",
   "metadata": {},
   "source": [
    "### Attention augmented CNN- Huang 2022 https://arxiv.org/abs/2201.13408"
   ]
  },
  {
   "cell_type": "code",
   "execution_count": 24,
   "id": "f19eacda-1939-45b9-8603-643375f7fbf1",
   "metadata": {},
   "outputs": [
    {
     "data": {
      "text/plain": [
       "'2.7.0'"
      ]
     },
     "execution_count": 24,
     "metadata": {},
     "output_type": "execute_result"
    }
   ],
   "source": [
    "import tensorflow as tf\n",
    "tf.version.VERSION"
   ]
  },
  {
   "cell_type": "code",
   "execution_count": 25,
   "id": "2aefe055-78cb-4f59-b613-a8a25cc26a20",
   "metadata": {},
   "outputs": [],
   "source": [
    "from utils.layer_augmented_conv2D import *"
   ]
  },
  {
   "cell_type": "code",
   "execution_count": 26,
   "id": "cf225c34-4c4e-4198-9540-6ac1784f26ad",
   "metadata": {},
   "outputs": [],
   "source": [
    "ip = Input(shape=i_shape)"
   ]
  },
  {
   "cell_type": "code",
   "execution_count": 27,
   "id": "63ce0b5d-94a4-44f6-9630-ea2d0caab8b6",
   "metadata": {},
   "outputs": [],
   "source": [
    "#ip = Input(shape=(15,35,2)) # original shape"
   ]
  },
  {
   "cell_type": "code",
   "execution_count": null,
   "id": "1c7377f4-858c-4fc7-bc94-83c23cb672de",
   "metadata": {},
   "outputs": [],
   "source": [
    "# note: I could not make it work , it seems it has memory issues"
   ]
  },
  {
   "cell_type": "code",
   "execution_count": 28,
   "id": "9d30f7df-3725-4bd0-9806-9c9835201348",
   "metadata": {},
   "outputs": [
    {
     "name": "stderr",
     "output_type": "stream",
     "text": [
      "2022-03-07 14:19:40.665341: I tensorflow/core/platform/cpu_feature_guard.cc:151] This TensorFlow binary is optimized with oneAPI Deep Neural Network Library (oneDNN) to use the following CPU instructions in performance-critical operations:  AVX2 FMA\n",
      "To enable them in other operations, rebuild TensorFlow with the appropriate compiler flags.\n",
      "2022-03-07 14:19:41.484074: I tensorflow/core/common_runtime/gpu/gpu_device.cc:1525] Created device /job:localhost/replica:0/task:0/device:GPU:0 with 10411 MB memory:  -> device: 0, name: NVIDIA GeForce GTX 1080 Ti, pci bus id: 0000:06:00.0, compute capability: 6.1\n"
     ]
    }
   ],
   "source": [
    "x = augmented_conv2d(ip, 16, kernel_size=(3, 3), strides=(1, 1),\n",
    "                          k=float(0.2), v=float(0.2),\n",
    "                          num_heads=1, relative_encodings=True)\n",
    "x = MaxPooling2D((1,1))(x)\n",
    "x = Dropout(0.2)(x)\n",
    "x = augmented_conv2d(x, 16, kernel_size=(3, 3), strides=(1, 1),\n",
    "                          k=float(0.2), v=float(0.2),\n",
    "                          num_heads=1, relative_encodings=True)\n",
    "x = MaxPooling2D((2,2))(x)\n",
    "x = Dropout(0.2)(x)\n",
    "#  here, it will go highway layer\n",
    "# ----------------------also I skip this part and go add the upscalling layer\n",
    "#x = Flatten()(x)\n",
    "#x = layers.Dense(60)(x)\n",
    "#x = layers.Dense(1)(x)\n",
    "# upscalling part\n",
    "x = Conv2DTranspose(1, (3, 3), strides = (2,2), padding='same', activation='softmax')(x)\n",
    "m_aug = Model(ip, x)"
   ]
  },
  {
   "cell_type": "code",
   "execution_count": 29,
   "id": "01fe1544-6f52-475e-a196-354c7a6562bc",
   "metadata": {},
   "outputs": [
    {
     "name": "stdout",
     "output_type": "stream",
     "text": [
      "Model: \"model\"\n",
      "__________________________________________________________________________________________________\n",
      " Layer (type)                   Output Shape         Param #     Connected to                     \n",
      "==================================================================================================\n",
      " input_1 (InputLayer)           [(None, 46, 56, 10)  0           []                               \n",
      "                                ]                                                                 \n",
      "                                                                                                  \n",
      " conv2d_1 (Conv2D)              (None, 46, 56, 9)    99          ['input_1[0][0]']                \n",
      "                                                                                                  \n",
      " attention_augmentation2d (Atte  ((None, 46, 56, 3),  606        ['conv2d_1[0][0]']               \n",
      " ntionAugmentation2D)            (None, 1, 2576, 25                                               \n",
      "                                76))                                                              \n",
      "                                                                                                  \n",
      " conv2d (Conv2D)                (None, 46, 56, 13)   1183        ['input_1[0][0]']                \n",
      "                                                                                                  \n",
      " conv2d_2 (Conv2D)              (None, 46, 56, 3)    12          ['attention_augmentation2d[0][0]'\n",
      "                                                                 ]                                \n",
      "                                                                                                  \n",
      " concatenate (Concatenate)      (None, 46, 56, 16)   0           ['conv2d[0][0]',                 \n",
      "                                                                  'conv2d_2[0][0]']               \n",
      "                                                                                                  \n",
      " batch_normalization (BatchNorm  (None, 46, 56, 16)  64          ['concatenate[0][0]']            \n",
      " alization)                                                                                       \n",
      "                                                                                                  \n",
      " max_pooling2d (MaxPooling2D)   (None, 46, 56, 16)   0           ['batch_normalization[0][0]']    \n",
      "                                                                                                  \n",
      " dropout (Dropout)              (None, 46, 56, 16)   0           ['max_pooling2d[0][0]']          \n",
      "                                                                                                  \n",
      " conv2d_4 (Conv2D)              (None, 46, 56, 9)    153         ['dropout[0][0]']                \n",
      "                                                                                                  \n",
      " attention_augmentation2d_1 (At  ((None, 46, 56, 3),  606        ['conv2d_4[0][0]']               \n",
      " tentionAugmentation2D)          (None, 1, 2576, 25                                               \n",
      "                                76))                                                              \n",
      "                                                                                                  \n",
      " conv2d_3 (Conv2D)              (None, 46, 56, 13)   1885        ['dropout[0][0]']                \n",
      "                                                                                                  \n",
      " conv2d_5 (Conv2D)              (None, 46, 56, 3)    12          ['attention_augmentation2d_1[0][0\n",
      "                                                                 ]']                              \n",
      "                                                                                                  \n",
      " concatenate_1 (Concatenate)    (None, 46, 56, 16)   0           ['conv2d_3[0][0]',               \n",
      "                                                                  'conv2d_5[0][0]']               \n",
      "                                                                                                  \n",
      " batch_normalization_1 (BatchNo  (None, 46, 56, 16)  64          ['concatenate_1[0][0]']          \n",
      " rmalization)                                                                                     \n",
      "                                                                                                  \n",
      " max_pooling2d_1 (MaxPooling2D)  (None, 23, 28, 16)  0           ['batch_normalization_1[0][0]']  \n",
      "                                                                                                  \n",
      " dropout_1 (Dropout)            (None, 23, 28, 16)   0           ['max_pooling2d_1[0][0]']        \n",
      "                                                                                                  \n",
      " conv2d_transpose (Conv2DTransp  (None, 46, 56, 1)   145         ['dropout_1[0][0]']              \n",
      " ose)                                                                                             \n",
      "                                                                                                  \n",
      "==================================================================================================\n",
      "Total params: 4,829\n",
      "Trainable params: 4,765\n",
      "Non-trainable params: 64\n",
      "__________________________________________________________________________________________________\n"
     ]
    }
   ],
   "source": [
    "m_aug.summary()"
   ]
  },
  {
   "cell_type": "code",
   "execution_count": null,
   "id": "f9d45102-5d69-40f5-bc4c-cef6fb3a8334",
   "metadata": {},
   "outputs": [],
   "source": [
    "m_aug.compile(optimizer =optimizer, loss = model_loss , metrics = METRICS)\n",
    "his_m_aug = m_aug.fit(dg_train, epochs=2, validation_data= dg_val)"
   ]
  },
  {
   "cell_type": "code",
   "execution_count": 152,
   "id": "562ded83-fd3f-44ea-8ff7-d7e3fb6150ba",
   "metadata": {},
   "outputs": [],
   "source": []
  },
  {
   "cell_type": "code",
   "execution_count": null,
   "id": "28cdd4a7-6e4c-421d-9aa2-c171bd8f613b",
   "metadata": {},
   "outputs": [],
   "source": []
  }
 ],
 "metadata": {
  "kernelspec": {
   "display_name": "Python 3 (ipykernel)",
   "language": "python",
   "name": "python3"
  },
  "language_info": {
   "codemirror_mode": {
    "name": "ipython",
    "version": 3
   },
   "file_extension": ".py",
   "mimetype": "text/x-python",
   "name": "python",
   "nbconvert_exporter": "python",
   "pygments_lexer": "ipython3",
   "version": "3.9.7"
  }
 },
 "nbformat": 4,
 "nbformat_minor": 5
}
