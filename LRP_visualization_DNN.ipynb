{
 "cells": [
  {
   "cell_type": "markdown",
   "id": "95adf5df-9184-493e-8217-b55f36473a89",
   "metadata": {},
   "source": [
    "### Interpretability of DNN: Visualization of extreme events"
   ]
  },
  {
   "cell_type": "code",
   "execution_count": null,
   "id": "21d0b614-a59d-462a-9cab-c9c113313ede",
   "metadata": {},
   "outputs": [],
   "source": [
    "# Calculate LRP for specific dates and plot"
   ]
  },
  {
   "cell_type": "code",
   "execution_count": null,
   "id": "98d51e0b-c11d-4b08-8c2d-afce59622381",
   "metadata": {},
   "outputs": [],
   "source": [
    "# Important to note:!\n",
    "# The use of innvestigate requires specific versions of python and keras\n",
    "# The model must be built according to the versions, so the weights are saved separately\n",
    "# import necesssary libaries\n",
    "from pathlib import Path\n",
    "import pathlib\n",
    "import warnings\n",
    "warnings.filterwarnings('ignore')\n",
    "\n",
    "import matplotlib.pyplot as plt\n",
    "import xarray as xr\n",
    "import numpy as np\n",
    "import pandas as pd\n",
    "import seaborn as sns\n",
    "#for plotting\n",
    "import geopandas as gpd\n",
    "\n",
    "from keras.models import load_model\n",
    "from keras.preprocessing.image import ImageDataGenerator\n",
    "\n",
    "from utils.utils_unet import *\n",
    "from utils.utils_plot import *\n",
    "from utils.DNN_models import *\n",
    "from utils.utils_LRP import *\n",
    "\n",
    "\n",
    "import innvestigate\n",
    "import innvestigate.utils as iutils\n",
    "import innvestigate.applications.imagenet\n",
    "import innvestigate.utils.visualizations as ivis\n",
    "\n",
    "import warnings\n",
    "with warnings.catch_warnings():\n",
    "    warnings.simplefilter('ignore')  #catch FutureWarnings so that I can find actual errors!\n",
    "    \n",
    "    import keras\n",
    "    import keras.backend as K\n",
    "    import keras.models\n",
    "    #import tensorflow as tf  # this is new for custom loss function\n",
    "    from keras.models import load_model\n",
    "    \n",
    "    from keras.layers import Input, Dense, Activation, Dropout, Flatten, MaxPooling2D, Conv2D, Conv2DTranspose, UpSampling2D, Reshape\n",
    "    from keras.models import Model\n",
    "    \n",
    "    from keras.utils import CustomObjectScope\n",
    "    from keras.initializers import glorot_uniform"
   ]
  },
  {
   "cell_type": "code",
   "execution_count": null,
   "id": "3d8a4126-97b2-4f46-8f14-a7ebe2422166",
   "metadata": {},
   "outputs": [],
   "source": [
    "import yaml\n",
    "conf = yaml.safe_load(open(\"config.yaml\"))"
   ]
  },
  {
   "cell_type": "code",
   "execution_count": null,
   "id": "df23810f-9b01-423e-95e0-db87fc9f89b6",
   "metadata": {},
   "outputs": [],
   "source": [
    "i_shape = conf['i_shape']\n",
    "o_shape = conf['o_shape']\n",
    "\n",
    "print(f'X shape: {i_shape}')\n",
    "print(f'y shape: {o_shape}')\n",
    "output_channels = conf['output_channels']\n",
    "num_filters = conf['num_filters']\n",
    "use_batchnorm = conf['use_batchnorm']\n",
    "dropout = conf['dropout']\n",
    "lr = conf['lr']\n",
    "\n",
    "name_model = conf['model']\n",
    "output_scaling = 1\n",
    "output_crop = None\n",
    "\n",
    "\n",
    "# load coordinates\n",
    "lons_x = np.load('tmp/data/lons_y.npy')\n",
    "lats_y = np.load('tmp/data/lats_y.npy')\n",
    "# create a time array\n",
    "#times = np.arange(np.datetime64('1979-01-01'), np.datetime64('2006-01-01')) #until validation period\n",
    "#times = pd.to_datetime(times)\n",
    "# load the training and testing data\n",
    "#dg_train_X = np.array(xr.open_dataarray('tmp/data/dg_train_X.nc'))\n",
    "#dg_train_Y = np.array(xr.open_dataarray('tmp/data/dg_train_Y.nc'))\n",
    "#dg_train_Y_xtrm = np.array(xr.open_dataarray('tmp/data/dg_train_Y_xtrm.nc'))\n",
    "\n",
    "times = np.arange(np.datetime64('2016-01-01'), np.datetime64('2022-01-01')) #until validation period\n",
    "times = pd.to_datetime(times)\n",
    "dg_test_X = np.array(xr.open_dataarray('tmp/data/dg_test_X.nc'))\n",
    "#dg_test_Y = np.array(xr.open_dataarray('tmp/data/dg_test_Y.nc'))\n",
    "#dg_test_Y_xtrm = np.array(xr.open_dataarray('tmp/data/dg_test_Y_xtrm.nc'))\n",
    "\n",
    "# Define hyperparameters\n",
    "EPOCHS = 100\n",
    "LR_METHOD = 'Constant'  # Cyclical, CosineDecay, Constant\n",
    "                                            \n",
    "# Default model options\n",
    "opt_model = {'latent_dim': 128,\n",
    "             'dropout_rate': 0.2}\n",
    "\n",
    "# Default optimizer options\n",
    "opt_optimizer = {'lr_method': 'Constant',\n",
    "                 'lr': 0.0004,\n",
    "                 'init_lr': 0.01}\n",
    "\n",
    "models = {\n",
    "          'UNET1': {'model': 'Unet', 'run': True,\n",
    "                   'opt_model': {'output_scaling': output_scaling, 'output_crop': output_crop, 'unet_depth': 1, 'unet_use_upsample': True},\n",
    "                   'opt_optimizer': {'lr_method': 'Constant'}},\n",
    "          'UNET2': {'model': 'Unet', 'run': True,\n",
    "                   'opt_model': {'output_scaling': output_scaling, 'output_crop': output_crop, 'unet_depth': 2, 'unet_use_upsample': True},\n",
    "                   'opt_optimizer': {'lr_method': 'Constant'}},\n",
    "          'UNET3': {'model': 'Unet', 'run': True,\n",
    "                   'opt_model': {'output_scaling': output_scaling, 'output_crop': output_crop, 'unet_depth': 3, 'unet_use_upsample': True},\n",
    "                   'opt_optimizer': {'lr_method': 'Constant'}},\n",
    "          'UNET4': {'model': 'Unet', 'run': True,\n",
    "                   'opt_model': {'output_scaling': output_scaling, 'output_crop': output_crop, 'unet_depth': 4, 'unet_use_upsample': True},\n",
    "                   'opt_optimizer': {'lr_method': 'Constant'}},\n",
    "          'UNET-att': {'model': 'Unet-attention', 'run': True,\n",
    "                   'opt_model': {'output_scaling': output_scaling, 'output_crop': output_crop},\n",
    "                   'opt_optimizer': {'lr_method': 'Constant'}},\n",
    "          'UNET1-att': {'model': 'Unet-attention', 'run': True,\n",
    "                       'opt_model': {'output_scaling': output_scaling, 'output_crop': output_crop, 'unet_depth': 1, 'unet_use_upsample': True},\n",
    "                       'opt_optimizer': {'lr_method': 'Constant'}}\n",
    "            }\n",
    "\n"
   ]
  },
  {
   "cell_type": "code",
   "execution_count": null,
   "id": "3d85b4b7-3a0a-41f7-965b-d26c35a2b60b",
   "metadata": {},
   "outputs": [],
   "source": [
    "##############LRP ###########\n",
    "# Select one model to evaluate the LRP\n",
    "m_id = 'UNET4'\n",
    "model = models[m_id]['model']\n",
    "opt_model_i = models[m_id]['opt_model']\n",
    "opt_optimizer_i = models[m_id]['opt_optimizer']\n",
    "\n",
    "opt_model_new = opt_model.copy()\n",
    "opt_model_new.update(opt_model_i)\n",
    "opt_optimizer_new = opt_optimizer.copy()\n",
    "opt_optimizer_new.update(opt_optimizer_i)\n",
    "\n",
    "\n",
    "m = DeepFactory_Keras(model, i_shape, o_shape, for_extremes=True,**opt_model_new)\n",
    "\n",
    "# compile \n",
    "m.model.compile(loss=keras.losses.categorical_crossentropy, ## instead of CategoricalCrossentropy\n",
    "                  optimizer='adam', ## lr instead of learning_rate\n",
    "                  metrics=['categorical_accuracy'])\n",
    "\n",
    "print('loads weigths')\n",
    "#m.model.summary()\n",
    "# load weights\n",
    "m.model.load_weights('tmp/tmp_weights_DNN/UNET40.95th_trained_weights.h5')"
   ]
  },
  {
   "cell_type": "code",
   "execution_count": null,
   "id": "29cd5a72-c6ac-404f-a63c-0cc0e133d71e",
   "metadata": {},
   "outputs": [],
   "source": [
    "# test other depths\n",
    "m_id = 'UNET1'\n",
    "model = models[m_id]['model']\n",
    "opt_model_i = models[m_id]['opt_model']\n",
    "opt_optimizer_i = models[m_id]['opt_optimizer']\n",
    "opt_model_new = opt_model.copy()\n",
    "opt_model_new.update(opt_model_i)\n",
    "opt_optimizer_new = opt_optimizer.copy()\n",
    "opt_optimizer_new.update(opt_optimizer_i)"
   ]
  },
  {
   "cell_type": "code",
   "execution_count": null,
   "id": "0d894f90-b458-4def-8b77-6e02a74e7983",
   "metadata": {},
   "outputs": [],
   "source": [
    "m1 = DeepFactory_Keras(model, i_shape, o_shape, for_extremes=True,**opt_model_new)\n",
    "\n",
    "# compile \n",
    "m1.model.compile(loss=keras.losses.categorical_crossentropy, ## instead of CategoricalCrossentropy\n",
    "                  optimizer='adam', ## lr instead of learning_rate\n",
    "                  metrics=['categorical_accuracy'])\n",
    "\n",
    "print('loads weigths')\n",
    "#m.model.summary()\n",
    "# load weights\n",
    "m1.model.load_weights('tmp/tmp_weights_DNN/UNET10.95th_trained_weights.h5')"
   ]
  },
  {
   "cell_type": "code",
   "execution_count": null,
   "id": "3629e995-f224-454b-8cfa-6017f0ac7c21",
   "metadata": {},
   "outputs": [],
   "source": [
    "# load data\n",
    "# coordinates\n",
    "lons_x = np.load('tmp/data/lons_y.npy')\n",
    "lats_y = np.load('tmp/data/lats_y.npy')"
   ]
  },
  {
   "cell_type": "code",
   "execution_count": null,
   "id": "7ce5ef9a-9445-4717-b886-c0150dffd737",
   "metadata": {},
   "outputs": [],
   "source": [
    "# test-times\n",
    "times = np.arange(np.datetime64('2016-01-01'), np.datetime64('2021-12-31'))\n",
    "times = pd.to_datetime(times)\n",
    "# load the training and testing data\n",
    "dg_test_Y_xtrm = np.array(xr.open_dataarray('tmp/data/dg_test_Y_xtrm0.95th.nc'))"
   ]
  },
  {
   "cell_type": "code",
   "execution_count": null,
   "id": "835c3d7e-9908-4fb2-bc3a-8fad587c57a2",
   "metadata": {},
   "outputs": [],
   "source": [
    "#load predictions --numpy array\n",
    "y_pred1_test = np.load('tmp/data/y_pred_test_UNET10.95th.npy')\n",
    "y_pred4_test = np.load('tmp/data/y_pred_test_UNET40.95th.npy')\n",
    "y_pred1_bool = y_pred1_test >= 0.5\n",
    "y_pred1_bool = y_pred1_bool * 1\n",
    "y_pred4_bool = y_pred4_test >= 0.5\n",
    "y_pred4_bool = y_pred4_bool * 1"
   ]
  },
  {
   "cell_type": "code",
   "execution_count": null,
   "id": "6e0501a8-a352-4130-9ce5-062ce2f3e12d",
   "metadata": {},
   "outputs": [],
   "source": [
    "#select one day # e.g. select the flood in July 2021, days: 12-15\n",
    "idx = np.where(times == '2021-07-14')"
   ]
  },
  {
   "cell_type": "code",
   "execution_count": null,
   "id": "5f0d06b6-bc91-4805-a55c-73f978734f55",
   "metadata": {},
   "outputs": [],
   "source": [
    "idx = int(idx[0])"
   ]
  },
  {
   "cell_type": "code",
   "execution_count": null,
   "id": "bfaf39ef-6258-491c-ae25-48290e8de2f2",
   "metadata": {},
   "outputs": [],
   "source": [
    "#select one day and plot\n",
    "fig, ax = plt.subplots(figsize=(14, 8), ncols=2, nrows=1)\n",
    "plot_map(ax[0], lons_x, lats_y, dg_test_Y_xtrm[idx,:,:,0], title=\"True\", vmin=0, vmax=1,  show_colorbar=False)\n",
    "plot_map(ax[1], lons_x, lats_y, y_pred4_bool[idx,:,:], title=\"Predicted UNet4\", vmin=0, vmax=1, show_colorbar=False)"
   ]
  },
  {
   "cell_type": "code",
   "execution_count": null,
   "id": "601b368e-c90c-440d-bc0e-5c5a93605a5f",
   "metadata": {},
   "outputs": [],
   "source": [
    "fig.savefig('figures/14July2021_predicted_true_nocolorbar.pdf')"
   ]
  },
  {
   "cell_type": "code",
   "execution_count": null,
   "id": "a4ab5d81-682e-4c6d-89ba-e28043264059",
   "metadata": {},
   "outputs": [],
   "source": [
    "# As in the main notebook, also analyse the day with the highest amoung of observed precipitation (it corresponds to Hurricane Leslie that evolved to storms-reported heavy precipitation\n",
    "# Get the index of the max # of extremes\n",
    "i_max_obs = np.argmax(np.sum(dg_test_Y_xtrm, axis=(1,2)))"
   ]
  },
  {
   "cell_type": "code",
   "execution_count": null,
   "id": "8942fd0d-6000-483d-9ff6-6c7464ea41f9",
   "metadata": {},
   "outputs": [],
   "source": [
    "#select one day and plot\n",
    "fig, ax = plt.subplots(figsize=(14, 8), ncols=2, nrows=1)\n",
    "plot_map(ax[0], lons_x, lats_y, dg_test_Y_xtrm[i_max_obs,:,:,0], title=\"True\", vmin=0, vmax=1,  show_colorbar=False)\n",
    "plot_map(ax[1], lons_x, lats_y, y_pred4_bool[i_max_obs,:,:], title=\"Predicted UNet4\", vmin=0, vmax=1, show_colorbar=False)"
   ]
  },
  {
   "cell_type": "code",
   "execution_count": null,
   "id": "c966c1c8-b878-45c1-8bb3-125befce85e3",
   "metadata": {},
   "outputs": [],
   "source": [
    "fig, ax = plt.subplots(figsize=(14, 8), ncols=2, nrows=1)\n",
    "plot_map(ax[0], lons_x, lats_y, dg_test_Y_xtrm[i_max_obs +2 ,:,:,0], title=\"True\", vmin=0, vmax=1,  show_colorbar=False)\n",
    "plot_map(ax[1], lons_x, lats_y, y_pred4_bool[i_max_obs +2 ,:,:], title=\"Predicted UNet4\", vmin=0, vmax=1, show_colorbar=False)"
   ]
  },
  {
   "cell_type": "code",
   "execution_count": null,
   "id": "5284d64b-33e5-4f77-b4f5-16225011accf",
   "metadata": {},
   "outputs": [],
   "source": [
    "nx = dg_test_X.shape[1]\n",
    "ny = dg_test_X.shape[2]\n",
    "nchans = dg_test_X.shape[3]"
   ]
  },
  {
   "cell_type": "code",
   "execution_count": null,
   "id": "b42d7f54-9228-4824-a81f-c4b25e7e237b",
   "metadata": {},
   "outputs": [],
   "source": [
    "###Get the samples to analyze and choose a date to analyze\n",
    "my_sample = dg_test_X[idx,:,:,:]\n",
    "n_samples_to_analyze = 1\n",
    "# Get the sample\n",
    "my_sample = my_sample.reshape(n_samples_to_analyze,nx,ny,nchans)\n",
    "# my  prediction for that sample\n",
    "#my_estimate = y_pred_test[idx,:]"
   ]
  },
  {
   "cell_type": "code",
   "execution_count": null,
   "id": "29bd77da-4ee5-43ab-bef0-6877c92a89b1",
   "metadata": {},
   "outputs": [],
   "source": [
    "i_max_obs=1016"
   ]
  },
  {
   "cell_type": "code",
   "execution_count": null,
   "id": "d1f6aa01-b617-443c-be5c-21d0e5357b93",
   "metadata": {},
   "outputs": [],
   "source": [
    "# event 2021\n",
    "rel_U4_alpha_2021= calLRP(dg_test_X[idx-1:idx+2,:,:,:],m.model, 'a1b0' )\n",
    "# event 2018\n",
    "rel_U4_alpha_2018= calLRP(dg_test_X[i_max_obs:i_max_obs+3,:,:,:],m.model, 'a1b0' )"
   ]
  },
  {
   "cell_type": "code",
   "execution_count": null,
   "id": "98780306-986a-4de2-88a4-1c6e5e97135c",
   "metadata": {},
   "outputs": [],
   "source": [
    "# Testing with other methods\n",
    "#rel_U4= calLRP(dg_test_X[i_max_obs:i_max_obs+4,:,:,:],m.model, 'deep_taylor' )\n",
    "#rel_U4_grad= calLRP(dg_test_X[i_max_obs:i_max_obs+4,:,:,:],m.model, 'gradient', False )"
   ]
  },
  {
   "cell_type": "code",
   "execution_count": null,
   "id": "76fcb99f-1e91-4765-8a6c-0f5849d4dde3",
   "metadata": {
    "tags": []
   },
   "outputs": [],
   "source": [
    "plot_xr_rel(tes_U4_alpha[0,:,:,:], lats_y, lons_x, conf['varnames'], 'highest_amount_precip_alpha_day0')"
   ]
  },
  {
   "cell_type": "code",
   "execution_count": null,
   "id": "a47edee1-0d79-4926-909c-9c8d2f76d5e9",
   "metadata": {
    "tags": []
   },
   "outputs": [],
   "source": [
    "#Plot input dadta\n",
    "plot_xr_rel(dg_test_X[i_max_obs], lats_y, lons_x, conf['varnames'], 'highest_amount_precip', cmap = 'viridis', plot=False)"
   ]
  },
  {
   "cell_type": "code",
   "execution_count": null,
   "id": "851513c1-b8d7-4d0e-ae4a-d42ae405a26c",
   "metadata": {},
   "outputs": [],
   "source": [
    "# Plot average of relevance -all input variables\n",
    "rel_U4_avg2021 = rel_U4_alpha_2021.mean(axis=3)"
   ]
  },
  {
   "cell_type": "code",
   "execution_count": null,
   "id": "3e6a35cb-ed20-4bd7-9eb2-8e65c5ef6c71",
   "metadata": {},
   "outputs": [],
   "source": [
    "idates21 = times[idx-1:idx+2]"
   ]
  },
  {
   "cell_type": "code",
   "execution_count": null,
   "id": "1f1f7a87-d71a-41ad-8749-5e69db49febc",
   "metadata": {},
   "outputs": [],
   "source": [
    "idates21"
   ]
  },
  {
   "cell_type": "code",
   "execution_count": null,
   "id": "0aa477c8-0dc1-4348-b32a-3a01abb2ac54",
   "metadata": {
    "tags": []
   },
   "outputs": [],
   "source": [
    "mx= xr.DataArray(rel_U4_avg2021, dims=[\"time\",\"lat\", \"lon\"],\n",
    "                  coords=dict(time=idates21, lat = lats_y, \n",
    "            lon = lons_x))\n",
    "g = mx.plot.pcolormesh(\"lon\", \"lat\", col=\"time\", col_wrap=3, robust=True, cmap='Reds',\n",
    "    yincrease = False, extend='max',figsize=(20, 8),  cbar_kwargs={\"orientation\": \"vertical\",\"shrink\": 0.6,\"aspect\": 15})\n",
    "    #figsize=(14, 12)\n",
    "for ax, title in zip(g.axes.flat, idates21):\n",
    "    world = gpd.read_file(gpd.datasets.get_path('naturalearth_lowres'))\n",
    "    world.boundary.plot(ax=ax, lw=1, color='k')\n",
    "    ax.set_xlim(min(lons_x), max(lons_x))\n",
    "    ax.set_title(title)\n",
    "    ax.set_ylim(min(lats_y), max(lats_y))\n",
    "plt.savefig('figures/episode_2021_storms.pdf')"
   ]
  },
  {
   "cell_type": "code",
   "execution_count": null,
   "id": "c6b13bef-5458-448d-9575-0bbcdc2ec0d1",
   "metadata": {},
   "outputs": [],
   "source": [
    "rel_U4_avg2018 = rel_U4_alpha_2018.mean(axis=3)"
   ]
  },
  {
   "cell_type": "code",
   "execution_count": null,
   "id": "64b222a6-9839-4dc4-937e-f5cb2ccc5316",
   "metadata": {},
   "outputs": [],
   "source": [
    "rel_U4_avg2018.shape"
   ]
  },
  {
   "cell_type": "code",
   "execution_count": null,
   "id": "290534c8-f613-4c10-b577-318c55543690",
   "metadata": {},
   "outputs": [],
   "source": [
    "# Plot averages"
   ]
  },
  {
   "cell_type": "code",
   "execution_count": null,
   "id": "798738c9-a93c-4cda-956a-80657f52af13",
   "metadata": {},
   "outputs": [],
   "source": [
    "idates = times[i_max_obs:i_max_obs+3]"
   ]
  },
  {
   "cell_type": "code",
   "execution_count": null,
   "id": "e742f2b3-ef67-4e1d-a376-06af5a21156a",
   "metadata": {},
   "outputs": [],
   "source": [
    "mx= xr.DataArray(rel_U4_avg2018, dims=[\"time\",\"lat\", \"lon\"],\n",
    "                  coords=dict(time=idates, lat = lats_y, \n",
    "            lon = lons_x))\n",
    "g = mx.plot.pcolormesh(\"lon\", \"lat\", col=\"time\", col_wrap=3, robust=True, cmap='Reds',\n",
    "    yincrease = False, extend='max',figsize=(20, 8),  cbar_kwargs={\"orientation\": \"vertical\",\"shrink\": 0.6,\"aspect\": 15})\n",
    "    #figsize=(14, 12)\n",
    "for ax, title in zip(g.axes.flat, idates):\n",
    "    world = gpd.read_file(gpd.datasets.get_path('naturalearth_lowres'))\n",
    "    world.boundary.plot(ax=ax, lw=1, color='k')\n",
    "    ax.set_xlim(min(lons_x), max(lons_x))\n",
    "    ax.set_title(title)\n",
    "    ax.set_ylim(min(lats_y), max(lats_y))\n",
    "plt.savefig('figures/episode_2018_storms.pdf')"
   ]
  },
  {
   "cell_type": "code",
   "execution_count": null,
   "id": "e2f114cd-3a47-49eb-89a6-fe0b4c94cf59",
   "metadata": {},
   "outputs": [],
   "source": []
  }
 ],
 "metadata": {
  "kernelspec": {
   "display_name": "Python 3.6",
   "language": "python",
   "name": "py36"
  },
  "language_info": {
   "codemirror_mode": {
    "name": "ipython",
    "version": 3
   },
   "file_extension": ".py",
   "mimetype": "text/x-python",
   "name": "python",
   "nbconvert_exporter": "python",
   "pygments_lexer": "ipython3",
   "version": "3.6.13"
  }
 },
 "nbformat": 4,
 "nbformat_minor": 5
}
