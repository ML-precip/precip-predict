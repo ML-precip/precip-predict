{
 "cells": [
  {
   "cell_type": "code",
   "execution_count": null,
   "id": "a743a248-b108-46cc-a787-b6056faf5c47",
   "metadata": {},
   "outputs": [],
   "source": [
    "import os\n",
    "import glob\n",
    "import numpy as np\n",
    "from numpy import ones\n",
    "import pandas as pd\n",
    "#import geopandas as gpd\n",
    "import xarray as xr\n",
    "import dask\n",
    "import datetime\n",
    "import math\n",
    "import pathlib\n",
    "import hashlib\n",
    "import yaml\n",
    "import re\n",
    "import pdb\n",
    "import logging\n",
    "from tqdm import tqdm\n",
    "\n",
    "\n",
    "dask.config.set({'array.slicing.split_large_chunks': False})\n",
    "\n",
    "# To make this notebook's output stable across runs\n",
    "np.random.seed(42)\n",
    "\n",
    "# Config matplotlib\n",
    "%matplotlib inline\n",
    "import matplotlib as mpl\n",
    "import matplotlib.pyplot as plt\n",
    "\n",
    "\n",
    "# Custom utils\n",
    "from utils.utils_data import *\n",
    "from utils.utils_ml import *\n",
    "from utils.utils_resnet import *\n",
    "from utils.utils_plot import *\n",
    "from utils.utils_unet import *\n",
    "from utils.utils_RF import create_xarray_frompred\n"
   ]
  },
  {
   "cell_type": "code",
   "execution_count": null,
   "id": "45072eaf-7c25-42e9-a295-b141920f8ebc",
   "metadata": {},
   "outputs": [],
   "source": [
    "import yaml\n",
    "conf = yaml.safe_load(open(\"config.yaml\"))"
   ]
  },
  {
   "cell_type": "code",
   "execution_count": null,
   "id": "6fd1c501-6548-46b7-8050-ab60e861ce6b",
   "metadata": {},
   "outputs": [],
   "source": [
    "# Load data\n",
    "lons_x = np.load('tmp/data/lons_y.npy')\n",
    "lats_y = np.load('tmp/data/lats_y.npy')\n",
    "# load predictors\n",
    "dg_train_X = np.array(xr.open_dataarray('tmp/data/dg_train_X.nc'))\n",
    "dg_test_X = np.array(xr.open_dataarray('tmp/data/dg_test_X.nc'))\n",
    "# load amount of precipitation\n",
    "dg_train_Y = np.array(xr.open_dataarray('tmp/data/dg_train_Y.nc')).squeeze()\n",
    "dg_test_Y = np.array(xr.open_dataarray('tmp/data/dg_test_Y.nc')).squeeze()\n",
    "# load extremes\n",
    "dg_train_Y_xtrm = np.array(xr.open_dataarray('tmp/data/dg_train_Y_xtrm0.95th.nc')).squeeze()\n",
    "dg_test_Y_xtrm = np.array(xr.open_dataarray('tmp/data/dg_test_Y_xtrm0.95th.nc')).squeeze()\n",
    "# load percentiles\n",
    "qq = np.load('tmp/data/qq_095.npy')"
   ]
  },
  {
   "cell_type": "code",
   "execution_count": null,
   "id": "86aa3c76-e8bb-4df8-ac11-5ba0326772af",
   "metadata": {},
   "outputs": [],
   "source": [
    "times = np.arange(np.datetime64('2016-01-01'), np.datetime64('2022-01-01'))\n",
    "#times = pd.to_datetime(times)"
   ]
  },
  {
   "cell_type": "code",
   "execution_count": null,
   "id": "28811dbd-6ff9-4ec2-a676-f3c30c2c1519",
   "metadata": {},
   "outputs": [],
   "source": [
    "# Still need to add RF\n",
    "models_report = ['RF','Pan-orig','UNET2','RaNet']"
   ]
  },
  {
   "cell_type": "code",
   "execution_count": null,
   "id": "9acc54a4-e06e-418e-af30-63918786b792",
   "metadata": {},
   "outputs": [],
   "source": [
    "def create_xarray_frompred(preds, time, lats_y, lons_x):\n",
    "    \"\"\"Function to create the xarray 3D of predictions from the outputs from the xr.apply_ufunc\n",
    "       Args: preds are the prediction for each grid cell that contains the output values\"\"\"\n",
    "    # create the xarray of predictions\n",
    "    mx= xr.DataArray(np.zeros((time, len(lats_y),len(lons_x))), dims=[\"time\",\"lat\", \"lon\"],\n",
    "                  coords=dict(lat = lats_y, \n",
    "                  lon = lons_x))\n",
    "    # put the outputs for each latitude and longitue, \n",
    "    for ilat in range(len(lats_y)):\n",
    "        for ilon in range(len(lons_x)):\n",
    "            if preds[ilat,ilon] is None:\n",
    "                mx[:,ilat,ilon] = np.nan\n",
    "            else:\n",
    "                mx[:,ilat,ilon] = preds[ilat, ilon]\n",
    "\n",
    "    #pred_matrix.rename({'dim_0':'time', 'dim_1': 'lat','dim_2': 'lon'})  \n",
    "\n",
    "    return(mx)"
   ]
  },
  {
   "cell_type": "code",
   "execution_count": null,
   "id": "dbacbea6-08f4-470d-87b0-182754cb5626",
   "metadata": {},
   "outputs": [],
   "source": [
    "# Store the mean values in a table\n",
    "df = pd.DataFrame(columns = ['model', 'cor', 'IoU', 'Iou_xtrm'])"
   ]
  },
  {
   "cell_type": "code",
   "execution_count": null,
   "id": "9f6647ec-727d-4e6e-8761-68b1d680e5c8",
   "metadata": {
    "tags": []
   },
   "outputs": [],
   "source": [
    "xr_true = convert_to_xarray(dg_test_Y, lats_y, lons_x, times)\n",
    "\n",
    "n_rows = len(models_report)\n",
    "fig, axs = plt.subplots(n_rows, 3, figsize=(12, n_rows*3))\n",
    "\n",
    "for idx, m_id in enumerate(models_report):\n",
    "    print(m_id)\n",
    "    \n",
    "    pred_test = np.load(f'tmp/data/predictions/y_pred_test_{m_id}.npy',allow_pickle=True)\n",
    "    # for extremes\n",
    "    #pred_train_xtrm = np.load(f'tmp/data/predictions/y_pred_train_xtrm_{m}.npy')\n",
    "    pred_test_xtrm = np.load(f'tmp/data/predictions/y_pred_test_xtrm_{m_id}.npy', allow_pickle=True)\n",
    "    \n",
    "    if (m_id == 'RF'):\n",
    "        pred_test = create_xarray_frompred(pred_test, len(times), lats_y, lons_x)\n",
    "        pred_test_xtrm = create_xarray_frompred(pred_test_xtrm, len(times), lats_y, lons_x)\n",
    "    \n",
    "    y_pred_bool = pred_test > qq\n",
    "    # Multiply to transform to numeric values\n",
    "    y_pred_bool = y_pred_bool * 1\n",
    "    # for the correlation\n",
    "    xr_pred = convert_to_xarray(pred_test, lats_y, lons_x, times)\n",
    "   \n",
    "\n",
    "    cc = xr.apply_ufunc(\n",
    "        get_corrcoef,    # First the function\n",
    "        xr_true, xr_pred,        # then the input data arrays\n",
    "        input_core_dims=[['time'], ['time']],\n",
    "        vectorize=True)\n",
    "\n",
    "    test_iou=IoU(dg_test_Y_xtrm, y_pred_bool)\n",
    "\n",
    "    \n",
    "  \n",
    "    prec_xtrm = np.where(pred_test_xtrm > 0.5, 1, 0)\n",
    "    test_iou_xtrm=IoU(dg_test_Y_xtrm, prec_xtrm)\n",
    "    \n",
    "    # Plotting for each DNN-as Fig.1\n",
    "    \n",
    "    plot_map(axs[idx,0], lons_x, lats_y, cc, vmin = 0, vmax = 1, cmap = \"RdBu_r\", title=f\"Correlation - {m_id}\")\n",
    "    plot_map(axs[idx,1], lons_x, lats_y, test_iou, vmin = 0, vmax = 100, title=f\"IoU - {m_id}\")\n",
    "    plot_map(axs[idx,2], lons_x, lats_y, test_iou_xtrm, vmin = 0, vmax = 100, title=f\"IoU - {m_id}\")\n",
    "    \n",
    "    # add in the table\n",
    "    df= df.append({'model': m_id}, ignore_index=True)\n",
    "    df.at[df.index[-1], 'cor'] = np.nanmean(cc)\n",
    "    df.at[df.index[-1], 'IoU'] = np.nanmean(test_iou)\n",
    "    df.at[df.index[-1], 'Iou_xtrm'] = np.nanmean(test_iou_xtrm)\n",
    "\n",
    "fig.tight_layout()\n",
    "plt.savefig('figures/corr_patterns.pdf')"
   ]
  },
  {
   "cell_type": "code",
   "execution_count": null,
   "id": "b0a7aca6-4c8d-42b0-85f9-10b85da04884",
   "metadata": {},
   "outputs": [],
   "source": [
    "df"
   ]
  },
  {
   "cell_type": "code",
   "execution_count": null,
   "id": "b1299af4-2a76-40f8-aaa7-9e51cec9ca45",
   "metadata": {},
   "outputs": [],
   "source": []
  },
  {
   "cell_type": "code",
   "execution_count": null,
   "id": "8ce32bac-648c-4f28-b395-42cbffeda84a",
   "metadata": {},
   "outputs": [],
   "source": []
  }
 ],
 "metadata": {
  "kernelspec": {
   "display_name": "Python 3 (ipykernel)",
   "language": "python",
   "name": "python3"
  },
  "language_info": {
   "codemirror_mode": {
    "name": "ipython",
    "version": 3
   },
   "file_extension": ".py",
   "mimetype": "text/x-python",
   "name": "python",
   "nbconvert_exporter": "python",
   "pygments_lexer": "ipython3",
   "version": "3.9.7"
  }
 },
 "nbformat": 4,
 "nbformat_minor": 5
}
