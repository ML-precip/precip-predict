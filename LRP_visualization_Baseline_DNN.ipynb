{
 "cells": [
  {
   "cell_type": "markdown",
   "id": "95adf5df-9184-493e-8217-b55f36473a89",
   "metadata": {},
   "source": [
    "### Interpretability of DNN: Visualization of extreme events\n",
    "##### Assessing baseline"
   ]
  },
  {
   "cell_type": "code",
   "execution_count": 3,
   "id": "98d51e0b-c11d-4b08-8c2d-afce59622381",
   "metadata": {},
   "outputs": [],
   "source": [
    "# Important to note:!\n",
    "# The use of innvestigate requires specific versions of python and keras\n",
    "# The model must be built according to the versions, so the weights are saved separately\n",
    "# import necesssary libaries\n",
    "from pathlib import Path\n",
    "import pathlib\n",
    "import warnings\n",
    "warnings.filterwarnings('ignore')\n",
    "\n",
    "import matplotlib.pyplot as plt\n",
    "import xarray as xr\n",
    "import numpy as np\n",
    "import pandas as pd\n",
    "import seaborn as sns\n",
    "#for plotting\n",
    "import geopandas as gpd\n",
    "\n",
    "from keras.models import load_model\n",
    "from keras.preprocessing.image import ImageDataGenerator\n",
    "\n",
    "from utils.utils_unet import *\n",
    "from utils.utils_plot import *\n",
    "from utils.DNN_models import *\n",
    "from utils.utils_LRP import *\n",
    "\n",
    "\n",
    "import innvestigate\n",
    "import innvestigate.utils as iutils\n",
    "import innvestigate.applications.imagenet\n",
    "import innvestigate.utils.visualizations as ivis\n",
    "\n",
    "import warnings\n",
    "with warnings.catch_warnings():\n",
    "    warnings.simplefilter('ignore')  #catch FutureWarnings so that I can find actual errors!\n",
    "    \n",
    "    import keras\n",
    "    import keras.backend as K\n",
    "    import keras.models\n",
    "    #import tensorflow as tf  # this is new for custom loss function\n",
    "    from keras.models import load_model\n",
    "    \n",
    "    from keras.layers import Input, Dense, Activation, Dropout, Flatten, MaxPooling2D, Conv2D, Conv2DTranspose, UpSampling2D, Reshape\n",
    "    from keras.models import Model\n",
    "    \n",
    "    from keras.utils import CustomObjectScope\n",
    "    from keras.initializers import glorot_uniform\n",
    "    import yaml"
   ]
  },
  {
   "cell_type": "code",
   "execution_count": 4,
   "id": "3d8a4126-97b2-4f46-8f14-a7ebe2422166",
   "metadata": {},
   "outputs": [
    {
     "name": "stdout",
     "output_type": "stream",
     "text": [
      "X shape: [46, 56, 31]\n",
      "y shape: [46, 56, 1]\n"
     ]
    }
   ],
   "source": [
    "conf = yaml.safe_load(open(\"config.yaml\"))\n",
    "i_shape = conf['i_shape']\n",
    "o_shape = conf['o_shape']\n",
    "\n",
    "print(f'X shape: {i_shape}')\n",
    "print(f'y shape: {o_shape}')\n",
    "output_channels = conf['output_channels']\n",
    "num_filters = conf['num_filters']\n",
    "use_batchnorm = conf['use_batchnorm']\n",
    "dropout = conf['dropout']\n",
    "lr = conf['lr']\n",
    "\n",
    "name_model = conf['model']\n",
    "output_scaling = 1\n",
    "output_crop = None"
   ]
  },
  {
   "cell_type": "code",
   "execution_count": 12,
   "id": "df23810f-9b01-423e-95e0-db87fc9f89b6",
   "metadata": {},
   "outputs": [],
   "source": [
    "# load data\n",
    "# load coordinates\n",
    "lons_x = np.load('tmp/data/lons_y.npy')\n",
    "lats_y = np.load('tmp/data/lats_y.npy')\n"
   ]
  },
  {
   "cell_type": "code",
   "execution_count": 13,
   "id": "23515412-1fa2-4aba-9f88-bcc26aba774c",
   "metadata": {},
   "outputs": [],
   "source": [
    "# Open the LRP data\n",
    "lrpz_test = np.load('tmp/LRP/lrpz_test_DNN_UNET4.npy')\n",
    "lrp_comp_test = np.load('tmp/LRP/lrpcomp_test_DNN_UNET4.npy')\n",
    "lrp_compflat_test = np.load('tmp/LRP/lrpcompflat_test_DNN_UNET4.npy')"
   ]
  },
  {
   "cell_type": "code",
   "execution_count": 14,
   "id": "33ef96dc-ac18-4fdd-ab3b-22a59486f5bb",
   "metadata": {},
   "outputs": [],
   "source": [
    "BS_lrpz_test = np.load('tmp/LRP/BS_lrpz_test_DNN_UNET4.npy')\n",
    "BS_lrp_comp_test = np.load('tmp/LRP/BS_lrpcomp_test_DNN_UNET4.npy')\n",
    "BS_lrp_compflat_test = np.load('tmp/LRP/BS_lrpcompflat_test_DNN_UNET4.npy')"
   ]
  },
  {
   "cell_type": "code",
   "execution_count": null,
   "id": "68eeb024-5180-4650-a71a-dab8cde226c3",
   "metadata": {},
   "outputs": [],
   "source": []
  }
 ],
 "metadata": {
  "kernelspec": {
   "display_name": "Python 3.6",
   "language": "python",
   "name": "py36"
  },
  "language_info": {
   "codemirror_mode": {
    "name": "ipython",
    "version": 3
   },
   "file_extension": ".py",
   "mimetype": "text/x-python",
   "name": "python",
   "nbconvert_exporter": "python",
   "pygments_lexer": "ipython3",
   "version": "3.6.13"
  }
 },
 "nbformat": 4,
 "nbformat_minor": 5
}
